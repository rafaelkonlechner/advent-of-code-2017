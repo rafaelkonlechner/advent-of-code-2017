{
 "cells": [
  {
   "cell_type": "markdown",
   "metadata": {},
   "source": [
    "# Advent of Code 2017\n",
    "In this notebook, I will collect the solutions to the puzzles appearing on [Advent of Code](https://adventofcode.com/2017) 2017. Unlike [Peter Norvig](https://github.com/norvig/pytudes/blob/master/ipynb/Advent%20of%20Code.ipynb), I will solve the puzzles in *Kotlin*."
   ]
  },
  {
   "cell_type": "markdown",
   "metadata": {},
   "source": [
    "## Prepraration\n",
    "I will facilitate a collection of convenience functions and *Junit* for testing the solutions."
   ]
  },
  {
   "cell_type": "code",
   "execution_count": 1,
   "metadata": {
    "collapsed": true
   },
   "outputs": [],
   "source": [
    "@file:DependsOnMaven(\"junit:junit:4.12\")\n",
    "\n",
    "import org.junit.Assert.assertEquals\n",
    "import java.io.BufferedReader\n",
    "import java.io.InputStreamReader\n",
    "import java.net.HttpURLConnection\n",
    "import java.net.URL\n",
    "\n",
    "/**\n",
    " * GET a multi-line text file\n",
    " */\n",
    "fun getContent(url: URL): String {\n",
    "    with(url.openConnection() as HttpURLConnection) {\n",
    "        BufferedReader(InputStreamReader(inputStream)).use {\n",
    "            return it.readText()\n",
    "        }\n",
    "    }\n",
    "}"
   ]
  },
  {
   "cell_type": "markdown",
   "metadata": {},
   "source": [
    "## [Day 1](https://adventofcode.com/2017/day/1): Inverse Captcha\n",
    "Given a sequence of digits, find the sum of all digits that match the next digit in the list. The list is circular, so the digit after the last digit is the first digit in the list."
   ]
  },
  {
   "cell_type": "code",
   "execution_count": 2,
   "metadata": {
    "collapsed": false
   },
   "outputs": [
    {
     "data": {
      "text/plain": [
       "1097"
      ]
     },
     "execution_count": 2,
     "metadata": {},
     "output_type": "execute_result"
    }
   ],
   "source": [
    "/**\n",
    " * Split a sequence of digits into a list of digits.\n",
    " */\n",
    "fun split(seq: String) = seq.map { it.toString().toInt() }\n",
    "\n",
    "assert(split(\"123\") == listOf(1, 2, 3))\n",
    "\n",
    "/**\n",
    " * Solve captcha according to the rule stated above.\n",
    " */\n",
    "fun solveCaptcha(seq: List<Int>): Int {\n",
    "    var sum = 0\n",
    "    for (i in seq.indices) {\n",
    "        if (seq[i] == seq[(i + 1) % seq.size]) {\n",
    "            sum += seq[i]\n",
    "        }\n",
    "    }\n",
    "    return sum\n",
    "}\n",
    "\n",
    "/**\n",
    " * Test cases from the assignment:\n",
    " */\n",
    "val tests = listOf(Pair(\"1122\", 3), Pair(\"1111\", 4), Pair(\"1234\", 0), Pair(\"91212129\", 9))\n",
    "\n",
    "for (test in tests) {\n",
    "    assertEquals(test.second, solveCaptcha(split(test.first)))\n",
    "}\n",
    "\n",
    "val input = \"818275977931166178424892653779931342156567268946849597948944469863818248114327524824136924486891794739281668741616818614613222585132742386168687517939432911753846817997473555693821316918473474459788714917665794336753628836231159578734813485687247273288926216976992516314415836985611354682821892793983922755395577592859959966574329787693934242233159947846757279523939217844194346599494858459582798326799512571365294673978955928416955127211624234143497546729348687844317864243859238665326784414349618985832259224761857371389133635711819476969854584123589566163491796442167815899539788237118339218699137497532932492226948892362554937381497389469981346971998271644362944839883953967698665427314592438958181697639594631142991156327257413186621923369632466918836951277519421695264986942261781256412377711245825379412978876134267384793694756732246799739464721215446477972737883445615664755923441441781128933369585655925615257548499628878242122434979197969569971961379367756499884537433839217835728263798431874654317137955175565253555735968376115749641527957935691487965161211853476747758982854811367422656321836839326818976668191525884763294465366151349347633968321457954152621175837754723675485348339261288195865348545793575843874731785852718281311481217515834822185477982342271937155479432673815629144664144538221768992733498856934255518875381672342521819499939835919827166318715849161715775427981485233467222586764392783699273452228728667175488552924399518855743923659815483988899924199449721321589476864161778841352853573584489497263216627369841455165476954483715112127465311353411346132671561568444626828453687183385215975319858714144975174516356117245993696521941589168394574287785233685284294357548156487538175462176268162852746996633977948755296869616778577327951858348313582783675149343562362974553976147259225311183729415381527435926224781181987111454447371894645359797229493458443522549386769845742557644349554641538488252581267341635761715674381775778868374988451463624332123361576518411234438681171864923916896987836734129295354684962897616358722633724198278552339794629939574841672355699222747886785616814449297817352118452284785694551841431869545321438468118\"\n",
    "\n",
    "solveCaptcha(split(input))"
   ]
  },
  {
   "cell_type": "markdown",
   "metadata": {
    "collapsed": true
   },
   "source": [
    "For **Part 2**, instead of considering the next digit, consider the digit halfway around the circular list. That is, if your list contains 10 items, only include a digit in your sum if the digit `10/2 = 5` steps forward matches it. Fortunately, your list has an even number of elements.\n",
    "\n"
   ]
  },
  {
   "cell_type": "code",
   "execution_count": 3,
   "metadata": {
    "collapsed": false
   },
   "outputs": [
    {
     "data": {
      "text/plain": [
       "1188"
      ]
     },
     "execution_count": 3,
     "metadata": {},
     "output_type": "execute_result"
    }
   ],
   "source": [
    "fun solveCaptchaTwo(seq: List<Int>): Int {\n",
    "    var sum = 0\n",
    "    for (i in seq.indices) {\n",
    "        if (seq[i] == seq[(i + (seq.size / 2)) % seq.size]) {\n",
    "            sum += seq[i]\n",
    "        }\n",
    "    }\n",
    "    return sum\n",
    "}\n",
    "solveCaptchaTwo(split(input))"
   ]
  },
  {
   "cell_type": "markdown",
   "metadata": {
    "collapsed": true
   },
   "source": [
    "## [Day 2](https://adventofcode.com/2017/day/2): Corruption Checksum\n",
    "For each row, determine the difference between the largest value and the smallest value; the checksum is the sum of all of these differences."
   ]
  },
  {
   "cell_type": "code",
   "execution_count": 4,
   "metadata": {
    "collapsed": false
   },
   "outputs": [
    {
     "data": {
      "text/plain": [
       "45972"
      ]
     },
     "execution_count": 4,
     "metadata": {},
     "output_type": "execute_result"
    }
   ],
   "source": [
    "/**\n",
    " * Parse a sequence of line- and tab-separated numbers into a two-dimensional list. \n",
    " */\n",
    "fun parse(input: String): List<List<Int>> {\n",
    "    return input.split(\"\\n\").map { it.split(\"\\t\").filter { it.isNotEmpty() }.map { it.toInt() } }\n",
    "}\n",
    "\n",
    "assertEquals(listOf(listOf(1, 2), listOf(3, 4)), parse(\"1\\t2\\n3\\t4\"))\n",
    "\n",
    "/**\n",
    " * Compute the checksum as the sum of the difference between the max and the min value of each row.\n",
    " */\n",
    "fun checksum(input: List<List<Int>>): Int {\n",
    "    return input.map {\n",
    "        (it.max() ?: 0) - (it.min() ?: 0)\n",
    "    }.sum()\n",
    "}\n",
    "\n",
    "val test = \"\"\"\n",
    "5\t1\t9\t5\n",
    "7\t5\t3\n",
    "2\t4\t6\t8\n",
    "\"\"\"\n",
    "\n",
    "assertEquals(18, checksum(parse(test)))\n",
    "\n",
    "val input = \"\"\"\n",
    "515\t912\t619\t2043\t96\t93\t2242\t1385\t2110\t860\t2255\t621\t1480\t118\t1230\t99\n",
    "161\t6142\t142\t1742\t237\t6969\t211\t4314\t5410\t4413\t3216\t6330\t261\t3929\t5552\t109\n",
    "1956\t4470\t3577\t619\t105\t3996\t128\t1666\t720\t4052\t108\t132\t2652\t306\t1892\t1869\n",
    "2163\t99\t2257\t895\t112\t1771\t1366\t1631\t2064\t2146\t103\t865\t123\t1907\t2362\t876\n",
    "1955\t3260\t1539\t764\t185\t5493\t5365\t5483\t4973\t175\t207\t1538\t4824\t205\t1784\t2503\n",
    "181\t3328\t2274\t3798\t1289\t2772\t4037\t851\t1722\t3792\t175\t603\t725\t158\t2937\t174\n",
    "405\t247\t2083\t956\t725\t258\t2044\t206\t2054\t561\t2223\t2003\t2500\t355\t306\t2248\n",
    "837\t937\t225\t1115\t446\t451\t160\t1219\t56\t61\t62\t922\t58\t1228\t1217\t1302\n",
    "1371\t1062\t2267\t111\t135\t2113\t1503\t2130\t1995\t2191\t129\t2494\t2220\t739\t138\t1907\n",
    "3892\t148\t2944\t371\t135\t1525\t3201\t3506\t3930\t3207\t115\t3700\t2791\t597\t3314\t132\n",
    "259\t162\t186\t281\t210\t180\t184\t93\t135\t208\t88\t178\t96\t25\t103\t161\n",
    "1080\t247\t1036\t936\t108\t971\t908\t1035\t123\t974\t103\t1064\t129\t1189\t1089\t938\n",
    "148\t1874\t122\t702\t922\t2271\t123\t111\t454\t1872\t2142\t2378\t126\t813\t1865\t1506\n",
    "842\t267\t230\t1665\t2274\t236\t262\t1714\t3281\t4804\t4404\t3833\t661\t4248\t3893\t1105\n",
    "1112\t1260\t809\t72\t1104\t156\t104\t1253\t793\t462\t608\t84\t99\t1174\t449\t929\n",
    "707\t668\t1778\t1687\t2073\t1892\t62\t1139\t908\t78\t1885\t800\t945\t712\t57\t65\n",
    "\"\"\"\n",
    "\n",
    "checksum(parse(input))"
   ]
  },
  {
   "cell_type": "markdown",
   "metadata": {},
   "source": [
    "For **Part 2** the goal is to find the only two numbers in each row where one evenly divides the other - that is, where the result of the division operation is a whole number. Find those numbers on each line, divide them, and add up each line's result."
   ]
  },
  {
   "cell_type": "code",
   "execution_count": 5,
   "metadata": {
    "collapsed": false
   },
   "outputs": [
    {
     "data": {
      "text/plain": [
       "326"
      ]
     },
     "execution_count": 5,
     "metadata": {},
     "output_type": "execute_result"
    }
   ],
   "source": [
    "/**\n",
    " * Extension: Form all tuples of a Cartesian product with another list.\n",
    " */\n",
    "fun <A, B> List<A>.cartesianProduct(list: List<B>): List<Pair<A, B>> = flatMap { a -> list.map { b -> Pair(a, b) } }\n",
    "\n",
    "val given = listOf(1, 2).cartesianProduct(listOf(\"a\", \"b\"))\n",
    "val expected = listOf(Pair(1, \"a\"), Pair(1, \"b\"), Pair(2 , \"a\"), Pair(2, \"b\"))\n",
    "\n",
    "assertEquals(expected, given)\n",
    "\n",
    "/**\n",
    " * Compute the checksum as the sum of the quotients by the only two evenly dividable numbers of each row.\n",
    " */\n",
    "fun checksumTwo(input: List<List<Int>>): Int {\n",
    "    return input.map { list ->\n",
    "        list.cartesianProduct(list).find { (a, b) -> a != b && a % b == 0 }.let {\n",
    "            (it?.first ?: 0) / (it?.second ?: 1)\n",
    "        }\n",
    "    }.sum()\n",
    "}\n",
    "\n",
    "val test = \"\"\"\n",
    "5\t9\t2\t8\n",
    "9\t4\t7\t3\n",
    "3\t8\t6\t5\n",
    "\"\"\"\n",
    "\n",
    "assertEquals(9, checksumTwo(parse(test)))\n",
    "\n",
    "checksumTwo(parse(input))"
   ]
  },
  {
   "cell_type": "markdown",
   "metadata": {
    "collapsed": true
   },
   "source": [
    "## [Day 3](http://adventofcode.com/2017/day/3): Spiral Memory\n",
    "Each square on the grid is allocated in a spiral pattern starting at a location marked 1 and then counting up while spiraling outward. For example, the first few squares are allocated like this:\n",
    "<table>\n",
    "  <tr>\n",
    "    <td>17</td>\n",
    "    <td>16</td>\n",
    "    <td>15</td>\n",
    "    <td>14</td>\n",
    "    <td>13</td>\n",
    "  </tr>\n",
    "  <tr>\n",
    "    <td>18</td>\n",
    "    <td>5</td>\n",
    "    <td>4</td>\n",
    "    <td>3</td>\n",
    "    <td>12</td>\n",
    "  </tr>\n",
    "  <tr>\n",
    "    <td>19</td>\n",
    "    <td>6</td>\n",
    "    <td>1</td>\n",
    "    <td>2</td>\n",
    "    <td>11</td>\n",
    "  </tr>\n",
    "  <tr>\n",
    "    <td>20</td>\n",
    "    <td>7</td>\n",
    "    <td>8</td>\n",
    "    <td>9</td>\n",
    "    <td>10</td>\n",
    "  </tr>\n",
    "  <tr>\n",
    "    <td>21</td>\n",
    "    <td>22</td>\n",
    "    <td>23</td>\n",
    "    <td>&rarr;</td>\n",
    "    <td>...</td>\n",
    "  </tr>\n",
    "</table>\n",
    "\n",
    "**How many steps** are required to carry the data from the square identified in your puzzle input all the way to the access port?"
   ]
  },
  {
   "cell_type": "markdown",
   "metadata": {},
   "source": [
    "First, some observations: If you consider squares of growing size $n = [3, 5, 7, ...]$ then the bottom right corner of each square will hold the highest value in the square $n^2$. For each $n$, the number of elemens in the circle follows the rule:\n",
    "\n",
    "$$ \\mid c(n)\\mid = \\mid c(n - 1)\\mid + 8$$\n",
    "\n",
    "For an arbitrary number $x$, the circle it belongs to may be determined by:\n",
    "\n",
    "$$\n",
    "c(x) =\n",
    "\\begin{cases}\n",
    "\\lceil\\sqrt{x}\\rceil^2 + 1  & \\text{ if } x \\equiv 0 \\mod 2\\\\\n",
    "\\lceil\\sqrt{x}\\rceil^2      & \\text{ else }\n",
    "\\end{cases}\n",
    "$$\n",
    "\n",
    "<table>\n",
    "  <tr>\n",
    "    <td>37</td>\n",
    "    <td>36</td>\n",
    "    <td>35</td>\n",
    "    <td style=\"background-color: #F9E79F\">34</td>\n",
    "    <td>33</td>\n",
    "    <td>32</td>\n",
    "    <td>31</td>\n",
    "  </tr>\n",
    "  <tr>\n",
    "    <td>38</td>\n",
    "    <td>17</td>\n",
    "    <td>16</td>\n",
    "    <td style=\"background-color: #F9E79F\">15</td>\n",
    "    <td>14</td>\n",
    "    <td>13</td>\n",
    "    <td>30</td>\n",
    "  </tr>\n",
    "  <tr>\n",
    "    <td>39</td>\n",
    "    <td>18</td>\n",
    "    <td>5</td>\n",
    "    <td style=\"background-color: #F9E79F\">4</td>\n",
    "    <td>3</td>\n",
    "    <td>12</td>\n",
    "    <td>29</td>\n",
    "  </tr>\n",
    "  <tr>\n",
    "    <td style=\"background-color: #F9E79F\">40</td>\n",
    "    <td style=\"background-color: #F9E79F\">19</td>\n",
    "    <td style=\"background-color: #F9E79F\">6</td>\n",
    "    <td>1</td>\n",
    "    <td style=\"background-color: #F9E79F\">2</td>\n",
    "    <td style=\"background-color: #F9E79F\">11</td>\n",
    "    <td style=\"background-color: #F9E79F\">28</td>\n",
    "  </tr>\n",
    "  <tr>\n",
    "    <td>41</td>\n",
    "    <td>20</td>\n",
    "    <td>7</td>\n",
    "    <td style=\"background-color: #F9E79F\">8</td>\n",
    "    <td style=\"background-color: #00BFFF\">$3^2$</td>\n",
    "    <td>10</td>\n",
    "    <td>27</td>\n",
    "  </tr>\n",
    "  <tr>\n",
    "    <td>42</td>\n",
    "    <td>21</td>\n",
    "    <td>22</td>\n",
    "    <td style=\"background-color: #F9E79F\">23</td>\n",
    "    <td>24</td>\n",
    "    <td style=\"background-color: #00BFFF\">$5^2$</td>\n",
    "    <td>26</td>\n",
    "  </tr>\n",
    "  <tr>\n",
    "    <td>43</td>\n",
    "    <td>44</td>\n",
    "    <td>45</td>\n",
    "    <td style=\"background-color: #F9E79F\">46</td>\n",
    "    <td>47</td>\n",
    "    <td>48</td>\n",
    "    <td style=\"background-color: #00BFFF\">$7^2$</td>\n",
    "  </tr>\n",
    "</table>"
   ]
  },
  {
   "cell_type": "code",
   "execution_count": 6,
   "metadata": {
    "collapsed": false
   },
   "outputs": [],
   "source": [
    "/**\n",
    " * Position in a 2D Matrix\n",
    " */\n",
    "data class Position2D(val x: Int, val y: Int) {\n",
    "    fun up() = Position2D(x, y + 1)\n",
    "    fun left() = Position2D(x - 1, y)\n",
    "    fun down() = Position2D(x, y - 1)\n",
    "    fun right() = Position2D(x + 1, y)\n",
    "\n",
    "    override fun toString(): String {\n",
    "        return \"[$x,$y]\"\n",
    "    }\n",
    "}\n",
    "\n",
    "// The Kotlin kernel for Jupyter currently does not support `typealias`.\n",
    "\n",
    "// typealias Matrix2D = Map<Position2D, Int>"
   ]
  },
  {
   "cell_type": "markdown",
   "metadata": {},
   "source": [
    "The datatype `Position2D` will represent one coordinate in a 2D matrix. The approach below first computes the (square) ring on which `element` lies, i.e. the square radius around the center point. It utilizes the fact that the Manhatten distance can be determined by reaching the **closest of the two axes** together with the **distance on that axis**. Thus, starting from the `pivot` point in the bottom right corner, the four points on the ring that coincide with the axes need to be determined. This can be done by subtracting four multiples (i.e. $\\{0,1,2,3\\}$) of the length of a side of the square from `pivot`, in addition to a $\\frac{side}{2}$ shift. Finally, the distance to the closest axis point is added to the distance of this axis point to give the Manhattan distance of `element` from the center."
   ]
  },
  {
   "cell_type": "code",
   "execution_count": 7,
   "metadata": {
    "collapsed": false
   },
   "outputs": [
    {
     "data": {
      "text/plain": [
       "326"
      ]
     },
     "execution_count": 7,
     "metadata": {},
     "output_type": "execute_result"
    }
   ],
   "source": [
    "/**\n",
    " * Compute the Manhattan distance to the center of the spiral.\n",
    " */\n",
    "fun manhattanDistance(element: Int): Int {\n",
    "    val ring = Math.ceil(Math.sqrt(element.toDouble())).toInt().let { x ->\n",
    "        if (x % 2 == 0) x + 1 else x\n",
    "    }\n",
    "    val pivot = (ring * ring)\n",
    "    val side = ring - 1\n",
    "    val axis = (0..3).map { pivot - (it * side + side / 2) }\n",
    "    val nearestAxis = axis.find { axis.minBy { Math.abs(it - element) } == it }!!\n",
    "    val distToAxis = Math.abs(nearestAxis - element)\n",
    "    val distToCenter = (ring - 1) / 2\n",
    "    return distToAxis + distToCenter\n",
    "}\n",
    "\n",
    "val tests = listOf(Pair(1, 0), Pair(12, 3), Pair(23, 2), Pair(1024, 31))\n",
    "\n",
    "for (test in tests) {\n",
    "    assertEquals(test.second, manhattanDistance(test.first))\n",
    "}\n",
    "    \n",
    "manhattanDistance(361527)"
   ]
  },
  {
   "cell_type": "markdown",
   "metadata": {},
   "source": [
    "**Part 2**: Clear the grid and then store the value 1 in square 1. Then, in the same allocation order as shown above, store the sum of the values in all adjacent squares, including diagonals.\n",
    "\n",
    "<table>\n",
    "  <tr>\n",
    "    <td>147</td>\n",
    "    <td>142</td>\n",
    "    <td>133</td>\n",
    "    <td>122</td>\n",
    "    <td>59</td>\n",
    "  </tr>\n",
    "  <tr>\n",
    "    <td style=\"background-color: \">304</td>\n",
    "    <td style=\"background-color: #F1C40F\">5</td>\n",
    "    <td style=\"background-color: #D4AC0D\">4</td>\n",
    "    <td style=\"background-color: #B7950B\">2</td>\n",
    "    <td style=\"background-color: \">57</td>\n",
    "  </tr>\n",
    "  <tr>\n",
    "    <td style=\"background-color: \">330</td>\n",
    "    <td style=\"background-color: #F4D03F\">10</td>\n",
    "    <td style=\"background-color: #7D6608;\">1</td>\n",
    "    <td style=\"background-color: #9A7D0A;\">1</td>\n",
    "    <td style=\"background-color: \">54</td>\n",
    "  </tr>\n",
    "  <tr>\n",
    "    <td style=\"background-color: \">351</td>\n",
    "    <td style=\"background-color: #F7DC6F\">11</td>\n",
    "    <td style=\"background-color: #F9E79F\">23</td>\n",
    "    <td style=\"background-color: #FCF3CF\">25</td>\n",
    "    <td style=\"background-color: #FEF9E7\">26</td>\n",
    "  </tr>\n",
    "  <tr>\n",
    "    <td>362</td>\n",
    "    <td>747</td>\n",
    "    <td>806</td>\n",
    "    <td>&rarr;</td>\n",
    "    <td>...</td>\n",
    "  </tr>\n",
    "</table>\n",
    "\n",
    "The function `spiral` generates a spiral matrix with size $\\lceil\\sqrt{x}\\rceil^2 + 1$ and initializes values according to the function `value`. Currently, I am searching for a better way to solve this. In particular, the procedural way of moving from one position to another within the `for-loops` should be replaced by recursion."
   ]
  },
  {
   "cell_type": "code",
   "execution_count": 8,
   "metadata": {
    "collapsed": false
   },
   "outputs": [
    {
     "data": {
      "text/plain": [
       "{[0,0]=1, [1,0]=2, [1,1]=3, [0,1]=4, [-1,1]=5, [-1,0]=6, [-1,-1]=7, [0,-1]=8, [1,-1]=9, [2,-1]=10}"
      ]
     },
     "execution_count": 8,
     "metadata": {},
     "output_type": "execute_result"
    }
   ],
   "source": [
    "/**\n",
    " * Generate a spiral sequence mapped to a 2D matrix.\n",
    " */\n",
    "fun spiral(size: Int, value: (Map<Position2D, Int>, Position2D) -> Int): Map<Position2D, Int> {\n",
    "    val spiral = mutableMapOf<Position2D, Int>()\n",
    "    Position2D(0, 0).let { center -> spiral.put(center, value(spiral, center)) }\n",
    "    val first = Position2D(1, 0)\n",
    "    spiral.put(first, value(spiral, first))\n",
    "    val squares = Math.ceil(Math.sqrt(size.toDouble())).toInt()\n",
    "    var prev = first\n",
    "    for (side in 2..squares step 2) {\n",
    "        for (move in listOf(Pair(Position2D::up, side - 1), Pair(Position2D::left, side), Pair(Position2D::down, side), Pair(Position2D::right, side + 1))) {\n",
    "            for (s in 1..move.second) {\n",
    "                val current = move.first(prev)\n",
    "                spiral.put(current, value(spiral, current))\n",
    "                prev = current\n",
    "            }\n",
    "        }\n",
    "    }\n",
    "    return spiral\n",
    "}\n",
    "spiral(9, { m, p -> m.size + 1 })"
   ]
  },
  {
   "cell_type": "markdown",
   "metadata": {},
   "source": [
    "With the generator, we can create a spiral, that in each position stores the sum of all adjacent positions. The question in particular is:\n",
    "> What is the **first value written** that is larger than your puzzle input?"
   ]
  },
  {
   "cell_type": "code",
   "execution_count": 9,
   "metadata": {
    "collapsed": false,
    "scrolled": true
   },
   "outputs": [],
   "source": [
    "/**\n",
    " * Return the sum of all adjacent positions in a 2D matrix\n",
    " */\n",
    "fun squareSum(spiral: Map<Position2D, Int>, position: Position2D): Int {\n",
    "    return if (position == Position2D(0, 0) || position == Position2D(1, 0)) {\n",
    "        1\n",
    "    } else {\n",
    "        (-1..1).map { a -> (-1..1).map { b -> spiral[Position2D(position.x + a, position.y + b)] ?: 0 }.sum() }.sum()\n",
    "    }\n",
    "}\n",
    "\n",
    "/**\n",
    " * Get the first value in a spiral containing squared sums that is greater than the given value\n",
    " */\n",
    "fun spiralSquareSum(value: Int): Int {\n",
    "    return spiral(value, this::squareSum).values.sorted().dropWhile { it <= value }.first()\n",
    "}"
   ]
  },
  {
   "cell_type": "markdown",
   "metadata": {},
   "source": [
    "**Part 1 Revisited**: Alternatively, by utilizing the spiral generator, the Manhattan distance from the previous example can easily be computed by generating a sequential spiral and adding up the `x` and `y` values of the specified position."
   ]
  },
  {
   "cell_type": "code",
   "execution_count": 10,
   "metadata": {
    "collapsed": false
   },
   "outputs": [
    {
     "data": {
      "text/plain": [
       "326"
      ]
     },
     "execution_count": 10,
     "metadata": {},
     "output_type": "execute_result"
    }
   ],
   "source": [
    "/**\n",
    " * Compute the Manhattan distance to the center of the spiral.\n",
    " */\n",
    "fun manhattanDistanceByGeneration(element: Int): Int {\n",
    "    val point = spiral(element, { m, p -> m.size + 1 }).filter { it.value == element }.keys.first()\n",
    "    return Math.abs(point.x) + Math.abs(point.y)\n",
    "}\n",
    "\n",
    "val tests = listOf(1, 12, 23, 1024)\n",
    "\n",
    "for (test in tests) {\n",
    "    assertEquals(manhattanDistance(test), manhattanDistanceByGeneration(test))\n",
    "}\n",
    "\n",
    "manhattanDistanceByGeneration(361527)"
   ]
  },
  {
   "cell_type": "markdown",
   "metadata": {},
   "source": [
    "## [Day 4](http://adventofcode.com/2017/day/4): High-Entropy Passphrases\n",
    "A new system policy has been put in place that requires all accounts to use a passphrase instead of simply a password. A passphrase consists of a series of words (lowercase letters) separated by spaces. To ensure security, a valid passphrase must contain no duplicate words.\n",
    "\n",
    "> **How many passphrases are valid**?\n",
    "\n",
    "**Preparation**: This task includes a larger amount of data, which is why I created a [Gist](https://gist.github.com/rafaelkonlechner/3b0e91c5d4e602c1c6e37f51db7ae9c3) for it and will fetch it for the task. "
   ]
  },
  {
   "cell_type": "code",
   "execution_count": 2,
   "metadata": {
    "collapsed": false
   },
   "outputs": [
    {
     "data": {
      "text/plain": [
       "bdwdjjo avricm cjbmj ran lmfsom ivsof"
      ]
     },
     "execution_count": 2,
     "metadata": {},
     "output_type": "execute_result"
    }
   ],
   "source": [
    "val url = \"https://gist.githubusercontent.com/rafaelkonlechner/3b0e91c5d4e602c1c6e37f51db7ae9c3/raw/3e86669fbf2dc1f1f43b1bab8105ee983cb24fa8/advent-of-code-day4.txt\"\n",
    "\n",
    "getContent(URL(url)).split(\"\\n\").first()"
   ]
  },
  {
   "cell_type": "markdown",
   "metadata": {},
   "source": [
    "Below, I provide the solution for duplicate checking. It might be cheap &mdash; but it is concise."
   ]
  },
  {
   "cell_type": "code",
   "execution_count": 3,
   "metadata": {
    "collapsed": false
   },
   "outputs": [
    {
     "data": {
      "text/plain": [
       "455"
      ]
     },
     "execution_count": 3,
     "metadata": {},
     "output_type": "execute_result"
    }
   ],
   "source": [
    "/**\n",
    " * Check for a passphrase whether it contains duplicates.\n",
    " */\n",
    "fun containsDuplicates(input: String): Boolean {\n",
    "    val tokens = input.split(\" \")\n",
    "    return tokens.size != tokens.toSet().size\n",
    "}\n",
    "\n",
    "val tests = listOf(Pair(\"aa bb cc dd ee\", false), Pair(\"aa bb cc dd aa\", true), Pair(\"aa bb cc dd aaa\", false))\n",
    "\n",
    "for (test in tests) {\n",
    "    assertEquals(test.second, containsDuplicates(test.first))\n",
    "}\n",
    "\n",
    "val passphrases = getContent(URL(url))\n",
    "\n",
    "passphrases.lines().filter { !containsDuplicates(it) }.size"
   ]
  },
  {
   "cell_type": "markdown",
   "metadata": {},
   "source": [
    "**Part 2**: Now, a valid passphrase must contain no two words that are anagrams of each other - that is, a passphrase is invalid if any word's letters can be rearranged to form any other word in the passphrase.\n",
    "\n",
    "> Under this new system policy, **how many passphrases are valid**?"
   ]
  },
  {
   "cell_type": "code",
   "execution_count": 4,
   "metadata": {
    "collapsed": false
   },
   "outputs": [
    {
     "data": {
      "text/plain": [
       "186"
      ]
     },
     "execution_count": 4,
     "metadata": {},
     "output_type": "execute_result"
    }
   ],
   "source": [
    "/**\n",
    " * Check for a passphrase whether it contains anagrams.\n",
    " */\n",
    "fun containsAnagrams(input: String): Boolean {\n",
    "    val tokens = input.split(\" \").map { it.toList().sorted() }\n",
    "    return tokens.size != tokens.toSet().size\n",
    "}\n",
    "\n",
    "val tests = listOf(\n",
    "        Pair(\"abcde fghij\", false),\n",
    "        Pair(\"abcde xyz ecdab\", true),\n",
    "        Pair(\"a ab abc abd abf abj\", false),\n",
    "        Pair(\"iiii oiii ooii oooi oooo\", false),\n",
    "        Pair(\"oiii ioii iioi iiio\", true)\n",
    ")\n",
    "\n",
    "for (test in tests) {\n",
    "    assertEquals(test.second, containsAnagrams(test.first))\n",
    "}\n",
    "\n",
    "val passphrases = getContent(URL(url))\n",
    "\n",
    "passphrases.lines().filter { !containsAnagrams(it) }.size"
   ]
  },
  {
   "cell_type": "markdown",
   "metadata": {},
   "source": [
    "## [Day 5](https://adventofcode.com/2017/day/5): A Maze of Twisty Trampolines, All Alike\n",
    "\n",
    "The input resembles a program consisting merely of jump instructions. Each jump instruction provides a relative offset. Positive jumps move downwards, negative jumps move upwards. In addition, after each jump the offset of that instruction increases by 1. The goal is to follow the jumps until the end of the program is reached.\n",
    "\n",
    "> **How many steps** are required to reach the end of the program.\n",
    "\n",
    "The function signature uses higher-order functions. This is due to an adaption of the algorithm for reuse in  ."
   ]
  },
  {
   "cell_type": "code",
   "execution_count": 5,
   "metadata": {
    "collapsed": false
   },
   "outputs": [
    {
     "data": {
      "text/plain": [
       "325922"
      ]
     },
     "execution_count": 5,
     "metadata": {},
     "output_type": "execute_result"
    }
   ],
   "source": [
    "/**\n",
    " * Compute the number of steps required to reach the end of the program\n",
    " */\n",
    "fun runJumpProgram(program: String, increment: (Int) -> Int): Int {\n",
    "    val instructions = program.split(\"\\n\").map { it.toInt() }.toMutableList()\n",
    "    var position = 0\n",
    "    var count = 0\n",
    "    while (position < instructions.size) {\n",
    "        val step = instructions[position]\n",
    "        instructions[position] = step + increment(step)\n",
    "        position += step\n",
    "        count++\n",
    "    }\n",
    "    return count\n",
    "}\n",
    "\n",
    "val increment = { _: Int -> 1 }\n",
    "assertEquals(5, runJumpProgram(\"0\\n3\\n0\\n1\\n-3\", increment))\n",
    "\n",
    "val day5url = \"https://gist.githubusercontent.com/rafaelkonlechner/42e468e9a8b345ae0cfe7149b482b1f9/raw/474cbcdfa2ed7d20c6fffebe9aa7a7b671fdc8fc/advent-of-code-day5.txt\"\n",
    "val program = getContent(URL(day5url))\n",
    "runJumpProgram(program, increment)"
   ]
  },
  {
   "cell_type": "markdown",
   "metadata": {},
   "source": [
    "**Part Two**: The same procedure as before, but after each jump, if the offset was three or more, instead decrease it by 1. Otherwise, increase it by 1 as before."
   ]
  },
  {
   "cell_type": "code",
   "execution_count": 6,
   "metadata": {
    "collapsed": false
   },
   "outputs": [
    {
     "data": {
      "text/plain": [
       "24490906"
      ]
     },
     "execution_count": 6,
     "metadata": {},
     "output_type": "execute_result"
    }
   ],
   "source": [
    "val conditionalIncrement = { s: Int -> if (s >= 3) -1 else 1 }\n",
    "\n",
    "assertEquals(10, runJumpProgram(\"0\\n3\\n0\\n1\\n-3\", conditionalIncrement))\n",
    "runJumpProgram(program, conditionalIncrement)"
   ]
  },
  {
   "cell_type": "markdown",
   "metadata": {},
   "source": [
    "## [Day 6](http://adventofcode.com/2017/day/6): Memory Reallocation\n",
    "\n",
    "There are sixteen memory banks; each memory bank can hold any number of blocks. The goal of the reallocation routine is to balance the blocks between the memory banks. The reallocation routine operates in cycles. In each cycle, it finds the memory bank with the most blocks (ties won by the lowest-numbered memory bank) and redistributes those blocks among the banks. To do this, it removes all of the blocks from the selected bank, then moves to the next (by index) memory bank and inserts one of the blocks. It continues doing this until it runs out of blocks; if it reaches the last memory bank, it wraps around to the first one.\n",
    "\n",
    "> **How many redistribution cycles** must be completed before a configuration is produced that has been seen before?"
   ]
  },
  {
   "cell_type": "code",
   "execution_count": 7,
   "metadata": {
    "collapsed": false
   },
   "outputs": [
    {
     "data": {
      "text/plain": [
       "12841"
      ]
     },
     "execution_count": 7,
     "metadata": {},
     "output_type": "execute_result"
    }
   ],
   "source": [
    "/**\n",
    " * Reallocate blocks in cycles, by always choosing the bank with the most blocks and redistributing\n",
    " * the blocks to other banks in a cyclic fashion.\n",
    " * @returns the number of cycles before a previously visited state was reached again,\n",
    " *          indicating an infinite loop.\n",
    " */\n",
    "fun reallocate(banks: List<Int>): Int {\n",
    "\n",
    "    val seenBefore = mutableSetOf<List<Int>>()\n",
    "    val current = banks.toMutableList()\n",
    "\n",
    "    var cycles = 0\n",
    "    while (!seenBefore.contains(current)) {\n",
    "        seenBefore.add(current.toList())\n",
    "        var index = current.indexOf(current.max())\n",
    "        var blocks = current[index]\n",
    "        current[index] = 0\n",
    "\n",
    "        while (blocks > 0) {\n",
    "            index = (index + 1) % current.size\n",
    "            current[index] = current[index] + 1\n",
    "            blocks--\n",
    "        }\n",
    "        cycles++\n",
    "    }\n",
    "    return cycles\n",
    "}\n",
    "\n",
    "val test = listOf(0, 2, 7, 0)\n",
    "assertEquals(5, reallocate(test))\n",
    "\n",
    "val day6url = \"https://gist.githubusercontent.com/anonymous/354017cdbbbcc4f133cf4f66f3006c7c/raw/4e5c23870ff6bab17af155af44a61920ecd8a06b/advent-of-code-day6.txt\"\n",
    "val input = getContent(URL(day6url))\n",
    "val banks = input.split(\"\\t\").map { it.toInt() }\n",
    "reallocate(banks)"
   ]
  },
  {
   "cell_type": "markdown",
   "metadata": {},
   "source": [
    "For **Part 2**, the question changes slightly:\n",
    "\n",
    "> **How many cycles** are in the **infinite loop** that arises from the configuration in your puzzle input?\n",
    "\n",
    "In essence, what we need to do is similar to the first loop check, but instead of maintaining an (unordered) set of previously visited states, we maintain an ordered list, where new states are appended to the list. If a state is revisited, the number of states that have since been added yield the result."
   ]
  },
  {
   "cell_type": "code",
   "execution_count": 8,
   "metadata": {
    "collapsed": false
   },
   "outputs": [
    {
     "data": {
      "text/plain": [
       "8038"
      ]
     },
     "execution_count": 8,
     "metadata": {},
     "output_type": "execute_result"
    }
   ],
   "source": [
    "/**\n",
    " * Counts the number of cycles in an infinite loop.\n",
    " */\n",
    "fun loopCycles(banks: List<Int>): Int {\n",
    "\n",
    "    val seenBefore = mutableListOf<List<Int>>()\n",
    "    val current = banks.toMutableList()\n",
    "\n",
    "    var cycles = 0\n",
    "    while (!seenBefore.contains(current)) {\n",
    "        seenBefore.add(current.toList())\n",
    "        var index = current.indexOf(current.max())\n",
    "        var blocks = current[index]\n",
    "        current[index] = 0\n",
    "\n",
    "        while (blocks > 0) {\n",
    "            index = (index + 1) % current.size\n",
    "            current[index] = current[index] + 1\n",
    "            blocks--\n",
    "        }\n",
    "        cycles++\n",
    "    }\n",
    "    return seenBefore.size - seenBefore.indexOf(current)\n",
    "}\n",
    "\n",
    "assertEquals(4, loopCycles(test))\n",
    "loopCycles(banks)"
   ]
  },
  {
   "cell_type": "markdown",
   "metadata": {},
   "source": [
    "## [Day 7](https://adventofcode.com/2017/day/7): Recursive Circus\n",
    "\n",
    "For this assignment, imagine a recursive tower of programs, each holding a name, a weight and a number of (sub-) programs. Ideally, this tower is constructed in a way that for each program, the sum of weights for each individual subtower is equal, i.e. the tower is balanced. However, a recursive algorithm has gotten out of hand, and there now is an inbalance somewhere in the tower.\n",
    "\n",
    "The structure of this tower is unknown, so the task for the first part of the assignment is to reconstruct the tower. You ask each program to yell out their name, their weight, and (if they're holding a disc) the names of the programs immediately above them balancing on that disc. You write this information down (your puzzle input). Unfortunately, in their panic, they don't do this in an orderly fashion; by the time you're done, you're not sure which program gave which information.\n",
    "\n",
    "> What is the **name of the bottom program**?"
   ]
  },
  {
   "cell_type": "code",
   "execution_count": 2,
   "metadata": {
    "collapsed": true
   },
   "outputs": [],
   "source": [
    "data class Program(\n",
    "        val name: String,\n",
    "        val weight: Int,\n",
    "        val programs: MutableList<Program>\n",
    ") {\n",
    "    /**\n",
    "     * Recursive sum of the program and all sub-programs\n",
    "     */\n",
    "    fun sum(): Int {\n",
    "        return if (programs.isEmpty()) {\n",
    "            weight\n",
    "        } else {\n",
    "            weight + programs.map { it.sum() }.sum()\n",
    "        }\n",
    "    }\n",
    "\n",
    "    /**\n",
    "     * Checks whether the sum of each individual sub-program is equal\n",
    "     */\n",
    "    fun isBalanced(): Boolean {\n",
    "        val sums = programs.map { it.sum() }\n",
    "        return sums.isEmpty() || sums.distinct().size == 1\n",
    "    }\n",
    "}\n",
    "\n",
    "/**\n",
    " * For a list where all except one elements are equal, find the outlier\n",
    " */\n",
    "fun List<Int>.outlier(): Int? {\n",
    "    assert(size > 2 && distinct().size == 2)\n",
    "    return distinct().find { (indexOf(it) == lastIndexOf(it)) }\n",
    "}\n",
    "\n",
    "/**\n",
    " * For a list where all except one elements are equal, return the sheep\n",
    " */\n",
    "fun List<Int>.sheep(): Int? {\n",
    "    assert(size > 2 && distinct().size == 2)\n",
    "    return distinct().find { (indexOf(it) != lastIndexOf(it)) }\n",
    "}"
   ]
  },
  {
   "cell_type": "markdown",
   "metadata": {},
   "source": [
    "Programs are parsed in two passes: The first pass initializes the programs and tracks all dependencies in the `children` map. In the second pass, the recursive (and cycle-free) references to sub-programs are initialized. Based on this list of programs, finding the root requires a list of all children in the tower and finding the one program that is not contained in this set."
   ]
  },
  {
   "cell_type": "code",
   "execution_count": 3,
   "metadata": {
    "collapsed": false
   },
   "outputs": [
    {
     "data": {
      "text/plain": [
       "vtzay"
      ]
     },
     "execution_count": 3,
     "metadata": {},
     "output_type": "execute_result"
    }
   ],
   "source": [
    "/**\n",
    " * Parse a list of sub-programs\n",
    " */\n",
    "fun parse(input: String): List<Program> {\n",
    "    val programs = mutableListOf<Program>()\n",
    "    val names = mutableMapOf<String, Program>()\n",
    "    val children = mutableMapOf<String, List<String>>()\n",
    "\n",
    "    /*\n",
    "     * First pass\n",
    "     */\n",
    "    for (line in input.lines()) {\n",
    "        val attributes = line.split(\" \")\n",
    "        val name = attributes[0]\n",
    "        val weight = attributes[1].substringAfter(\"(\").substringBefore(\")\").toInt()\n",
    "        val list = if (attributes.size > 2) {\n",
    "            attributes.subList(3, attributes.size).map { it.trim(',') }\n",
    "        } else {\n",
    "            emptyList()\n",
    "        }\n",
    "        val p = Program(name, weight, mutableListOf())\n",
    "        names.put(name, p)\n",
    "        children.put(name, list)\n",
    "        programs.add(p)\n",
    "    }\n",
    "    \n",
    "    /*\n",
    "     * Second pass\n",
    "     */\n",
    "    for (p in programs) {\n",
    "        for (child in children[p.name]!!) {\n",
    "            p.programs.add(names[child]!!)\n",
    "        }\n",
    "    }\n",
    "    return programs\n",
    "}\n",
    "\n",
    "/**\n",
    " * Find the root of the tower, i.e. the program that is not contained in the set of children\n",
    " */\n",
    "fun findRoot(tree: List<Program>): Program {\n",
    "    val children = tree.flatMap { it.programs }.toSet()\n",
    "    return tree.find { !children.contains(it) }!!\n",
    "}\n",
    "\n",
    "val test = \"\"\"\n",
    "pbga (66)\n",
    "xhth (57)\n",
    "ebii (61)\n",
    "havc (66)\n",
    "ktlj (57)\n",
    "fwft (72) -> ktlj, cntj, xhth\n",
    "qoyq (66)\n",
    "padx (45) -> pbga, havc, qoyq\n",
    "tknk (41) -> ugml, padx, fwft\n",
    "jptl (61)\n",
    "ugml (68) -> gyxo, ebii, jptl\n",
    "gyxo (61)\n",
    "cntj (57)\n",
    "\"\"\"\n",
    "    \n",
    "assertEquals(\"tknk\", findRoot(parse(test.trim())).name)\n",
    "    \n",
    "val day7url = \"https://gist.githubusercontent.com/rafaelkonlechner/243e897bf4110d97b4b0c7e8c4d807e6/raw/07a109c2504da75af16cd645f7f4830a3aa861ed/advent-of-code-day7.txt\"\n",
    "val input = getContent(URL(day7url))\n",
    "findRoot(parse(input)).name"
   ]
  },
  {
   "cell_type": "markdown",
   "metadata": {
    "collapsed": true
   },
   "source": [
    "**Part 2** of the assignment will deal with the imbalance that occurs somewhere in the tower.\n",
    "\n",
    "> Given that **exactly one program is the wrong weight, what would its weight need to be** to balance the entire tower?\n",
    "\n",
    "First, this requires filtering of all nodes, where there is an inbalance in sub-programs. This condition holds for the first occurrence of an inbalance and then all the way down to the root, as the inbalance propagates downwards. Hence we need to find the only program, which is itself inbalanced but all it's children aren't (this is exactly, what the `filter` operation does). The second step is more straight forward: calculate the difference of balances and adjust the weight."
   ]
  },
  {
   "cell_type": "code",
   "execution_count": 4,
   "metadata": {
    "collapsed": false
   },
   "outputs": [
    {
     "data": {
      "text/plain": [
       "910"
      ]
     },
     "execution_count": 4,
     "metadata": {},
     "output_type": "execute_result"
    }
   ],
   "source": [
    "parse(input)\n",
    ".filter { !it.isBalanced() && !it.programs.map { it.isBalanced() }.contains(false) }\n",
    ".map {\n",
    "    val sums = it.programs.map { it.sum() }\n",
    "    val outlier = sums.outlier()!!\n",
    "    val sheep = sums.sheep()!!\n",
    "    val index = sums.indexOf(outlier)\n",
    "    it.programs[index].weight + (sheep - outlier)\n",
    "}.first()"
   ]
  },
  {
   "cell_type": "markdown",
   "metadata": {
    "collapsed": true
   },
   "source": [
    "## [Day 8](https://adventofcode.com/2017/day/8): I Heard You Like Registers\n",
    "\n",
    "The task is to compute the result of a series of unusual register instructions. Each instruction consists of several parts: the register to modify, whether to increase or decrease that register's value, the amount by which to increase or decrease it, and a condition. If the condition fails, skip the instruction without modifying the register. The registers all start at `0`.\n",
    "\n",
    "> What is the **largest value** in any register after completing the instructions in your puzzle input?"
   ]
  },
  {
   "cell_type": "code",
   "execution_count": 11,
   "metadata": {
    "collapsed": true
   },
   "outputs": [],
   "source": [
    "/**\n",
    " * Parse comparison operator\n",
    " */\n",
    "fun <A : Comparable<A>> parseComparisonOperator(operator: String): (A, A) -> Boolean {\n",
    "    return when (operator) {\n",
    "        \"==\" -> { x, y -> x == y }\n",
    "        \"!=\" -> { x, y -> x != y }\n",
    "        \">\" -> { x, y -> x > y }\n",
    "        \">=\" -> { x, y -> x >= y }\n",
    "        \"<\" -> { x, y -> x < y }\n",
    "        \"<=\" -> { x, y -> x <= y }\n",
    "        else -> { _, _ -> false }\n",
    "    }\n",
    "}"
   ]
  },
  {
   "cell_type": "code",
   "execution_count": 10,
   "metadata": {
    "collapsed": false
   },
   "outputs": [
    {
     "data": {
      "text/plain": [
       "6012"
      ]
     },
     "execution_count": 10,
     "metadata": {},
     "output_type": "execute_result"
    }
   ],
   "source": [
    "/**\n",
    " * Execute register instructions and return register assignment\n",
    " */\n",
    "fun execute(input: String): Pair<Map<String, Int>, Int> {\n",
    "\n",
    "    val registers = mutableMapOf<String, Int>()\n",
    "    var highest = 0\n",
    "    for (line in input.lines()) {\n",
    "        val instruction = line.split(\" \")\n",
    "        val register = instruction[0]\n",
    "        val operator = instruction[1]\n",
    "        val operand = instruction[2].toInt()\n",
    "        val conditionRegister = instruction[4]\n",
    "        val condition = parseComparisonOperator<Int>(instruction[5])\n",
    "        val conditionValue = instruction[6].toInt()\n",
    "\n",
    "        if (!registers.containsKey(register)) {\n",
    "            registers.put(register, 0)\n",
    "        }\n",
    "        if (!registers.containsKey(conditionRegister)) {\n",
    "            registers.put(conditionRegister, 0)\n",
    "        }\n",
    "\n",
    "        val conditionHolds = condition(registers[conditionRegister]!!, conditionValue)\n",
    "        if (conditionHolds) {\n",
    "            when (operator) {\n",
    "                \"inc\" -> registers[register] = registers[register]!! + operand\n",
    "                \"dec\" -> registers[register] = registers[register]!! - operand\n",
    "            }\n",
    "        }\n",
    "        if (registers[register]!! > highest) highest = registers[register]!!\n",
    "    }\n",
    "    return Pair(registers, highest)\n",
    "}\n",
    "\n",
    "val test = \"\"\"\n",
    "b inc 5 if a > 1\n",
    "a inc 1 if b < 5\n",
    "c dec -10 if a >= 1\n",
    "c inc -20 if c == 10\n",
    "\"\"\"\n",
    "\n",
    "assertEquals(1, execute(test.trim()).first.values.max())\n",
    "\n",
    "val day8url = \"https://gist.githubusercontent.com/rafaelkonlechner/d80f92bee35a468aa4d00dca57c1be02/raw/d59b94dc8923e90be00876468bf33c5f404e0e51/advent-of-code-day8.txt\"\n",
    "val input = getContent(URL(day8url))\n",
    "val registers = execute(input).first\n",
    "registers.values.max()"
   ]
  },
  {
   "cell_type": "markdown",
   "metadata": {
    "collapsed": true
   },
   "source": [
    "For **Part 2**, the question was slightly different:\n",
    "\n",
    "> What is the **highest value** held in any register during this process"
   ]
  },
  {
   "cell_type": "code",
   "execution_count": 12,
   "metadata": {
    "collapsed": false
   },
   "outputs": [
    {
     "data": {
      "text/plain": [
       "6369"
      ]
     },
     "execution_count": 12,
     "metadata": {},
     "output_type": "execute_result"
    }
   ],
   "source": [
    "execute(input).second"
   ]
  },
  {
   "cell_type": "markdown",
   "metadata": {
    "collapsed": true
   },
   "source": [
    "## [Day 9](http://adventofcode.com/2017/day/9): Stream Processing\n",
    "\n",
    "For this assignment, character streams need to be analyzed. The characters represent groups - sequences that begin with { and end with }. Within a group, there are zero or more other things, separated by commas: either another group or garbage. Since groups can contain other groups, a '}' only closes the most-recently-opened unclosed group - that is, they are nestable. The puzzle input represents a single, large group which itself contains many smaller ones.\n",
    "Sometimes, instead of a group, you will find garbage. Garbage begins with < and ends with >. Between those angle brackets, almost any character can appear, including { and }. Within garbage, < has no special meaning. Inside garbage, any character that comes after ! should be ignored, including <, >, and even another !.\n",
    "\n",
    "You don't see any characters that deviate from these rules. Outside garbage, you only find well-formed groups, and garbage always terminates according to the rules above.\n",
    "\n",
    "The goal is to find the total score for all groups in the input. Each group is assigned a score which is one more than the score of the group that immediately contains it. (The outermost group gets a score of 1.)\n",
    "\n",
    "> What is the **total score for all groups** in your input?\n",
    "\n",
    "As a preparation steps, I added two methods to `String`: `removeWithin(openChar, closeChar)` and `escape(escapeChar)`, where the first method will remove any character enclosed within the two symbols and the latter one removing all escaped characters."
   ]
  },
  {
   "cell_type": "code",
   "execution_count": 2,
   "metadata": {
    "collapsed": false
   },
   "outputs": [
    {
     "name": "stdout",
     "output_type": "stream",
     "text": [
      "Hello World.\n",
      "Hello World.\n",
      "Hello World.\n"
     ]
    }
   ],
   "source": [
    "/**\n",
    " * Remove all characters between [openChar] and [closeChar] for all occurrences.\n",
    " */\n",
    "fun String.removeWithin(openChar: Char, closeChar: Char) = replace(Regex(\"$openChar.*?$closeChar\"), \"\")\n",
    "\n",
    "/**\n",
    " * Remove the specified escape character as well as the character directly behind it.\n",
    " */\n",
    "fun String.escape(escapeChar: Char) = replace(Regex(\"$escapeChar.\"), \"\")\n",
    "\n",
    "fun removeGarbage(input: String) = input.escape('!').removeWithin('<', '>')\n",
    "    \n",
    "println(\"Hello W!oorld.\".escape('!'))\n",
    "println(\"Hello<, can> World< hear me?>.\".removeWithin('<', '>'))\n",
    "println(removeGarbage(\"Hello<, can> W!oorld< he!aar me?>.\"))"
   ]
  },
  {
   "cell_type": "code",
   "execution_count": 3,
   "metadata": {
    "collapsed": false
   },
   "outputs": [
    {
     "data": {
      "text/plain": [
       "12803"
      ]
     },
     "execution_count": 3,
     "metadata": {},
     "output_type": "execute_result"
    }
   ],
   "source": [
    "/**\n",
    " * Count groups\n",
    " */\n",
    "fun countGroups(input: String): Int {\n",
    "    var score = 0\n",
    "    var depth = 0\n",
    "    for (i in input) {\n",
    "        when (i) {\n",
    "            '{' -> depth++\n",
    "            '}' -> {\n",
    "                score += depth\n",
    "                depth--\n",
    "            }\n",
    "        }\n",
    "    }\n",
    "    return score\n",
    "}\n",
    "\n",
    "val tests = listOf(\n",
    "        Pair(\"{}\", 1),\n",
    "        Pair(\"{{{}}}\", 6),\n",
    "        Pair(\"{{},{}}\", 5),\n",
    "        Pair(\"{{{},{},{{}}}}\", 16),\n",
    "        Pair(\"{<a>,<a>,<a>,<a>}\", 1),\n",
    "        Pair(\"{{<ab>},{<ab>},{<ab>},{<ab>}}\", 9),\n",
    "        Pair(\"{{<!!>},{<!!>},{<!!>},{<!!>}}\", 9),\n",
    "        Pair(\"{{<a!>},{<a!>},{<a!>},{<ab>}}\", 3)\n",
    ")\n",
    "\n",
    "for (test in tests) {\n",
    "    assertEquals(test.second, countGroups(removeGarbage(test.first)))\n",
    "}\n",
    "\n",
    "val day9url = \"https://gist.githubusercontent.com/rafaelkonlechner/fec5b6e5f8fdd752fb2798cabac0dbdb/raw/d63927369410e5305df6b6fca896932b4c9b7eec/advent-of-code-day9.txt\"\n",
    "val input = getContent(URL(day9url))\n",
    "countGroups(removeGarbage(input))"
   ]
  },
  {
   "cell_type": "markdown",
   "metadata": {},
   "source": [
    "For **Part 2**, the assignment is to count the number of"
   ]
  },
  {
   "cell_type": "code",
   "execution_count": 6,
   "metadata": {
    "collapsed": false
   },
   "outputs": [
    {
     "data": {
      "text/plain": [
       "6425"
      ]
     },
     "execution_count": 6,
     "metadata": {},
     "output_type": "execute_result"
    }
   ],
   "source": [
    "fun countGarbage(input: String): Int {\n",
    "    var open = false\n",
    "    var count = 0\n",
    "    for (i in input) {\n",
    "        when {\n",
    "            i == '<' && !open -> open = true\n",
    "            i == '>' -> open = false\n",
    "            else -> if (open) count++\n",
    "        }\n",
    "    }\n",
    "    return count\n",
    "}\n",
    "\n",
    "val tests = listOf(\n",
    "        Pair(\"<>\", 0),\n",
    "        Pair(\"<random characters>\", 17),\n",
    "        Pair(\"<<<<>\", 3),\n",
    "        Pair(\"<{!>}>\", 2),\n",
    "        Pair(\"<!!>\", 0),\n",
    "        Pair(\"<!!!>>\", 0),\n",
    "        Pair(\"<{o\\\"i!a,<{i<a>\", 10)\n",
    ")\n",
    "\n",
    "for (test in tests) {\n",
    "    assertEquals(test.second, countGarbage(test.first.escape('!')))\n",
    "    assertEquals(0, countGarbage(removeGarbage(test.first)))\n",
    "}\n",
    "\n",
    "countGarbage(input.escape('!'))"
   ]
  },
  {
   "cell_type": "markdown",
   "metadata": {
    "collapsed": true
   },
   "source": [
    "## [Day 10](https://adventofcode.com/2017/day/10): Knot Hash\n",
    "\n",
    "This assignment asks for a custom hash function. This hash function simulates tying a knot in a circle of string with 256 marks on it. Based on the input to be hashed, the function repeatedly selects a span of string, brings the ends together, and gives the span a half-twist to reverse the order of the marks within it. After doing this many times, the order of the marks is used to build the resulting hash.\n",
    "\n",
    "> Once this process is complete, **what is the result of multiplying the first two numbers** in the list?"
   ]
  },
  {
   "cell_type": "code",
   "execution_count": 2,
   "metadata": {
    "collapsed": true
   },
   "outputs": [],
   "source": [
    "/**\n",
    " * Reverse the elements of the list within the specified range.\n",
    " * If the length exceeds the list, it wraps around to the front.\n",
    " */\n",
    "fun <T> Array<T>.reverse(start: Int, length: Int) {\n",
    "    for (i in 0 until length / 2) {\n",
    "        val i1 = (start + i) % this.size\n",
    "        val i2 = (start + (length - 1) - i) % this.size\n",
    "        this.swap(i1, i2)\n",
    "    }\n",
    "}\n",
    "\n",
    "/**\n",
    " * Swap the elements at the two indices\n",
    " */\n",
    "fun <T> Array<T>.swap(i1: Int, i2: Int) {\n",
    "    val tmp = this[i1]\n",
    "    this[i1] = this[i2]\n",
    "    this[i2] = tmp\n",
    "}"
   ]
  },
  {
   "cell_type": "code",
   "execution_count": 7,
   "metadata": {
    "collapsed": false
   },
   "outputs": [
    {
     "data": {
      "text/plain": [
       "40132"
      ]
     },
     "execution_count": 7,
     "metadata": {},
     "output_type": "execute_result"
    }
   ],
   "source": [
    "/**\n",
    " * Compute one round for the knot-hash algorithm \n",
    " */\n",
    "fun hashRound(array: Array<Int>, lengths: List<Int>, currentPosition: Int, skipSize: Int): Triple<Array<Int>, Int, Int> {\n",
    "    var skip = skipSize\n",
    "    var current = currentPosition\n",
    "    for (length in lengths) {\n",
    "        array.reverse(current, length)\n",
    "        current = (current + length + skip) % array.size\n",
    "        skip += 1\n",
    "    }\n",
    "    return Triple(array, current, skip)\n",
    "}\n",
    "\n",
    "val testArray = Array(5) { i -> i }\n",
    "val testLengths = \"3,4,1,5\".split(\",\").map { it.toInt() }\n",
    "\n",
    "val testHash = hashRound(testArray, testLengths, 0, 0)\n",
    "assertEquals(12, testHash.first.component1() * testHash.first.component2())\n",
    "\n",
    "val array = Array(256) { i -> i }\n",
    "val lengths = \"197,97,204,108,1,29,5,71,0,50,2,255,248,78,254,63\".split(\",\").map { it.toInt() }\n",
    "val hash = hashRound(array, lengths, 0, 0)\n",
    "hash.first[0] * hash.first[1]"
   ]
  },
  {
   "cell_type": "markdown",
   "metadata": {},
   "source": [
    "For **Part 2** the hashing algorithms is completed, such that it computes equi-length hashes from strings."
   ]
  },
  {
   "cell_type": "code",
   "execution_count": 8,
   "metadata": {
    "collapsed": false
   },
   "outputs": [
    {
     "data": {
      "text/plain": [
       "35b028fe2c958793f7d5a61d07a008c8"
      ]
     },
     "execution_count": 8,
     "metadata": {},
     "output_type": "execute_result"
    }
   ],
   "source": [
    "/**\n",
    " * Compute the knot-hash of an arbitrary string\n",
    " */\n",
    "fun knotHash(input: String): String {\n",
    "    val suffix = listOf(17, 31, 73, 47, 23)\n",
    "    val lengths = input.map { it.toInt() } + suffix\n",
    "    var array = Array(256) { i -> i }\n",
    "    var current = 0\n",
    "    var skip = 0\n",
    "    repeat(64) {\n",
    "        val (a, b, c) = hashRound(array, lengths, current, skip)\n",
    "        array = a\n",
    "        current = b\n",
    "        skip = c\n",
    "    }\n",
    "    val final = (0 until 256 step 16).map { array.toList().subList(it, it + 16).reduce { x, y -> x xor y } }\n",
    "    return final.map { it.toString(16) }.joinToString(\"\") {\n",
    "        if (it.length < 2) {\n",
    "            \"0\" + it\n",
    "        } else {\n",
    "            it\n",
    "        }\n",
    "    }\n",
    "}\n",
    "\n",
    "val tests = listOf(\n",
    "        Pair(\"\", \"a2582a3a0e66e6e86e3812dcb672a272\"),\n",
    "        Pair(\"AoC 2017\", \"33efeb34ea91902bb2f59c9920caa6cd\"),\n",
    "        Pair(\"1,2,3\", \"3efbe78a8d82f29979031a4aa0b16a9d\"),\n",
    "        Pair(\"1,2,4\", \"63960835bcdc130f0b66d7ff4f6a5a8e\")\n",
    ")\n",
    "for (test in tests) {\n",
    "    assertEquals(test.second, knotHash(test.first))\n",
    "}\n",
    "\n",
    "knotHash(\"197,97,204,108,1,29,5,71,0,50,2,255,248,78,254,63\")"
   ]
  },
  {
   "cell_type": "markdown",
   "metadata": {
    "collapsed": true
   },
   "source": [
    "## [Day 11](https://adventofcode.com/2017/day/11): Hex Ed\n",
    "\n",
    "Hexagons (\"hexes\") in a grid are aligned such that adjacent hexes can be found to the north, northeast, southeast, south, southwest, and northwest. Given a path of steps, determine the fewest number of steps required to reach the same destination as the path. One step moves from the hex you are in to any adjacent hex.\n",
    "\n",
    "> What is the **shortest number of steps** required to reach the destination of the given path?\n",
    "\n",
    "But first, some preparations. You will later see, why the extension `MutableList.removePairwise(elem1, elem2)` is useful. For now, it removes elements from the list in pairs, like cutting common factors in fractions."
   ]
  },
  {
   "cell_type": "code",
   "execution_count": 2,
   "metadata": {
    "collapsed": false
   },
   "outputs": [
    {
     "name": "stdout",
     "output_type": "stream",
     "text": [
      "[3]\n",
      "[1, 2, 1, 2, 3]\n"
     ]
    }
   ],
   "source": [
    "/**\n",
    " * Repeatedly remove occurrences of [elem1] and a [elem2] in pairs, until one or both occurrences are zero.\n",
    " * @return the number of pairwise removals\n",
    " */\n",
    "fun <T> MutableList<T>.removePairwise(elem1: T, elem2: T): Int {\n",
    "    val count = Math.min(this.count { it == elem1 }, this.count { it == elem2 })\n",
    "    repeat(count) {\n",
    "        this.remove(elem1)\n",
    "        this.remove(elem2)\n",
    "    }\n",
    "    return count\n",
    "}\n",
    "\n",
    "val list = listOf(1, 2, 1, 2, 3)\n",
    "    \n",
    "val a = list.toMutableList()  \n",
    "a.removePairwise(1, 2)\n",
    "println(a)\n",
    "    \n",
    "val b = list.toMutableList()\n",
    "b.removePairwise(1, 4)\n",
    "println(b)"
   ]
  },
  {
   "cell_type": "markdown",
   "metadata": {},
   "source": [
    "The solution rests on the observation that a hex-path may be shortend by eliminating steps that lead in opposing directions. For example:\n",
    "\n",
    "* `distance(n,s) -> 0`\n",
    "* `distance(s,n) -> 0`\n",
    "* `distance(ne,sw) -> 0`\n",
    "* `distance(nw,se) -> 0`\n",
    "\n",
    "In addition to reducing directly opposing steps, a diagonal step followed by `n` or `s` can be shortcut according to this (exhaustive) list:\n",
    "\n",
    "* `ne,s = se`\n",
    "* `se,n = ne`\n",
    "* `sw,n = nw`\n",
    "* `nw,s = sw`\n",
    "\n",
    "Lastly, the two combinations can be reduced:\n",
    "\n",
    "* `sw,se = s`\n",
    "* `nw,ne = n`"
   ]
  },
  {
   "cell_type": "code",
   "execution_count": 3,
   "metadata": {
    "collapsed": false
   },
   "outputs": [
    {
     "data": {
      "text/plain": [
       "720"
      ]
     },
     "execution_count": 3,
     "metadata": {},
     "output_type": "execute_result"
    }
   ],
   "source": [
    "/**\n",
    " * Compute the minimum number of steps required to reach the same hexagon that is reached after following [steps]\n",
    " */\n",
    "fun minSteps(steps: MutableList<String>): Int {\n",
    "    steps.removePairwise(\"n\", \"s\")\n",
    "    steps.removePairwise(\"ne\", \"sw\")\n",
    "    steps.removePairwise(\"nw\", \"se\")\n",
    "    repeat(steps.removePairwise(\"ne\", \"s\")) {\n",
    "        steps.add(\"se\")\n",
    "    }\n",
    "    repeat(steps.removePairwise(\"se\", \"n\")) {\n",
    "        steps.add(\"ne\")\n",
    "    }\n",
    "    repeat(steps.removePairwise(\"sw\", \"n\")) {\n",
    "        steps.add(\"nw\")\n",
    "    }\n",
    "    repeat(steps.removePairwise(\"nw\", \"s\")) {\n",
    "        steps.add(\"sw\")\n",
    "    }\n",
    "    repeat(steps.removePairwise(\"sw\", \"se\")) {\n",
    "        steps.add(\"s\")\n",
    "    }\n",
    "    repeat(steps.removePairwise(\"nw\", \"ne\")) {\n",
    "        steps.add(\"n\")\n",
    "    }\n",
    "    return steps.size\n",
    "}\n",
    "\n",
    "val tests = listOf(\n",
    "        Pair(\"ne,ne,ne\", 3),\n",
    "        Pair(\"ne,ne,sw,sw\", 0),\n",
    "        Pair(\"se,sw,se,sw,sw\", 3)\n",
    ")\n",
    "\n",
    "for (test in tests) {\n",
    "    assertEquals(test.second, minSteps(test.first.split(\",\").toMutableList()))\n",
    "}\n",
    "\n",
    "val day11url = \"https://gist.githubusercontent.com/rafaelkonlechner/d867e5f836ec611c71917bedb228a657/raw/388c806855214d6012828c17cd2b4d75346f01bc/advent-of-code-day11.txt\"\n",
    "val input = getContent(URL(day11url))\n",
    "\n",
    "minSteps(input.split(\",\").toMutableList())"
   ]
  },
  {
   "cell_type": "markdown",
   "metadata": {
    "collapsed": true
   },
   "source": [
    "The question for **Part 2** is only slightly different:\n",
    "\n",
    "> How many steps away is the furthest he ever got from his starting position?\n",
    "\n",
    "The primitive approach to this is to compute the distances for each sub-path and return the maximum:"
   ]
  },
  {
   "cell_type": "code",
   "execution_count": null,
   "metadata": {
    "collapsed": false
   },
   "outputs": [
    {
     "data": {
      "text/plain": [
       "1485"
      ]
     },
     "execution_count": 4,
     "metadata": {},
     "output_type": "execute_result"
    }
   ],
   "source": [
    "val list = input.split(\",\")\n",
    "\n",
    "// *This will run for a few minutes*\n",
    "\n",
    "(1..list.size).map { list.subList(0, it) }.map { minSteps(it.toMutableList()) }.max()"
   ]
  },
  {
   "cell_type": "markdown",
   "metadata": {
    "collapsed": true
   },
   "source": [
    "## [Day 12](https://adventofcode.com/2017/day/12): Digital Plumber\n",
    "\n",
    "Programs communicate with a fixed set of bidirectional pipes, where messages may be sent to connected programs either directly or indirectly, via other programs. The input lists all programs and their respective pipe connections:\n",
    "\n",
    "```\n",
    "0 <-> 2\n",
    "1 <-> 1\n",
    "2 <-> 0, 3, 4\n",
    "3 <-> 2, 4\n",
    "4 <-> 2, 3, 6\n",
    "5 <-> 6\n",
    "6 <-> 4, 5\n",
    "```\n",
    "\n",
    "This set of pipes separates programs into groups, where a member can communicate with all other programs of its group, but with no program of any other group. The goal for **Part 1** is to determine the group that contains program `ID 0`.\n",
    "\n",
    "> **How many programs** are in the group that contains program `ID 0`?"
   ]
  },
  {
   "cell_type": "code",
   "execution_count": 6,
   "metadata": {
    "collapsed": false
   },
   "outputs": [
    {
     "data": {
      "text/plain": [
       "[1, 2, 3]"
      ]
     },
     "execution_count": 6,
     "metadata": {},
     "output_type": "execute_result"
    }
   ],
   "source": [
    "/**\n",
    " * For a set programs and pipes, return the group that contains [member].\n",
    " */\n",
    "fun getGroup(connections: Map<Int, List<Int>>, member: Int): Set<Int> {\n",
    "    val group = mutableSetOf(member)\n",
    "    val queue = mutableListOf<Int>()\n",
    "    queue.add(member)\n",
    "    while (queue.isNotEmpty()) {\n",
    "        val head = queue.removeAt(0)\n",
    "        val new = connections[head]!!\n",
    "        queue.addAll(new - group)\n",
    "        group.addAll(new)\n",
    "    }\n",
    "    return group\n",
    "}\n",
    "\n",
    "/**\n",
    " * 1 <-> [2,3]\n",
    " * 2 <-> [1,3]\n",
    " * 3 <-> [1,2]\n",
    " * 4 <-> []\n",
    " */\n",
    "\n",
    "getGroup(mapOf(1 to listOf(2, 3), 2 to listOf(1, 3), 3 to listOf(1, 2), 4 to emptyList()), 1)"
   ]
  },
  {
   "cell_type": "markdown",
   "metadata": {},
   "source": [
    "The function below will parse the input and place it in a map of programs to their connected programs:"
   ]
  },
  {
   "cell_type": "code",
   "execution_count": 10,
   "metadata": {
    "collapsed": false
   },
   "outputs": [
    {
     "data": {
      "text/plain": [
       "145"
      ]
     },
     "execution_count": 10,
     "metadata": {},
     "output_type": "execute_result"
    }
   ],
   "source": [
    "fun parsePipes(input: String): Map<Int, List<Int>> {\n",
    "    val connections = mutableMapOf<Int, List<Int>>()\n",
    "    for (line in input.lines()) {\n",
    "        val c = line.split(\" <-> \").map { it.split(\", \").map { it.toInt() } }\n",
    "    connections.put(c[0][0], c[1])\n",
    "    }\n",
    "    return connections\n",
    "}\n",
    "\n",
    "val test = \"\"\"\n",
    "0 <-> 2\n",
    "1 <-> 1\n",
    "2 <-> 0, 3, 4\n",
    "3 <-> 2, 4\n",
    "4 <-> 2, 3, 6\n",
    "5 <-> 6\n",
    "6 <-> 4, 5\n",
    "\"\"\".trim()\n",
    "\n",
    "assertEquals(6, getGroup(parsePipes(test), 0).size)\n",
    "\n",
    "val day12url = \"https://gist.githubusercontent.com/rafaelkonlechner/96d6da3dbe069527e3063df569eb10ce/raw/40760c14e7fa74788df071fc574982d255b9aca0/advent-of-code-day12.txt\"\n",
    "val input = getContent(URL(day12url))\n",
    "getGroup(parsePipes(input), 0).size"
   ]
  },
  {
   "cell_type": "markdown",
   "metadata": {},
   "source": [
    "For **Part 2** the question changes slightly:\n",
    "\n",
    "> **How many groups** are there in total?\n",
    "\n",
    "The idea is to iterate over the following procedure, until there are no more programs left:\n",
    "\n",
    "1. Pick an arbitrary program\n",
    "2. Find its group members (see **Part 1**)\n",
    "3. Remove all members of the group from the mapping\n",
    "4. Increase the group counter"
   ]
  },
  {
   "cell_type": "code",
   "execution_count": 16,
   "metadata": {
    "collapsed": false
   },
   "outputs": [
    {
     "data": {
      "text/plain": [
       "207"
      ]
     },
     "execution_count": 16,
     "metadata": {},
     "output_type": "execute_result"
    }
   ],
   "source": [
    "fun countGroups(connections: Map<Int, List<Int>>): Int {\n",
    "    val map = connections.toMutableMap()\n",
    "    var count = 0\n",
    "    while (map.isNotEmpty()) {\n",
    "        val group = getGroup(map, map.keys.first())\n",
    "        for (g in group) {\n",
    "            map.remove(g)\n",
    "        }\n",
    "        count++\n",
    "    }\n",
    "    return count\n",
    "}\n",
    "\n",
    "assertEquals(2, countGroups(parsePipes(test)))\n",
    "\n",
    "countGroups(parsePipes(input))"
   ]
  },
  {
   "cell_type": "markdown",
   "metadata": {
    "collapsed": true
   },
   "source": [
    "## [Day 13](https://adventofcode.com/2017/day/13): Packet Scanners\n",
    "\n",
    "A firewall consisting of layers and ranges is periodically scanned by scanners. \n",
    "\n",
    "> Given the details of the firewall you've recorded, if you leave immediately, **what is the severity** of your whole trip?"
   ]
  },
  {
   "cell_type": "code",
   "execution_count": 6,
   "metadata": {
    "collapsed": false
   },
   "outputs": [
    {
     "data": {
      "text/plain": [
       "1588"
      ]
     },
     "execution_count": 6,
     "metadata": {},
     "output_type": "execute_result"
    }
   ],
   "source": [
    "/**\n",
    " * Simulate crossing the firewall on a packet with the specified delay.\n",
    " */\n",
    "fun crossFirewall(layers: Map<Int, Int>, delay: Int, penaltyFn: (Int, Int) -> Int): Int {\n",
    "    val layerCount = layers.keys.sorted().last() + 1\n",
    "    var packet = -1\n",
    "    var penalty = 0\n",
    "    repeat(layerCount) { picosecond ->\n",
    "        packet += 1\n",
    "        val range = layers[packet] ?: 0\n",
    "        val detected = range > 0 && (picosecond + delay) % (range * 2 - 2) == 0\n",
    "        penalty += if (detected) penaltyFn(packet, range) else 0\n",
    "    }\n",
    "    return penalty\n",
    "}\n",
    "\n",
    "val test = \"\"\"\n",
    "0: 3\n",
    "1: 2\n",
    "4: 4\n",
    "6: 4\"\"\".trim()\n",
    "        .split(\"\\n\")\n",
    "        .map { it.split(\": \").map { it.toInt() } }.map { Pair(it[0], it[1]) }.toMap()\n",
    "\n",
    "assertEquals(24, crossFirewall(test, 0, { a, b -> a * b }))\n",
    "           \n",
    "val day13url = \"https://gist.githubusercontent.com/rafaelkonlechner/f32af200830bd831889c8f0f2dc9c350/raw/fef2a10441be4af9c87a61095bc69cbf57bd57f7/advent-of-code-day13.txt\"\n",
    "val input = getContent(URL(day13url))\n",
    "\n",
    "val firewall = input\n",
    "    .split(\"\\n\")\n",
    "    .map { it.split(\": \").map { it.toInt() } }.map { Pair(it[0], it[1]) }.toMap()\n",
    "\n",
    "crossFirewall(firewall, 0, { a, b -> a * b })"
   ]
  },
  {
   "cell_type": "markdown",
   "metadata": {},
   "source": [
    "For **Part 2**, getting caught is no longer an option. Instead of calculating the severity, the goal is to find a delay for sending the packet, such that it will not be caught by any scanner:\n",
    "\n",
    "> **What is the fewest number of picoseconds** that you need to delay the packet to pass through the firewall without being caught?\n",
    "\n",
    "This can be done by facilitating the algorithm of **Part 1**, with a slightly adapted penalty function. The solution repeats the simulation with increasing values for the delay, until the package is not caught."
   ]
  },
  {
   "cell_type": "code",
   "execution_count": 8,
   "metadata": {
    "collapsed": false
   },
   "outputs": [
    {
     "data": {
      "text/plain": [
       "3865119"
      ]
     },
     "execution_count": 8,
     "metadata": {},
     "output_type": "execute_result"
    }
   ],
   "source": [
    "var delay = -1\n",
    "var penalty = 1\n",
    "while (penalty > 0) {\n",
    "    penalty = crossFirewall(firewall, delay, { _, _ -> 1 })\n",
    "    delay++\n",
    "}\n",
    "delay"
   ]
  },
  {
   "cell_type": "markdown",
   "metadata": {},
   "source": [
    "## [Day 14](https://adventofcode.com/2017/day/14): Disk Defragmentation\n",
    "\n",
    "By computing the knot-hash of 128 words, one can create a 128x128 binary grid by transforming each of the 32-character hexadecimal hash values into a 128-character binary representation, resulting in a certain distribution of `1` and `0` squares across the grid. In this assignment, grids resemble disks with used (`1`) and free (`0`) squares, fragmented randomly. As an example, this is the first 8x8 grid for the word `flqrgnkx` where `#` denotes a used square and `.` denotes a free square:\n",
    "\n",
    "<table>\n",
    "  <tr>\n",
    "    <td>#</td>\n",
    "    <td>#</td>\n",
    "    <td>.</td>\n",
    "    <td>#</td>\n",
    "    <td>.</td>\n",
    "    <td>#</td>\n",
    "    <td>.</td>\n",
    "    <td>.</td>\n",
    "  </tr>\n",
    "  <tr>\n",
    "    <td>.</td>\n",
    "    <td>#</td>\n",
    "    <td>.</td>\n",
    "    <td>#</td>\n",
    "    <td>.</td>\n",
    "    <td>#</td>\n",
    "    <td>.</td>\n",
    "    <td>#</td>\n",
    "  </tr>\n",
    "  <tr>\n",
    "    <td>.</td>\n",
    "    <td>.</td>\n",
    "    <td>.</td>\n",
    "    <td>.</td>\n",
    "    <td>#</td>\n",
    "    <td>.</td>\n",
    "    <td>.</td>\n",
    "    <td>.</td>\n",
    "  </tr>\n",
    "  <tr>\n",
    "    <td>#</td>\n",
    "    <td>.</td>\n",
    "    <td>#</td>\n",
    "    <td>.</td>\n",
    "    <td>#</td>\n",
    "    <td>#</td>\n",
    "    <td>.</td>\n",
    "    <td>#</td>\n",
    "  </tr>\n",
    "  <tr>\n",
    "    <td>.</td>\n",
    "    <td>#</td>\n",
    "    <td>#</td>\n",
    "    <td>.</td>\n",
    "    <td>#</td>\n",
    "    <td>.</td>\n",
    "    <td>.</td>\n",
    "    <td>.</td>\n",
    "  </tr>\n",
    "  <tr>\n",
    "    <td>#</td>\n",
    "    <td>#</td>\n",
    "    <td>.</td>\n",
    "    <td>.</td>\n",
    "    <td>#</td>\n",
    "    <td>.</td>\n",
    "    <td>.</td>\n",
    "    <td>#</td>\n",
    "  </tr>\n",
    "  <tr>\n",
    "    <td>.</td>\n",
    "    <td>#</td>\n",
    "    <td>.</td>\n",
    "    <td>.</td>\n",
    "    <td>.</td>\n",
    "    <td>#</td>\n",
    "    <td>.</td>\n",
    "    <td>.</td>\n",
    "  </tr>\n",
    "  <tr>\n",
    "    <td>#</td>\n",
    "    <td>#</td>\n",
    "    <td>.</td>\n",
    "    <td>#</td>\n",
    "    <td>.</td>\n",
    "    <td>#</td>\n",
    "    <td>#</td>\n",
    "    <td>.</td>\n",
    "  </tr>\n",
    "</table>\n",
    "\n",
    "> Given your actual key string, **how many squares are used**?\n",
    "\n",
    "As a step of preparation, a function for converting hexadecimal to binary format is required. To achieve equal lenghts for all rows, lower values are padded with leading zeros."
   ]
  },
  {
   "cell_type": "code",
   "execution_count": 5,
   "metadata": {
    "collapsed": false
   },
   "outputs": [
    {
     "data": {
      "text/plain": [
       "[0000, 0001, 1001, 1010, 1111]"
      ]
     },
     "execution_count": 5,
     "metadata": {},
     "output_type": "execute_result"
    }
   ],
   "source": [
    "/**\n",
    " * Convert hexadecimal to binary \n",
    " */\n",
    "fun toBinary(hex: String) = hex.map {\n",
    "    val x = java.lang.Long.parseLong(it.toString(), 16).toString(2)\n",
    "    \"000\".take(4 - x.length) + x\n",
    "}.joinToString(\"\")\n",
    "\n",
    "listOf(\"0\", \"1\", \"9\", \"a\", \"f\").map{ toBinary(it) }"
   ]
  },
  {
   "cell_type": "code",
   "execution_count": 8,
   "metadata": {
    "collapsed": false
   },
   "outputs": [
    {
     "data": {
      "text/plain": [
       "8204"
      ]
     },
     "execution_count": 8,
     "metadata": {},
     "output_type": "execute_result"
    }
   ],
   "source": [
    "/**\n",
    " * Create a 128x128 grid by calculating 128 knot-hashes from word + \"-$i\",\n",
    " * where i is a running number from [1,128].\n",
    " */\n",
    "fun createGrid(word: String): Array<Array<Int>> {\n",
    "\n",
    "    val array = Array(128, { _ -> Array(128) { 0 } })\n",
    "    for (i in 0..127) {\n",
    "        val hash = knotHash(word + \"-\" + i)\n",
    "        val bits = toBinary(hash)\n",
    "        for ((index, bit) in bits.withIndex()) {\n",
    "            array[i][index] = bit.toString().toInt()\n",
    "        }\n",
    "    }\n",
    "    return array\n",
    "}\n",
    "\n",
    "val test = \"flqrgnkx\"\n",
    "val word = \"xlqgujun\"\n",
    "\n",
    "val grid = createGrid(word)\n",
    "grid.map { it.sum() }.sum()"
   ]
  },
  {
   "cell_type": "markdown",
   "metadata": {},
   "source": [
    "In **Part 2** the goal was to find regions in the grid. A region is a set of directly neighboring used squares in the grid, where a direct neighbor can be up, down, left and right - not diagonal.\n",
    "\n",
    "<table>\n",
    "  <tr>\n",
    "    <td style=\"background-color: #F9E79F\"> 1 </td>\n",
    "    <td style=\"background-color: #F9E79F\"> 1 </td>\n",
    "    <td>.</td>\n",
    "    <td style=\"background-color: #F9E79F\"> 2 </td>\n",
    "    <td>.</td>\n",
    "    <td style=\"background-color: #F9E79F\"> 3 </td>\n",
    "    <td>.</td>\n",
    "    <td>.</td>\n",
    "  </tr>\n",
    "  <tr>\n",
    "    <td>.</td>\n",
    "    <td style=\"background-color: #F9E79F\"> 1 </td>\n",
    "    <td>.</td>\n",
    "    <td style=\"background-color: #F9E79F\"> 2 </td>\n",
    "    <td>.</td>\n",
    "    <td style=\"background-color: #F9E79F\"> 3 </td>\n",
    "    <td>.</td>\n",
    "    <td style=\"background-color: #F9E79F\"> 4 </td>\n",
    "  </tr>\n",
    "  <tr>\n",
    "    <td>.</td>\n",
    "    <td>.</td>\n",
    "    <td>.</td>\n",
    "    <td>.</td>\n",
    "    <td style=\"background-color: #F9E79F\"> 5 </td>\n",
    "    <td>.</td>\n",
    "    <td>.</td>\n",
    "    <td>.</td>\n",
    "  </tr>\n",
    "  <tr>\n",
    "    <td style=\"background-color: #F9E79F\"> 7 </td>\n",
    "    <td>.</td>\n",
    "    <td style=\"background-color: #F9E79F\"> 8 </td>\n",
    "    <td>.</td>\n",
    "    <td style=\"background-color: #F9E79F\"> 5 </td>\n",
    "    <td style=\"background-color: #F9E79F\"> 5 </td>\n",
    "    <td>.</td>\n",
    "    <td style=\"background-color: #F9E79F\"> 6 </td>\n",
    "  </tr>\n",
    "  <tr>\n",
    "    <td>.</td>\n",
    "    <td style=\"background-color: #F9E79F\"> 8 </td>\n",
    "    <td style=\"background-color: #F9E79F\"> 8 </td>\n",
    "    <td>.</td>\n",
    "    <td style=\"background-color: #F9E79F\"> 5 </td>\n",
    "    <td>.</td>\n",
    "    <td>.</td>\n",
    "    <td>.</td>\n",
    "  </tr>\n",
    "  <tr>\n",
    "    <td style=\"background-color: #F9E79F\"> 8 </td>\n",
    "    <td style=\"background-color: #F9E79F\"> 8 </td>\n",
    "    <td>.</td>\n",
    "    <td>.</td>\n",
    "    <td style=\"background-color: #F9E79F\"> 5 </td>\n",
    "    <td>.</td>\n",
    "    <td>.</td>\n",
    "    <td style=\"background-color: #F9E79F\">9</td>\n",
    "  </tr>\n",
    "  <tr>\n",
    "    <td>.</td>\n",
    "    <td style=\"background-color: #F9E79F\">8</td>\n",
    "    <td>.</td>\n",
    "    <td>.</td>\n",
    "    <td>.</td>\n",
    "    <td style=\"background-color: #F9E79F\">11</td>\n",
    "    <td>.</td>\n",
    "    <td>.</td>\n",
    "  </tr>\n",
    "  <tr>\n",
    "    <td style=\"background-color: #F9E79F\">8</td>\n",
    "    <td style=\"background-color: #F9E79F\">8</td>\n",
    "    <td>.</td>\n",
    "    <td style=\"background-color: #F9E79F\">10</td>\n",
    "    <td>.</td>\n",
    "    <td style=\"background-color: #F9E79F\">11</td>\n",
    "    <td style=\"background-color: #F9E79F\">11</td>\n",
    "    <td>.</td>\n",
    "  </tr>\n",
    "</table>\n",
    "\n",
    "> **How many regions** are present given your key string?"
   ]
  },
  {
   "cell_type": "code",
   "execution_count": 12,
   "metadata": {
    "collapsed": false
   },
   "outputs": [
    {
     "data": {
      "text/plain": [
       "1089"
      ]
     },
     "execution_count": 12,
     "metadata": {},
     "output_type": "execute_result"
    }
   ],
   "source": [
    "/**\n",
    " * Return the set of points that are in the same region as the specified point.\n",
    " */\n",
    "fun getRegion(array: Array<Array<Int>>, index: Pair<Int, Int>): Set<Pair<Int, Int>> {\n",
    "\n",
    "    val region = mutableSetOf(index)\n",
    "    val visit = mutableListOf(index)\n",
    "    while (visit.isNotEmpty()) {\n",
    "        val i = visit.removeAt(0)\n",
    "        val x = i.first\n",
    "        val y = i.second\n",
    "\n",
    "        val neighbors = listOf(Pair(x - 1, y), Pair(x + 1, y), Pair(x, y - 1), Pair(x, y + 1))\n",
    "        neighbors.forEach {\n",
    "            if (it.first >= 0 && it.first < array.size && it.second >= 0 && it.second < array.size) {\n",
    "                if (array[it.first][it.second] > 0 && !region.contains(it)) {\n",
    "                    region.add(it)\n",
    "                    visit.add(it)\n",
    "                }\n",
    "            }\n",
    "        }\n",
    "    }\n",
    "    return region\n",
    "}\n",
    "\n",
    "/**\n",
    " * Count the number of regions in a grid\n",
    " */\n",
    "fun countRegions(grid: Array<Array<Int>>): Int {\n",
    "    \n",
    "    val regions = mutableSetOf<Set<Pair<Int, Int>>>()\n",
    "    for ((i, line) in grid.withIndex()) {\n",
    "        line.indices\n",
    "                .filter { grid[i][it] > 0 }\n",
    "                .mapTo(regions) { getRegion(grid, Pair(i, it)) }\n",
    "    }\n",
    "    return regions.size\n",
    "}\n",
    "\n",
    "assertEquals(1242, countRegions(createGrid(test)))\n",
    "\n",
    "countRegions(grid)"
   ]
  },
  {
   "cell_type": "markdown",
   "metadata": {
    "collapsed": true
   },
   "source": [
    "## [Day 15](https://adventofcode.com/2017/day/15): Dueling Generators\n",
    "\n",
    "A judge compares two streams of numbers that are generated by the two  generators A and B and tries to find matches. Matches are found by comparing the 16 lowest bits of each number. However, the numbers don't always match, as one of the generators is malfunctioning.\n",
    "\n",
    "The generators both work on the same principle. To create its next value, a generator will take the previous value it produced, multiply it by a factor (generator A uses 16807; generator B uses 48271), and then keep the remainder of dividing that resulting product by 2147483647. That final remainder is the value it produces next.\n",
    "\n",
    "To calculate each generator's first value, it instead uses a specific starting value as its \"previous value\" (as listed in your puzzle input).\n",
    "\n",
    "> After 40 million pairs, what is the judge's **final count**?"
   ]
  },
  {
   "cell_type": "code",
   "execution_count": 3,
   "metadata": {
    "collapsed": true
   },
   "outputs": [],
   "source": [
    "/**\n",
    " * Calculate the next value\n",
    " */\n",
    "object Generator {\n",
    "    fun next(n: Long, factor: Long) = (n * factor) % 2147483647L\n",
    "}"
   ]
  },
  {
   "cell_type": "code",
   "execution_count": 4,
   "metadata": {
    "collapsed": false
   },
   "outputs": [
    {
     "data": {
      "text/plain": [
       "638"
      ]
     },
     "execution_count": 4,
     "metadata": {},
     "output_type": "execute_result"
    }
   ],
   "source": [
    "val factorA = 16807L\n",
    "val factorB = 48271L\n",
    "/**\n",
    " * Counts the number of matches after [rounds] iterations\n",
    " */\n",
    "fun countMatches(aStarting: Long, bStarting: Long, generateA: (Long, Long) -> Long, generateB: (Long, Long) -> Long, rounds: Int): Int {\n",
    "\n",
    "    var matchCount = 0\n",
    "    var a = aStarting\n",
    "    var b = bStarting\n",
    "    repeat(rounds) {\n",
    "        a = generateA(a, factorA)\n",
    "        b = generateB(b, factorB)\n",
    "        if (a.toString(2).takeLast(16) == b.toString(2).takeLast(16)) {\n",
    "            matchCount++\n",
    "        }\n",
    "    }\n",
    "    return matchCount\n",
    "}\n",
    "\n",
    "val test = Pair(65L, 8921L)\n",
    "assertEquals(1, countMatches(test.first, test.second, Generator::next, Generator::next, 5))\n",
    "\n",
    "val input = Pair(289L, 629L)\n",
    "countMatches(input.first, input.second, Generator::next, Generator::next, 40_000_000)"
   ]
  },
  {
   "cell_type": "markdown",
   "metadata": {},
   "source": [
    "In **Part 2** both generators work a little bit different: They still generate values in the same way, but now they only hand a value to the judge when it meets their criteria:\n",
    "\n",
    "* Generator A looks for values that are multiples of 4.\n",
    "* Generator B looks for values that are multiples of 8.\n",
    "\n",
    "> After 5 million pairs, but using this new generator logic, **what is the judge's final count**?"
   ]
  },
  {
   "cell_type": "code",
   "execution_count": 5,
   "metadata": {
    "collapsed": false
   },
   "outputs": [
    {
     "data": {
      "text/plain": [
       "343"
      ]
     },
     "execution_count": 5,
     "metadata": {},
     "output_type": "execute_result"
    }
   ],
   "source": [
    "/**\n",
    " * Calculate the next value (as a multiple of the specified value)\n",
    " */\n",
    "fun Generator.nextUpdated(n: Long, factor: Long, multiple: Long): Long {\n",
    "    var result = (n * factor) % 2147483647L\n",
    "    while (result % multiple != 0L) {\n",
    "        result = (result * factor) % 2147483647L\n",
    "    }\n",
    "    return result\n",
    "}\n",
    "\n",
    "val generateA = { n: Long, factor: Long -> Generator.nextUpdated(n, factor, 4) }\n",
    "val generateB = { n: Long, factor: Long -> Generator.nextUpdated(n, factor, 8) }\n",
    "\n",
    "assertEquals(309, countMatches(test.first, test.second, generateA, generateB, 5_000_000))\n",
    "\n",
    "countMatches(input.first, input.second, generateA, generateB, 5_000_000)"
   ]
  },
  {
   "cell_type": "markdown",
   "metadata": {
    "collapsed": true
   },
   "source": [
    "## [Day 16](https://adventofcode.com/2017/day/16): Day 16: Permutation Promenade\n",
    "\n",
    "16 programs `[a-p]` stand in a line and perform a dance, consisting of a sequence of three different dance moves:\n",
    "\n",
    "* **Spin** (written `sX`): makes X programs move from the end to the front, but maintain their order otherwise.\n",
    "* **Exchange** (written `xA/B`): makes the programs at positions `A` and `B` swap places.\n",
    "* **Partner** (written `pA/B`): makes the programs named `A` and `B` swap places.\n",
    "\n",
    "> You watch the dance for a while and record their dance moves (your puzzle input). **In what order are the programs standing** after their dance?\n",
    "\n",
    "First, we create three list extension functions, corresponding to the three different dance moves: "
   ]
  },
  {
   "cell_type": "code",
   "execution_count": 2,
   "metadata": {
    "collapsed": true
   },
   "outputs": [],
   "source": [
    "/**\n",
    " * Makes [count] elements move from the end to the front, maintaining their order.\n",
    " */\n",
    "fun <T> List<T>.spin(count: Int) = takeLast(count) + take(size - count)\n",
    "\n",
    "/**\n",
    " * Makes the elements at positions [positionA] and [positionB] swap places.\n",
    " */\n",
    "fun <T> List<T>.exchange(positionA: Int, positionB: Int): List<T> {\n",
    "    val list = toMutableList()\n",
    "    val tmp = list[positionA]\n",
    "    list[positionA] = list[positionB]\n",
    "    list[positionB] = tmp\n",
    "    return list\n",
    "}\n",
    "\n",
    "/**\n",
    " * Makes the elements [elem1] and [elem2] swap places.\n",
    " */\n",
    "fun <T> List<T>.partner(elem1: T, elem2: T) = exchange(indexOf(elem1), indexOf(elem2))"
   ]
  },
  {
   "cell_type": "code",
   "execution_count": 3,
   "metadata": {
    "collapsed": false
   },
   "outputs": [
    {
     "data": {
      "text/plain": [
       "padheomkgjfnblic"
      ]
     },
     "execution_count": 3,
     "metadata": {},
     "output_type": "execute_result"
    }
   ],
   "source": [
    "/**\n",
    " * Perform the sequence of dance-[moves] with the given [programs].\n",
    " */\n",
    "fun dance(programs: List<Char>, moves: List<String>): List<Char> {\n",
    "    var result = programs\n",
    "    for (move in moves) {\n",
    "        when {\n",
    "            move.startsWith(\"s\") -> {\n",
    "                val n = move.removePrefix(\"s\").toInt()\n",
    "                result = result.spin(n)\n",
    "            }\n",
    "            move.startsWith(\"x\") -> {\n",
    "                val ab = move.removePrefix(\"x\").split(\"/\")\n",
    "                val a = ab[0].toInt()\n",
    "                val b = ab[1].toInt()\n",
    "                result = result.exchange(a, b)\n",
    "            }\n",
    "            move.startsWith(\"p\") -> {\n",
    "                val ab = move.removePrefix(\"p\").split(\"/\")\n",
    "                val a = ab[0].first()\n",
    "                val b = ab[1].first()\n",
    "                result = result.partner(a, b)\n",
    "            }\n",
    "        }\n",
    "    }\n",
    "    return result\n",
    "}\n",
    "\n",
    "val test = CharRange('a', 'e').toList()\n",
    "val testMoves = \"s1,x3/4,pe/b\".split(\",\")\n",
    "\n",
    "assertEquals(\"baedc\", dance(test, testMoves).joinToString(\"\"))\n",
    "\n",
    "val day16url = \"https://gist.githubusercontent.com/anonymous/454279374b163f82c8124b70bb589d02/raw/5a72f1ab380ca327c63666ec5358fcb4c2d1fca5/advent-of-code-day16.txt\"\n",
    "val input = getContent(URL(day16url))\n",
    "\n",
    "val programs = CharRange('a', 'p').toList()\n",
    "val moves = input.split(\",\")\n",
    "\n",
    "dance(programs, moves).joinToString(\"\")"
   ]
  },
  {
   "cell_type": "markdown",
   "metadata": {},
   "source": [
    "For **Part 2** the dance is repeated 1 billion times by the same programs, i.e. the input for the second iteration is the result of the first iteration.\n",
    "\n",
    "> **In what order are the programs standing** after their billion dances?\n",
    "\n",
    "A first attempt to wrap the assignment in a loop rendered hopeless regarding the runtime. Thus the second approach I tried was to find a loop within the sequence, i.e. reoccuring permutations of the programs. Fortunately, this worked and a loop was found after `60` dances."
   ]
  },
  {
   "cell_type": "code",
   "execution_count": 4,
   "metadata": {
    "collapsed": false
   },
   "outputs": [
    {
     "name": "stdout",
     "output_type": "stream",
     "text": [
      "Loop found after: 60 dances.\n"
     ]
    },
    {
     "data": {
      "text/plain": [
       "bfcdeakhijmlgopn"
      ]
     },
     "execution_count": 4,
     "metadata": {},
     "output_type": "execute_result"
    }
   ],
   "source": [
    "var dancers = dance(programs, moves)\n",
    "val sequence = mutableListOf<List<Char>>()\n",
    "while (!sequence.contains(dancers)) {\n",
    "    sequence.add(dancers)\n",
    "    dancers = dance(dancers, moves)\n",
    "}\n",
    "println(\"Loop found after: ${sequence.size} dances.\")\n",
    "sequence[(1_000_000_000 - 1) % sequence.size].joinToString(\"\")"
   ]
  },
  {
   "cell_type": "markdown",
   "metadata": {
    "collapsed": true
   },
   "source": [
    "## [Day 17](http://adventofcode.com/2017/day/17): Spinlock\n",
    "\n",
    "A small algorithm spreads across the memory and fills a circular buffer by following certain rules:\n",
    "\n",
    "Starting with `0`, it makes `n` steps, where `n` refers to the puzzle input. After these steps, it inserts the next value, in this case `1` (i.e. `0 + 1`) into the buffer. \n",
    "\n",
    "> **What is the value after 2017** in your completed circular buffer?"
   ]
  },
  {
   "cell_type": "code",
   "execution_count": 2,
   "metadata": {
    "collapsed": false
   },
   "outputs": [
    {
     "data": {
      "text/plain": [
       "725"
      ]
     },
     "execution_count": 2,
     "metadata": {},
     "output_type": "execute_result"
    }
   ],
   "source": [
    "val input = 329\n",
    "val buffer = mutableListOf(0)\n",
    "var currentPosition = 0\n",
    "for (i in 1..2017) {\n",
    "    currentPosition = ((currentPosition + input) % buffer.size) + 1\n",
    "    buffer.add(currentPosition, i)\n",
    "}\n",
    "val index = buffer.indexOf(2017)\n",
    "buffer[index + 1]"
   ]
  },
  {
   "cell_type": "markdown",
   "metadata": {},
   "source": [
    "In **Part 2**, the situation changed slightly: While now we have to make 50 Million iterations, we just want to know the second element in the buffer, i.e. the element behind `0`.\n",
    "\n",
    "> **What is the value after 0** the moment 50000000 is inserted?\n",
    "\n",
    "We can omit the `buffer` now:"
   ]
  },
  {
   "cell_type": "code",
   "execution_count": 3,
   "metadata": {
    "collapsed": false
   },
   "outputs": [
    {
     "data": {
      "text/plain": [
       "27361412"
      ]
     },
     "execution_count": 3,
     "metadata": {},
     "output_type": "execute_result"
    }
   ],
   "source": [
    "var currentPosition = 0\n",
    "var element = 0\n",
    "for (i in 1..(50_000_000 + 1)) {\n",
    "    currentPosition = (currentPosition + input) % i + 1\n",
    "    if (currentPosition == 1) {\n",
    "        element = i\n",
    "    }\n",
    "}\n",
    "element"
   ]
  },
  {
   "cell_type": "markdown",
   "metadata": {
    "collapsed": true
   },
   "source": [
    "## [Day 18](https://adventofcode.com/2017/day/18): Duet\n",
    "\n",
    "For this task, some assembler code -- presumably from a sound card -- should be executed. The instructions and their semantics are:\n",
    "\n",
    "* `snd X`: plays a sound with a frequency equal to the value of `X`.\n",
    "* `set X Y`: sets register `X` to the value of `Y`.\n",
    "* `add X Y`: increases register `X` by the value of `Y`.\n",
    "* `mul X Y`: sets register `X` to the result of multiplying the value contained in register `X` by the value of `Y`.\n",
    "* `mod X Y`: sets register `X` to the remainder of dividing the value contained in register `X` by the value of `Y` (that is, it sets `X` to the result of `X` modulo `Y`).\n",
    "* `rcv X`: recovers the frequency of the last sound played, but only when the value of `X` is not zero. (If it is zero, the command does nothing.)\n",
    "* `jgz X Y`: jumps with an offset of the value of `Y`, but only if the value of `X` is greater than zero. (An offset of 2 skips the next instruction, an offset of -1 jumps to the previous instruction, and so on.)\n",
    "\n",
    "> **What is the value of the recovered frequency** (the value of the most recently played sound) the first time a rcv instruction is executed with a non-zero value?"
   ]
  },
  {
   "cell_type": "code",
   "execution_count": 6,
   "metadata": {
    "collapsed": false
   },
   "outputs": [
    {
     "data": {
      "text/plain": [
       "1187"
      ]
     },
     "execution_count": 6,
     "metadata": {},
     "output_type": "execute_result"
    }
   ],
   "source": [
    "/**\n",
    " * Get the value of [arg], i.e. the register value, if [arg] is a register, else [arg] as value. \n",
    " */\n",
    "fun get(registers: Map<Char, Long>, arg: String = \"\") = try {\n",
    "    arg.toLong()\n",
    "} catch (e: NumberFormatException) {\n",
    "    registers[arg.first()] ?: 0\n",
    "}\n",
    "\n",
    "/**\n",
    " * Run the tokenized program and return the value of the last played sound,\n",
    " * once the first non-zero `rcv` instruction is reached.\n",
    " */\n",
    "fun run(program: List<List<String>>): Long {\n",
    "    val registers = mutableMapOf<Char, Long>()\n",
    "    var lastSound = 0L\n",
    "    var pc = 0\n",
    "    while (pc < program.size) {\n",
    "        val line = program[pc]\n",
    "        val reg = line[1].first()\n",
    "        when {\n",
    "            line.first() == \"snd\" -> {\n",
    "                lastSound = get(registers, line[1])\n",
    "            }\n",
    "            line.first() == \"set\" -> registers.put(reg, get(registers, line[2]))\n",
    "            line.first() == \"add\" -> {\n",
    "                registers[reg] = (registers[reg] ?: 0) + get(registers, line[2])\n",
    "            }\n",
    "            line.first() == \"mul\" -> {\n",
    "                registers[reg] = (registers[reg] ?: 0) * get(registers, line[2])\n",
    "            }\n",
    "            line.first() == \"mod\" -> {\n",
    "                registers[reg] = (registers[reg] ?: 0) % get(registers, line[2])\n",
    "            }\n",
    "            line.first() == \"rcv\" -> {\n",
    "                if (get(registers, line[1]) != 0L) {\n",
    "                    return lastSound\n",
    "                }\n",
    "            }\n",
    "            line.first() == \"jgz\" -> {\n",
    "                if (get(registers, line[1]) > 0) {\n",
    "                    pc += (get(registers, line[2]) - 1).toInt()\n",
    "                }\n",
    "            }\n",
    "        }\n",
    "        pc++\n",
    "    }\n",
    "    return -1L\n",
    "}\n",
    "\n",
    "val test =\n",
    "\"\"\"\n",
    "set a 1\n",
    "add a 2\n",
    "mul a a\n",
    "mod a 5\n",
    "snd a\n",
    "set a 0\n",
    "rcv a\n",
    "jgz a -1\n",
    "set a 1\n",
    "jgz a -2\n",
    "\"\"\".trim()\n",
    "val testProgram = test.lines().map { it.split(\" \") }\n",
    "assertEquals(4, run(testProgram))\n",
    "    \n",
    "val day18url = \"https://gist.githubusercontent.com/rafaelkonlechner/ce688e0134248bed4b748e57e0f892b8/raw/4ed27259ae54e40b5840230d1aed67ea44e1e223/advent-of-code-day18.txt\"\n",
    "val input = getContent(URL(day18url))\n",
    "val program = input.lines().map { it.split(\" \") }\n",
    "run(program)"
   ]
  },
  {
   "cell_type": "markdown",
   "metadata": {},
   "source": [
    "In **Part 2** it is revealed that the instructions are not for sound cards, but rather for concurrent programs. In this setting, `snd` stands for *send* and `rcv` for *receive* and enables concurrent programs to communicate via a message queue.\n",
    "The assignment asks to run two programs **program 0** and **program 1** in parallel. The registers `p` of both programs are initialized with the values `0` and `1` respectively. While both programs are running, they send messages back and forth. Once they terminate -- either by reaching the end of instructions or by reaching a deadlock -- the amount of sent messages of program `1` should be returned.\n",
    "\n",
    "> Once both of your programs have terminated (regardless of what caused them to do so), **how many times did program `1` send a value**?\n",
    "\n",
    "***Disclaimer***: The code below is not executable in this environment. It facilitates coroutines, which are an **experimental** feature of Kotlin and are not yet supported by Kotlin REPL."
   ]
  },
  {
   "cell_type": "code",
   "execution_count": 9,
   "metadata": {
    "collapsed": false
   },
   "outputs": [
    {
     "data": {
      "text/plain": [
       "5969 (edited)"
      ]
     },
     "execution_count": 6,
     "metadata": {},
     "output_type": "execute_result"
    }
   ],
   "source": [
    "import kotlinx.coroutines.experimental.launch\n",
    "import kotlinx.coroutines.experimental.runBlocking\n",
    "import kotlinx.coroutines.experimental.withTimeout\n",
    "\n",
    "/**\n",
    " * Run the program and return the number of sent messages after termination. Termination\n",
    " * occurs either after finishing all instructions or after a 5 second timeout, waiting for\n",
    " * a message.\n",
    " */\n",
    "suspend fun runUpdated(id: Int, program: List<List<String>>, registers: MutableMap<Char, Long>, outgoing: Channel<Long>, incoming: Channel<Long>): Int {\n",
    "    var sent = 0\n",
    "    var pc = 0\n",
    "    while (pc < program.size) {\n",
    "        val line = program[pc]\n",
    "        val reg = line[1].first()\n",
    "        when {\n",
    "            line.first() == \"snd\" -> {\n",
    "                outgoing.send(get(registers, line[1]))\n",
    "                sent++\n",
    "            }\n",
    "            line.first() == \"set\" -> registers.put(reg, get(registers, line[2]))\n",
    "            line.first() == \"add\" -> {\n",
    "                registers[reg] = (registers[reg] ?: 0) + get(registers, line[2])\n",
    "            }\n",
    "            line.first() == \"mul\" -> {\n",
    "                registers[reg] = (registers[reg] ?: 0) * get(registers, line[2])\n",
    "            }\n",
    "            line.first() == \"mod\" -> {\n",
    "                registers[reg] = (registers[reg] ?: 0) % get(registers, line[2])\n",
    "            }\n",
    "            line.first() == \"rcv\" -> {\n",
    "                try {\n",
    "                    withTimeout(5000) {\n",
    "                        val value = incoming.receive()\n",
    "                        registers[reg] = value\n",
    "                    }\n",
    "                } catch (e: TimeoutCancellationException) {\n",
    "                    return sent\n",
    "                }\n",
    "            }\n",
    "            line.first() == \"jgz\" -> {\n",
    "                if (get(registers, line[1]) > 0) {\n",
    "                    pc += (get(registers, line[2]) - 1).toInt()\n",
    "                }\n",
    "            }\n",
    "        }\n",
    "        pc++\n",
    "    }\n",
    "    return sent\n",
    "}\n",
    "    \n",
    "val registers0 = mutableMapOf('p' to 0L)\n",
    "val registers1 = mutableMapOf('p' to 1L)\n",
    "val channel01 = Channel<Long>(Channel.UNLIMITED)\n",
    "val channel10 = Channel<Long>(Channel.UNLIMITED)\n",
    "runBlocking {\n",
    "    val job0 = launch {\n",
    "        runUpdated(0, program, registers0, channel01, channel10)\n",
    "    }\n",
    "\n",
    "    val job1 = launch {\n",
    "        println(runUpdated(1, program, registers1, channel10, channel01))\n",
    "    }\n",
    "\n",
    "    job0.join()\n",
    "    job1.join()\n",
    "}"
   ]
  },
  {
   "cell_type": "markdown",
   "metadata": {},
   "source": [
    "## [Day 19](https://adventofcode.com/2017/day/19): A Series of Tubes\n",
    "\n",
    "A packet needs to follow a path, similar to the example path below:\n",
    "\n",
    "```\n",
    "     |          \n",
    "     |  +--+    \n",
    "     A  |  C    \n",
    " F---|----E|--+ \n",
    "     |  |  |  D \n",
    "     +B-+  +--+\n",
    "```\n",
    "\n",
    "Note that it is not a labyrinth, but rather a single path that sometimes crosses it's own way. The rules are simple: Follow the path, starting from the top and keep going straight (e.g. at intersections), unless it is not possible, in which case take a left or a right turn. Whenever you pass a letter, remember it.\n",
    "\n",
    "> **What letters will it [the packet] see** (in the order it would see them) if it follows the path?\n",
    "\n",
    "First, let us define a function that decides the next valid move. A valid move goes straight if possible, left or right otherwise. It does not go backwards. Thus, we need to keep track of the direction of movement.\n",
    "\n",
    "*Note:* The initial idea was to model `direction` as an enumeration, but Kotlin REPL crashed with this setting."
   ]
  },
  {
   "cell_type": "code",
   "execution_count": 2,
   "metadata": {
    "collapsed": false
   },
   "outputs": [],
   "source": [
    "/**\n",
    " * Position in the path.\n",
    " */\n",
    "data class Position(\n",
    "        val x: Int,\n",
    "        val y: Int,\n",
    "        val direction: String\n",
    ")\n",
    "\n",
    "/**\n",
    " * A move is valid, iff it is within all bounds, it moves exactly one position horizontally or vertically\n",
    " * and consists of a dedicated path character.\n",
    " */\n",
    "fun isValidMove(path: List<String>, current: Position, move: Position): Boolean {\n",
    "    return Math.abs(current.y - move.y) + Math.abs(current.x - move.x) == 1\n",
    "            && move.y in path.indices\n",
    "            && move.x in 0 until path[move.y].length\n",
    "            && when (path[move.y][move.x]) {\n",
    "                '|', '-', '+' -> true\n",
    "                in CharRange('A', 'Z') -> true\n",
    "                else -> false\n",
    "            }\n",
    "}\n",
    "\n",
    "/**\n",
    " * Move straight, if possible, else move left or right. If no movement is possible, return the current position.\n",
    " */\n",
    "fun move(path: List<String>, position: Position): Position {\n",
    "    val straight = when (position.direction) {\n",
    "        \"down\" -> Position(position.x, position.y + 1, \"down\")\n",
    "        \"up\" -> Position(position.x, position.y - 1, \"up\")\n",
    "        \"left\" -> Position(position.x - 1, position.y, \"left\")\n",
    "        \"right\" -> Position(position.x + 1, position.y, \"right\")\n",
    "        else -> position\n",
    "\n",
    "    }\n",
    "    val left = when (position.direction) {\n",
    "        \"down\" -> Position(position.x - 1, position.y, \"left\")\n",
    "        \"up\" -> Position(position.x + 1, position.y, \"right\")\n",
    "        \"left\" -> Position(position.x, position.y + 1, \"down\")\n",
    "        \"right\" -> Position(position.x, position.y - 1, \"up\")\n",
    "        else -> position\n",
    "\n",
    "    }\n",
    "    val right = when (position.direction) {\n",
    "        \"down\" -> Position(position.x + 1, position.y, \"right\")\n",
    "        \"up\" -> Position(position.x - 1, position.y, \"left\")\n",
    "        \"left\" -> Position(position.x, position.y - 1, \"up\")\n",
    "        \"right\" -> Position(position.x, position.y + 1, \"down\")\n",
    "        else -> position\n",
    "\n",
    "    }\n",
    "    return when {\n",
    "        isValidMove(path, position, straight) -> straight\n",
    "        isValidMove(path, position, left) -> left\n",
    "        isValidMove(path, position, right) -> right\n",
    "        else -> position\n",
    "    }\n",
    "}"
   ]
  },
  {
   "cell_type": "code",
   "execution_count": 6,
   "metadata": {
    "collapsed": false
   },
   "outputs": [
    {
     "data": {
      "text/plain": [
       "RYLONKEWB"
      ]
     },
     "execution_count": 6,
     "metadata": {},
     "output_type": "execute_result"
    }
   ],
   "source": [
    "/**\n",
    " * Move along the path and return the collected letters, as well as the overall number of steps.\n",
    " */\n",
    "fun moveOnPath(path: List<String>): Pair<String, Int> {\n",
    "    var finished = false\n",
    "    var letters = \"\"\n",
    "    var steps = 1\n",
    "        \n",
    "    var pos = Position(path.first().indexOf('|'), 0, \"down\")\n",
    "    var newPos = move(path, pos)\n",
    "\n",
    "    while (!finished) {\n",
    "        if (newPos == pos) {\n",
    "            finished = true\n",
    "        } else {\n",
    "            pos = newPos\n",
    "            newPos = move(path, pos)\n",
    "            val hint = path[pos.y][pos.x]\n",
    "            if (hint in CharRange('A', 'Z')) {\n",
    "                letters += hint\n",
    "            }\n",
    "            steps++\n",
    "        }\n",
    "    }\n",
    "    return Pair(letters, steps) \n",
    "}\n",
    "\n",
    "val day19url = \"https://gist.githubusercontent.com/rafaelkonlechner/c6a33e634ef20a6be6313efd07c4ab68/raw/3fbf1c6635a93e3dbce72e212b06903263aa61b5/advent-of-code-day19.txt\"\n",
    "val input = getContent(URL(day19url))\n",
    "\n",
    "moveOnPath(input.lines()).first"
   ]
  },
  {
   "cell_type": "markdown",
   "metadata": {},
   "source": [
    "**Part 2** poses the assignment a little bit differently:\n",
    "\n",
    "> **How many steps** does the packet need to go?\n",
    "\n",
    "Due to the prep-work in **Part 1**, not much needs to be done:"
   ]
  },
  {
   "cell_type": "code",
   "execution_count": 7,
   "metadata": {
    "collapsed": false
   },
   "outputs": [
    {
     "data": {
      "text/plain": [
       "16016"
      ]
     },
     "execution_count": 7,
     "metadata": {},
     "output_type": "execute_result"
    }
   ],
   "source": [
    "moveOnPath(input.lines()).second"
   ]
  },
  {
   "cell_type": "markdown",
   "metadata": {
    "collapsed": true
   },
   "source": [
    "## [Day 20](https://adventofcode.com/2017/day/20): Particle Swarm\n",
    "\n",
    "A GPU calculates the 3D position of particles in a simulation. One particle consists of three vectors: a position `p`, a velocity `v` and an accelleration `a`. Each of these vectors has three values `(x, y, z)` for the three dimensions.\n",
    "For each frame, the GPU needs to:\n",
    "\n",
    "* Add `a` to `v`\n",
    "* Add `v` to `p`\n",
    "\n",
    "**Which particle will stay closest to position `<0,0,0>`** in the long term?\n",
    "\n",
    "This question can be answered simply by looking at the accelleration of each particle. In the long term, no matter where the particles are located, or which direction their velocity points to, the particle with the smallest accelleration will be closest to the origin. Special rules apply, in the case that two particles have equal accelleration, but first, let us look at the test data:"
   ]
  },
  {
   "cell_type": "code",
   "execution_count": 2,
   "metadata": {
    "collapsed": true
   },
   "outputs": [],
   "source": [
    "/**\n",
    " * 3-dimensional Eucledian vector (alternatively: `typealias Vector3D = Triple<Int, Int, Int>`).\n",
    " */\n",
    "data class Vector3D(\n",
    "        var x: Int,\n",
    "        var y: Int,\n",
    "        var z: Int\n",
    ") {\n",
    "    fun add(v: Vector3D) = Vector3D(v.x + x, v.y + y, v.z + z)\n",
    "\n",
    "    fun manhattanDistance(v: Vector3D) = Math.abs(v.x - x) + Math.abs(v.y - y) + Math.abs(v.z - z)\n",
    "}\n",
    "\n",
    "/**\n",
    " * Particle, defined by position [p], velocity [v] and accelleration [a].\n",
    " */\n",
    "data class Particle(\n",
    "        val id: Int,\n",
    "        var p: Vector3D,\n",
    "        var v: Vector3D,\n",
    "        var a: Vector3D\n",
    ")\n",
    "\n",
    "/**\n",
    " * Parse vector from string with the format: `[\"<p=<x1,y1,z1>\" | \"v=<x2,y2,z2>\" | \"a=<x3,y3,z3>\"]`.\n",
    " */\n",
    "fun parseVector(vector: String): Vector3D {\n",
    "    val values = vector\n",
    "            .removePrefix(\"p=<\")\n",
    "            .removePrefix(\"v=<\")\n",
    "            .removePrefix(\"a=<\")\n",
    "            .removeSuffix(\">\")\n",
    "            .split(\",\")\n",
    "            .map { it.toInt() }\n",
    "    return Vector3D(values[0], values[1], values[2])\n",
    "}"
   ]
  },
  {
   "cell_type": "code",
   "execution_count": 3,
   "metadata": {
    "collapsed": false
   },
   "outputs": [
    {
     "name": "stdout",
     "output_type": "stream",
     "text": [
      "Particle #91\n"
     ]
    }
   ],
   "source": [
    "val day20url = \"https://gist.githubusercontent.com/rafaelkonlechner/7785a25d8aaa28fc42beafb41cf50f27/raw/fa9484921d8e64ee44f88295db18c4068a1ba897/advent-of-code-day20.txt\"\n",
    "val input = getContent(URL(day20url))\n",
    "\n",
    "val particles = input.lines().mapIndexed { i, l ->\n",
    "    val properties = l.split(\", \")\n",
    "    val p = parseVector(properties[0])\n",
    "    val v = parseVector(properties[1])\n",
    "    val a = parseVector(properties[2])\n",
    "    Particle(i, p, v, a)\n",
    "}\n",
    "\n",
    "val minDistance = particles.map { Vector3D(0, 0, 0).manhattanDistance(it.a) }.min()!!\n",
    "val minDistanceParticles = particles.filter { Vector3D(0, 0, 0).\n",
    "manhattanDistance(it.a) == minDistance }\n",
    "if (minDistanceParticles.size == 1) {\n",
    "    println(\"Particle #${minDistanceParticles.first().id}\")\n",
    "}"
   ]
  },
  {
   "cell_type": "markdown",
   "metadata": {},
   "source": [
    "**Part 2** will consider collisions of particles. A collision occurs, when two or more particles share the same position in the same frame. In this case, all colliding particles should be removed from the simulation.\n",
    "\n",
    "> **How many particles are left** after all collisions are resolved?\n",
    "\n",
    "The code below calculates collisions for each frame. The simulation stops, once there were no collisions for 1000 consecutive times. While this does not formally exclude the possibility of later collisions, it reduces the chances. Another way of doing it (and the exact one) would be to calculate the trajectories of all particles and checking them for intersections. Since particles are accelerated, these trajectories would be non-linear."
   ]
  },
  {
   "cell_type": "code",
   "execution_count": 6,
   "metadata": {
    "collapsed": false
   },
   "outputs": [
    {
     "data": {
      "text/plain": [
       "567"
      ]
     },
     "execution_count": 6,
     "metadata": {},
     "output_type": "execute_result"
    }
   ],
   "source": [
    "var nothingHappend = 0\n",
    "var remaining: List<Particle> = particles\n",
    "\n",
    "while (nothingHappend < 1000) {\n",
    "    val collisions = mutableMapOf<Vector3D, MutableList<Particle>>()\n",
    "    for (p in remaining) {\n",
    "        if (collisions.containsKey(p.p)) {\n",
    "            collisions[p.p]!!.add(p)\n",
    "        } else {\n",
    "            collisions.put(p.p, mutableListOf(p))\n",
    "        }\n",
    "    }\n",
    "    val list = collisions.filterValues { it.size == 1 }.map { it.value.first() }\n",
    "    if (list.size < remaining.size) {\n",
    "        remaining = list\n",
    "        nothingHappend = 0\n",
    "    } else {\n",
    "        nothingHappend++\n",
    "    }\n",
    "    for (p in remaining) {\n",
    "        p.v = p.v.add(p.a)\n",
    "        p.p = p.p.add(p.v)\n",
    "    }\n",
    "}\n",
    "remaining.size"
   ]
  },
  {
   "cell_type": "markdown",
   "metadata": {},
   "source": [
    "## [Day 21](https://adventofcode.com/2017/day/21): Fractal Art\n",
    "\n",
    "A program tries to generate art by applying transformation rules to patterns of a binary image ('#' denotes an *on*-pixel, '.' is an *off*-pixel). However, some patterns are missing and existing patterns need to be rotated and flipped, in order to match sections of the image.\n",
    "\n",
    "The starting image is 3x3:\n",
    "\n",
    "<table>\n",
    "  <tr>\n",
    "    <td> . </td>\n",
    "    <td style=\"background-color: #F9E79F\"> # </td>\n",
    "    <td> . </td>\n",
    "  </tr>\n",
    "  <tr>\n",
    "    <td> . </td>\n",
    "    <td> . </td>\n",
    "    <td style=\"background-color: #F9E79F\"> # </td>\n",
    "  </tr>\n",
    "  <tr>\n",
    "    <td style=\"background-color: #F9E79F\"> # </td>\n",
    "    <td style=\"background-color: #F9E79F\"> # </td>\n",
    "    <td style=\"background-color: #F9E79F\"> # </td>\n",
    "  </tr>\n",
    "</table>\n",
    "\n",
    "All patterns are provided in the input file. This is how they are specified: `../.. => #.#/.#./...`. In this example, a 2x2 pattern extends to a 3x3 image after the transformation. By applying the transformations, the image grows steadily. For **Part 1** the question is as follows:\n",
    "\n",
    "> **How many pixels stay on** after 5 iterations?\n",
    "\n",
    "First of, let's load the input:"
   ]
  },
  {
   "cell_type": "code",
   "execution_count": 2,
   "metadata": {
    "collapsed": false
   },
   "outputs": [
    {
     "data": {
      "text/plain": [
       "[../.. => #.#/.#./..., #./.. => .../..#/..#, ##/.. => .#./##./###, .#/#. => ..#/#../##., ##/#. => ##./..#/#.#]"
      ]
     },
     "execution_count": 2,
     "metadata": {},
     "output_type": "execute_result"
    }
   ],
   "source": [
    "val day21url = \"https://gist.githubusercontent.com/rafaelkonlechner/d6330e98a9fd4f2635a9783f904a22e8/raw/9c98187bfcebda429ca427d8bd9006d7c02fb8e6/advent-of-code-day21.txt\"\n",
    "val input = getContent(URL(day21url))\n",
    "input.lines().take(5)"
   ]
  },
  {
   "cell_type": "markdown",
   "metadata": {},
   "source": [
    "Next, we define pattern classes, that allow us to easily rotate and flip patterns. In general, to get all combinations of rotations and flipping, we need 8 transformations. Note how a horizontal flip can be achived by a 180° rotation, followed by a vertical flip."
   ]
  },
  {
   "cell_type": "code",
   "execution_count": 3,
   "metadata": {
    "collapsed": false
   },
   "outputs": [],
   "source": [
    "/**\n",
    " * Represents a 2x2 pattern\n",
    " */\n",
    "data class Pattern2(val pattern: String) {\n",
    "\n",
    "    init {\n",
    "        assert(pattern.length == 4)\n",
    "    }\n",
    "\n",
    "    fun rotate() = Pattern2(transform(2, 0, 3, 1))\n",
    "    \n",
    "    /**\n",
    "     * Flips the image along its vertical axis. You can flip the pattern horizontally\n",
    "     * with a double rotation, followed by a vertical flip\n",
    "     */\n",
    "    fun flip() = Pattern2(pattern.take(2).reversed() + pattern.takeLast(2).reversed())\n",
    "\n",
    "    /**\n",
    "     * Transform the pattern, according to the given pixel coordinates:\n",
    "     * ```\n",
    "     * 0 | 1\n",
    "     * --+--\n",
    "     * 2 | 3\n",
    "     * ```\n",
    "     */\n",
    "    private fun transform(a: Int, b: Int, c: Int, d: Int): String {\n",
    "        return pattern[a].toString() + pattern[b].toString() + pattern[c].toString() + pattern[d].toString()\n",
    "    }\n",
    "\n",
    "    fun match(other: String): Boolean {\n",
    "        assert(other.length == 4)\n",
    "        val otherPattern2 = Pattern2(other)\n",
    "        return otherPattern2 == this\n",
    "                || otherPattern2 == this.flip()\n",
    "                || otherPattern2 == this.rotate()\n",
    "                || otherPattern2 == this.rotate().flip()\n",
    "                || otherPattern2 == this.rotate().rotate()\n",
    "                || otherPattern2 == this.rotate().rotate().flip()\n",
    "                || otherPattern2 == this.rotate().rotate().rotate()\n",
    "                || otherPattern2 == this.rotate().rotate().rotate().flip()\n",
    "    }\n",
    "\n",
    "    fun getArray() = Array(2) { i1 -> Array(2) { i2 -> pattern[i1 * 2 + i2] } }\n",
    "\n",
    "    override fun toString() = pattern\n",
    "}\n",
    "\n",
    "/**\n",
    " * Represents a 3x3 pattern\n",
    " */\n",
    "data class Pattern3(val pattern: String) {\n",
    "    init {\n",
    "        assert(pattern.length == 9)\n",
    "    }\n",
    "\n",
    "    fun rotate() = Pattern3(transform(listOf(6, 3, 0, 7, 4, 1, 8, 5, 2)))\n",
    "\n",
    "    fun flip() = Pattern3(pattern.takeLast(3) + pattern.take(6).drop(3) + pattern.take(3))\n",
    "\n",
    "    private fun transform(sequence: List<Int>): String {\n",
    "        return sequence.map { pattern[it] }.joinToString(\"\")\n",
    "    }\n",
    "\n",
    "    fun match(other: String): Boolean {\n",
    "        assert(other.length == 9)\n",
    "        val otherPattern3 = Pattern3(other)\n",
    "        return otherPattern3 == this\n",
    "                || otherPattern3 == this.flip()\n",
    "                || otherPattern3 == this.rotate()\n",
    "                || otherPattern3 == this.rotate().flip()\n",
    "                || otherPattern3 == this.rotate().rotate()\n",
    "                || otherPattern3 == this.rotate().rotate().flip()\n",
    "                || otherPattern3 == this.rotate().rotate().rotate()\n",
    "                || otherPattern3 == this.rotate().rotate().rotate().flip()\n",
    "    }\n",
    "\n",
    "    fun getArray() = Array(3) { i1 -> Array(3) { i2 -> pattern[i1 * 3 + i2] } }\n",
    "\n",
    "    override fun toString() = pattern\n",
    "}\n",
    "\n",
    "/**\n",
    " * Represents a 4x4 pattern\n",
    " */\n",
    "data class Pattern4(val pattern: String) {\n",
    "    init {\n",
    "        assert(pattern.length == 16)\n",
    "    }\n",
    "\n",
    "    fun getArray() = Array(4) { i1 -> Array(4) { i2 -> pattern[i1 * 4 + i2] } }\n",
    "    override fun toString() = pattern\n",
    "}\n",
    "\n",
    "data class Pattern4(val pattern: String) {\n",
    "    init {\n",
    "        assert(pattern.length == 16)\n",
    "    }\n",
    "\n",
    "    fun getArray() = Array(4) { i1 -> Array(4) { i2 -> pattern[i1 * 4 + i2] } }\n",
    "    override fun toString() = pattern\n",
    "}"
   ]
  },
  {
   "cell_type": "markdown",
   "metadata": {},
   "source": [
    "Now that we have the patterns, we need a class to represent the image:"
   ]
  },
  {
   "cell_type": "code",
   "execution_count": 4,
   "metadata": {
    "collapsed": true
   },
   "outputs": [],
   "source": [
    "/**\n",
    " * Represents the image\n",
    " */\n",
    "data class Image(val image: Array<Array<Char>>) {\n",
    "\n",
    "    fun insert(sub: Array<Array<Char>>, down: Int, left: Int) {\n",
    "        for (d in sub.indices) {\n",
    "            for (l in sub.indices) {\n",
    "                image[down + d][left + l] = sub[d][l]\n",
    "            }\n",
    "        }\n",
    "    }\n",
    "\n",
    "    fun get(down: IntRange, left: IntRange): String {\n",
    "        var tmp = \"\"\n",
    "        for (d in down) {\n",
    "            for (l in left) {\n",
    "                tmp += image[d][l]\n",
    "            }\n",
    "        }\n",
    "        return tmp\n",
    "    }\n",
    "\n",
    "    override fun toString(): String {\n",
    "        var output = \"\"\n",
    "        for (d in image.indices) {\n",
    "            for (l in image.indices) {\n",
    "                output += image[d][l]\n",
    "            }\n",
    "            output += \"\\n\"\n",
    "        }\n",
    "        return output\n",
    "    }\n",
    "}"
   ]
  },
  {
   "cell_type": "markdown",
   "metadata": {},
   "source": [
    "Let's prepare the input and load the rules from the input file. We distinguish 2x2 and 3x3 patterns. According to the assignment, if the image size is even, 2x2 patterns need to be applied, otherwise the 3x3 patterns should be used."
   ]
  },
  {
   "cell_type": "code",
   "execution_count": 6,
   "metadata": {
    "collapsed": false
   },
   "outputs": [],
   "source": [
    "val start = \".#...####\"\n",
    "\n",
    "val rules = input.lines().map { it.replace(\"/\", \"\") }\n",
    "val patterns2 = mutableMapOf<Pattern2, Pattern3>()\n",
    "val patterns3 = mutableMapOf<Pattern3, Pattern4>()\n",
    "\n",
    "rules.forEach {\n",
    "            val split = it.split(\" => \")\n",
    "            val from = split[0]\n",
    "            val to = split[1]\n",
    "            if (from.length == 4) {\n",
    "                val p2 = Pattern2(from)\n",
    "                val p3 = Pattern3(to)\n",
    "                patterns2[p2] = p3\n",
    "            } else {\n",
    "                val p3 = Pattern3(from)\n",
    "                val p4 = Pattern4(to)\n",
    "                patterns3[p3] = p4\n",
    "            }\n",
    "        }"
   ]
  },
  {
   "cell_type": "markdown",
   "metadata": {},
   "source": [
    "Next, we need to repeat the named procedure **5** times in a row and count the number of *on*-pixels:"
   ]
  },
  {
   "cell_type": "code",
   "execution_count": 10,
   "metadata": {
    "collapsed": false
   },
   "outputs": [
    {
     "data": {
      "text/plain": [
       "155"
      ]
     },
     "execution_count": 10,
     "metadata": {},
     "output_type": "execute_result"
    }
   ],
   "source": [
    "fun transform(repetitions: Int): Image {\n",
    "    var image = Image(Array(3) { i1 -> Array(3) { i2 -> start[i1 * 3 + i2] } })\n",
    "    repeat(repetitions) {\n",
    "        if (image.image.size % 2 == 0) {\n",
    "            val newSize = image.image.size / 2 * 3\n",
    "            val newImage = Image(Array(newSize) { Array(newSize) { ' ' } })\n",
    "            for (down in image.image.indices step 2) {\n",
    "                for (left in image.image.indices step 2) {\n",
    "                    val subImage = image.get((down..down + 1), (left..left + 1))\n",
    "                    val match = patterns2.keys.filter { it.match(subImage) }\n",
    "                    if (match.size == 1) {\n",
    "                        val pattern = patterns2[match.first()]!!\n",
    "                        val d1 = down / 2 * 3\n",
    "                        val l1 = left / 2 * 3\n",
    "                        newImage.insert(pattern.getArray(), d1, l1)\n",
    "                    }\n",
    "                }\n",
    "            }\n",
    "            image = newImage\n",
    "        } else {\n",
    "            val newSize = image.image.size / 3 * 4\n",
    "            val newImage = Image(Array(newSize) { Array(newSize) { ' ' } })\n",
    "            for (down in image.image.indices step 3) {\n",
    "                for (left in image.image.indices step 3) {\n",
    "                    val subImage = image.get((down..down + 2), (left..left + 2))\n",
    "                    val match = patterns3.keys.filter { it.match(subImage) }\n",
    "                    if (match.size == 1) {\n",
    "                        val pattern = patterns3[match.first()]!!\n",
    "                        val d1 = down / 3 * 4\n",
    "                        val l1 = left / 3 * 4\n",
    "                        newImage.insert(pattern.getArray(), d1, l1)\n",
    "                    }\n",
    "                }\n",
    "            }\n",
    "            image = newImage\n",
    "        }\n",
    "    }\n",
    "    return image\n",
    "}\n",
    "val result = transform(5)\n",
    "result.image.map { it.count { it == '#' } }.sum()"
   ]
  },
  {
   "cell_type": "markdown",
   "metadata": {},
   "source": [
    "So the resulting image has **155** *on*-pixels. This is what the image looks like after 5 repetitions:"
   ]
  },
  {
   "cell_type": "code",
   "execution_count": 9,
   "metadata": {
    "collapsed": false
   },
   "outputs": [
    {
     "data": {
      "text/plain": [
       "...##....##..#.##.\n",
       "..#..#..#..###...#\n",
       "..##.#..##.#####.#\n",
       "....#.....#.##..#.\n",
       "..###...###...###.\n",
       "..####..#####.####\n",
       "....#....##....##.\n",
       "..###...#..#..#..#\n",
       "..####..##.#..##.#\n",
       ".#.##.....#.....#.\n",
       "##...#..###...###.\n",
       "####.#..####..####\n",
       "...#.#..###...###.\n",
       "..#.#.#....##....#\n",
       "..#...##.#.###.#.#\n",
       "##...#.#.##..#.##.\n",
       "..##..##...###...#\n",
       "#.###.####.#####.#\n"
      ]
     },
     "execution_count": 9,
     "metadata": {},
     "output_type": "execute_result"
    }
   ],
   "source": [
    "result"
   ]
  },
  {
   "cell_type": "markdown",
   "metadata": {},
   "source": [
    "**Part 2** is fairly short:\n",
    "> **How many pixels stay on** after 18 iterations?"
   ]
  },
  {
   "cell_type": "code",
   "execution_count": 12,
   "metadata": {
    "collapsed": false
   },
   "outputs": [
    {
     "data": {
      "text/plain": [
       "2449665"
      ]
     },
     "execution_count": 12,
     "metadata": {},
     "output_type": "execute_result"
    }
   ],
   "source": [
    "val result = transform(18)\n",
    "result.image.map { it.count { it == '#' } }.sum()"
   ]
  },
  {
   "cell_type": "markdown",
   "metadata": {},
   "source": [
    "Easy!"
   ]
  },
  {
   "cell_type": "markdown",
   "metadata": {},
   "source": [
    "## [Day 22](https://adventofcode.com/2017/day/22): Sporifica Virus\n",
    "\n",
    "An infinite, 2-dimensional grid of nodes is haunted by a virus. Nodes are either **clean** or **infected** and the virus is carried around by a virus carrier. The carrier has a location and works in bursts, where it infects the current node and then moves over to the next node. Depending on the infection status of the new node, it turns either left or right.\n",
    "\n",
    "* If the virus carrier hits a clean node, it turns left, infects the node, and moves left.\n",
    "* If the virus carrier hits an infected node, it turns right, cleans the node, and moves right.\n",
    "\n",
    "This is what the map of clean and infected nodes looks like initially (*'#'* is infected, *'.'* is clean):"
   ]
  },
  {
   "cell_type": "code",
   "execution_count": 8,
   "metadata": {
    "collapsed": false
   },
   "outputs": [
    {
     "data": {
      "text/plain": [
       "#.##.###.#.#.##.###.##.##\n",
       ".##.#.#.#..####.###.....#\n",
       "...##.....#..###.#..#.##.\n",
       "##.###.#...###.#.##..##.#\n",
       "###.#.###..#.#.##.#.###.#\n",
       ".###..#.#.####..##..#..##\n",
       "..###.##..###.#..#...###.\n",
       "........##..##..###......\n",
       "######...###...###...#...\n",
       ".######.##.###.#.#...###.\n",
       "###.##.###..##..#..##.##.\n",
       ".#.....#.#.#.#.##........\n",
       "#..#..#.#...##......#.###\n",
       "#######.#...#..###..#..##\n",
       "#..#.###...#.#.#.#.#....#\n",
       "#.#####...#.##.##..###.##\n",
       "..#..#..#.....#...#.#...#\n",
       "###.###.#...###.#.##.####\n",
       ".....###.#..##.##.#.###.#\n",
       "#..#...######.....##.##.#\n",
       "###.#.#.#.#.###.##..###.#\n",
       "..####.###.##.#.###..#.##\n",
       "#.#....###....##...#.##.#\n",
       "###..##.##.#.#.##..##...#\n",
       "#.####.###.#...#.#.....##"
      ]
     },
     "execution_count": 8,
     "metadata": {},
     "output_type": "execute_result"
    }
   ],
   "source": [
    "val day22url = \"https://gist.githubusercontent.com/rafaelkonlechner/bf0061975f33b8f4073a17f1322e3aa7/raw/7223ddfcc75ded5ecaea066bc2a939a33f79848a/advent-of-code-day22.txt\"\n",
    "val input = getContent(URL(day22url))\n",
    "input"
   ]
  },
  {
   "cell_type": "markdown",
   "metadata": {},
   "source": [
    "For **Part 1**, we need to simulate 10000 bursts of activity and count the number of infections:\n",
    "\n",
    "> Given your actual map, after 10000 bursts of activity, **how many bursts cause a node to become infected**? (Do not count nodes that begin infected.)\n",
    "\n",
    "First, let us define a class for managing directions, such that we can minimize mistakes:"
   ]
  },
  {
   "cell_type": "code",
   "execution_count": 2,
   "metadata": {
    "collapsed": true
   },
   "outputs": [],
   "source": [
    "data class Direction(var direction: String) {\n",
    "\n",
    "    /**\n",
    "     * Turns the direction to the right\n",
    "     * @return the new absolute direction\n",
    "     */\n",
    "    fun right(): String {\n",
    "        when (direction) {\n",
    "            \"top\" -> direction = \"right\"\n",
    "            \"right\" -> direction = \"bottom\"\n",
    "            \"bottom\" -> direction = \"left\"\n",
    "            \"left\" -> direction = \"top\"\n",
    "        }\n",
    "        return direction\n",
    "    }\n",
    "\n",
    "    /**\n",
    "     * Turns the direction to the left\n",
    "     * @return the new absolute direction\n",
    "     */\n",
    "    fun left(): String {\n",
    "        when (direction) {\n",
    "            \"top\" -> direction = \"left\"\n",
    "            \"right\" -> direction = \"top\"\n",
    "            \"bottom\" -> direction = \"right\"\n",
    "            \"left\" -> direction = \"bottom\"\n",
    "        }\n",
    "        return direction\n",
    "    }\n",
    "\n",
    "    /**\n",
    "     * Returns the position after one movement\n",
    "     * in the current direction\n",
    "     */\n",
    "    fun getPosition(position: Pair<Int, Int>): Pair<Int, Int> {\n",
    "        return when (direction) {\n",
    "            \"top\" -> Pair(position.first, position.second - 1)\n",
    "            \"right\" -> Pair(position.first + 1, position.second)\n",
    "            \"bottom\" -> Pair(position.first, position.second + 1)\n",
    "            \"left\" -> Pair(position.first - 1, position.second)\n",
    "            else -> position\n",
    "        }\n",
    "    }\n",
    "}"
   ]
  },
  {
   "cell_type": "markdown",
   "metadata": {},
   "source": [
    "Now this works as follows:"
   ]
  },
  {
   "cell_type": "code",
   "execution_count": 3,
   "metadata": {
    "collapsed": false
   },
   "outputs": [
    {
     "name": "stdout",
     "output_type": "stream",
     "text": [
      "right\n",
      "bottom\n"
     ]
    }
   ],
   "source": [
    "val d = Direction(\"top\")\n",
    "\n",
    "// the first turn will result in new absolute direction 'right'\n",
    "println(d.right())\n",
    "\n",
    "// the second turn will result in new absolute direction 'bottom'\n",
    "println(d.right())"
   ]
  },
  {
   "cell_type": "markdown",
   "metadata": {},
   "source": [
    "Next, we need to define methods for parsing and a method for running bursts. We base our grid on a nested array and allow for a large margin room, such that we do not run out of indices. This is of course only sensible for a small number of bursts."
   ]
  },
  {
   "cell_type": "code",
   "execution_count": 4,
   "metadata": {
    "collapsed": true
   },
   "outputs": [],
   "source": [
    "/**\n",
    " * Parse the grid into a two-dimensional array\n",
    " */\n",
    "fun parseInput(lines: List<String>): Array<Array<Char>> {\n",
    "    val field = Array(9) { Array(9) { '.' } }\n",
    "    for (d in 0..8) {\n",
    "        for (l in 0..8) {\n",
    "            field[l][d] = lines[d][l]\n",
    "        }\n",
    "    }\n",
    "    return field\n",
    "}"
   ]
  },
  {
   "cell_type": "code",
   "execution_count": 5,
   "metadata": {
    "collapsed": true
   },
   "outputs": [],
   "source": [
    "/**\n",
    " * Run the specified number of bursts, on the grid and place the carrier\n",
    " * at [initPosition], faced towards [direction]\n",
    " */\n",
    "fun runBurst(grid: Array<Array<Char>>, initPosition: Pair<Int, Int>, direction: Direction, repeat: Int): Int {\n",
    "    var counter = 0\n",
    "    var position = initPosition\n",
    "    repeat(repeat) {\n",
    "        val l = position.first\n",
    "        val d = position.second\n",
    "        if (grid[l][d] == '#') {\n",
    "            direction.right()\n",
    "            grid[l][d] = '.'\n",
    "        } else {\n",
    "            direction.left()\n",
    "            grid[l][d] = '#'\n",
    "            counter++\n",
    "        }\n",
    "        position = direction.getPosition(position)\n",
    "    }\n",
    "    return counter\n",
    "}"
   ]
  },
  {
   "cell_type": "code",
   "execution_count": 6,
   "metadata": {
    "collapsed": false
   },
   "outputs": [
    {
     "data": {
      "text/plain": [
       "41"
      ]
     },
     "execution_count": 6,
     "metadata": {},
     "output_type": "execute_result"
    }
   ],
   "source": [
    "val test =\n",
    "\"\"\".........\n",
    ".........\n",
    ".........\n",
    ".........\n",
    ".....#...\n",
    "...#.....\n",
    ".........\n",
    ".........\n",
    ".........\"\"\"\n",
    "\n",
    "val testGrid = parseInput(test.lines())\n",
    "val testPosition = Pair(4, 5)\n",
    "val testDirection = Direction(\"top\")\n",
    "val testInfected = runBurst(testGrid, testPosition, testDirection, 70)\n",
    "testInfected"
   ]
  },
  {
   "cell_type": "code",
   "execution_count": 9,
   "metadata": {
    "collapsed": false
   },
   "outputs": [
    {
     "data": {
      "text/plain": [
       "5223"
      ]
     },
     "execution_count": 9,
     "metadata": {},
     "output_type": "execute_result"
    }
   ],
   "source": [
    "val grid = Array(125) { Array(125) { '.' } }\n",
    "for (d in 50..74) {\n",
    "    for (l in 50..74) {\n",
    "        grid[l][d] = input.lines()[d - 50][l - 50]\n",
    "    }\n",
    "}\n",
    "val position = Pair(62, 62)\n",
    "val direction = Direction(\"top\")\n",
    "val infected = runBurst(grid, position, direction, 10_000)\n",
    "infected"
   ]
  },
  {
   "cell_type": "markdown",
   "metadata": {},
   "source": [
    "In **Part 2**, the scenario changes and the assignment adds two additional states: 'W' for weakend and 'F' for flagged. The logic now is:\n",
    "\n",
    "* Clean nodes become weakened\n",
    "* Weakened nodes become infected\n",
    "* Infected nodes become flagged\n",
    "* Flagged nodes become clean\n",
    "\n",
    "> Given your actual map, after 10000000 bursts of activity, **how many bursts cause a node to become infected**? (Do not count nodes that begin infected.)\n",
    "\n",
    "The large number of bursts requires us to rethink the grid representation. For this part, we will switch to a map, storing the node position only for visited nodes."
   ]
  },
  {
   "cell_type": "code",
   "execution_count": 10,
   "metadata": {
    "collapsed": true
   },
   "outputs": [],
   "source": [
    "/**\n",
    " * Slightly altered from version 1, supporting 'W' and 'F'\n",
    " * for nodes and a grid map.\n",
    " */\n",
    "fun runBurst2(field: MutableMap<Pair<Int, Int>, Char>, initPosition: Pair<Int, Int>, direction: Direction, repeat: Int): Int {\n",
    "    var counter = 0\n",
    "    var position = initPosition\n",
    "    repeat(repeat) {\n",
    "        when (field[position]) {\n",
    "            '.' -> {\n",
    "                direction.left()\n",
    "                field[position] = 'W'\n",
    "            }\n",
    "            '#' -> {\n",
    "                direction.right()\n",
    "                field[position] = 'F'\n",
    "            }\n",
    "            'W' -> {\n",
    "                field[position] = '#'\n",
    "                counter++\n",
    "            }\n",
    "            'F' -> {\n",
    "                direction.left()\n",
    "                direction.left()\n",
    "                field[position] = '.'\n",
    "            }\n",
    "            else -> {\n",
    "                direction.left()\n",
    "                field[position] = 'W'\n",
    "            }\n",
    "        }\n",
    "        position = direction.getPosition(position)\n",
    "    }\n",
    "    return counter\n",
    "}"
   ]
  },
  {
   "cell_type": "markdown",
   "metadata": {},
   "source": [
    "Again, we initialize the grid and place the virus carrier in the center of the grid:"
   ]
  },
  {
   "cell_type": "code",
   "execution_count": 12,
   "metadata": {
    "collapsed": false
   },
   "outputs": [
    {
     "data": {
      "text/plain": [
       "2511456"
      ]
     },
     "execution_count": 12,
     "metadata": {},
     "output_type": "execute_result"
    }
   ],
   "source": [
    "val grid2 = mutableMapOf<Pair<Int, Int>, Char>()\n",
    "for (d in input.lines().indices) {\n",
    "    for (l in input.lines().indices) {\n",
    "        grid2[Pair(l, d)] = input.lines()[d][l]\n",
    "    }\n",
    "}\n",
    "\n",
    "val position2 = Pair(12, 12)\n",
    "val direction2 = Direction(\"top\")\n",
    "val infected2 = runBurst2(grid2, position2, direction2, 10_000_000)\n",
    "infected2"
   ]
  },
  {
   "cell_type": "markdown",
   "metadata": {},
   "source": [
    "## [Day 23](https://adventofcode.com/2017/day/23): Coprocessor Conflagration\n",
    "\n",
    "Again, we have given an assembly-like program that include the following instructions:\n",
    "\n",
    "* `set X Y` sets the register `X` to the value of `Y`\n",
    "* `sub X Y` sets the register `X` to `X` minus the value of `Y`\n",
    "* `mul X Y` sets the register `X` to `X` times the value of `Y`\n",
    "* `jnz X Y` jumps with an relative offset of `Y`, if `X` is not zero.\n",
    "\n",
    "Programs only use instructions listed above and eight registered, named `[a-h]`.\n",
    "\n",
    "> If you run the program (your puzzle input), **how many times is the mul instruction invoked**?\n",
    "\n",
    "First, let's load the input program:"
   ]
  },
  {
   "cell_type": "code",
   "execution_count": 5,
   "metadata": {
    "collapsed": false
   },
   "outputs": [
    {
     "data": {
      "text/plain": [
       "set b 79\n",
       "set c b\n",
       "jnz a 2\n",
       "jnz 1 5\n",
       "mul b 100\n",
       "..."
      ]
     },
     "execution_count": 5,
     "metadata": {},
     "output_type": "execute_result"
    }
   ],
   "source": [
    "val day23url = \"https://gist.githubusercontent.com/rafaelkonlechner/30e6a8709657f18a1ef681089608a908/raw/fb06654f645551e0e4b7a84c5568938f5820d0a2/advent-of-code-day23.txt\"\n",
    "val input = getContent(URL(day23url))\n",
    "\n",
    "input.lines().take(5).joinToString(\"\\n\") + \"\\n...\""
   ]
  },
  {
   "cell_type": "markdown",
   "metadata": {},
   "source": [
    "Next, we will define a function that distinguishes between integer literals and register names, called `value(token)`:"
   ]
  },
  {
   "cell_type": "code",
   "execution_count": 9,
   "metadata": {
    "collapsed": false
   },
   "outputs": [
    {
     "data": {
      "text/plain": [
       "5929"
      ]
     },
     "execution_count": 9,
     "metadata": {},
     "output_type": "execute_result"
    }
   ],
   "source": [
    "val registers = mutableMapOf(\"a\" to 0, \"b\" to 0, \"c\" to 0, \"d\" to 0, \"e\" to 0, \"f\" to 0, \"g\" to 0, \"h\" to 0)\n",
    "\n",
    "/**\n",
    " * Checks, whether the given token is an Integer literal or a register name\n",
    " * and returns the respective value\n",
    " */\n",
    "fun value(token: String): Int {\n",
    "    return if (token.toIntOrNull() == null) {\n",
    "        registers[token]!!\n",
    "    } else {\n",
    "        token.toInt()\n",
    "    }\n",
    "}\n",
    "\n",
    "val program = input.lines()\n",
    "var pc = 0\n",
    "var mulCounter = 0\n",
    "\n",
    "while (pc < program.size) {\n",
    "    val cmd = program[pc.toInt()]\n",
    "    val tokens = cmd.split(\" \")\n",
    "    val reg = tokens[1]\n",
    "    val arg = tokens[2]\n",
    "    when (tokens[0]) {\n",
    "        \"set\" -> {\n",
    "            registers[reg] = value(arg)\n",
    "            pc++\n",
    "        }\n",
    "        \"sub\" -> {\n",
    "            registers[reg] = registers[reg]!! - value(arg)\n",
    "            pc++\n",
    "        }\n",
    "        \"mul\" -> {\n",
    "            registers[reg] = registers[reg]!! * value(arg)\n",
    "            pc++\n",
    "            mulCounter++\n",
    "        }\n",
    "        \"jnz\" -> {\n",
    "            if (value(reg) != 0) {\n",
    "                pc += value(arg)\n",
    "            } else\n",
    "                pc++\n",
    "        }\n",
    "    }\n",
    "}\n",
    "mulCounter"
   ]
  },
  {
   "cell_type": "markdown",
   "metadata": {},
   "source": [
    "> After setting register a to 1, if the program were to run to completion, **what value would be left in register h**?\n",
    "\n",
    "is the question for **Part 2**. The first observation, after setting `a` to `1` is, that the program will run for a very long time. This is due to the first couple of lines in the code:"
   ]
  },
  {
   "cell_type": "code",
   "execution_count": 13,
   "metadata": {
    "collapsed": false
   },
   "outputs": [
    {
     "data": {
      "text/plain": [
       "set b 79\n",
       "set c b\n",
       "jnz a 2\n",
       "jnz 1 5\n",
       "mul b 100\n",
       "sub b -100000\n",
       "set c b\n",
       "sub c -17000"
      ]
     },
     "execution_count": 13,
     "metadata": {},
     "output_type": "execute_result"
    }
   ],
   "source": [
    "input.lines().take(8).joinToString(\"\\n\")"
   ]
  },
  {
   "cell_type": "markdown",
   "metadata": {},
   "source": [
    "The values of `b` and `c` increase immensely, due to the change. This requires some manual optimizations in the code. But what happens there? Lets explore the code step by step.\n",
    "\n",
    "**Step 1**: Let us start by structuring the code, such that we can detect possible loops\n",
    "\n",
    "```\n",
    "set b 79\n",
    "set c b\n",
    "jnz a 2\n",
    "jnz 1 5\n",
    "mul b 100\n",
    "sub b -100000\n",
    "set c b\n",
    "sub c -17000\n",
    "    set f 1\n",
    "    set d 2\n",
    "        set e 2\n",
    "            set g d\n",
    "            mul g e\n",
    "            sub g b\n",
    "            jnz g 2\n",
    "            set f 0\n",
    "            sub e -1\n",
    "            set g e\n",
    "            sub g b\n",
    "            jnz g -8\n",
    "        sub d -1\n",
    "        set g d\n",
    "        sub g b\n",
    "        jnz g -13\n",
    "    jnz f 2\n",
    "    sub h -1\n",
    "    set g b\n",
    "    sub g c\n",
    "    jnz g 2\n",
    "    jnz 1 3\n",
    "    sub b -17\n",
    "    jnz 1 -23\n",
    "```\n",
    "**Step 2**: Now, we can create a more high-level representation in pseudo-code\n",
    "\n",
    "```\n",
    "b = 79\n",
    "c = b\n",
    "if (a != 0) {\n",
    "    b = b * 100\n",
    "    b = b + 100_000\n",
    "    c = b\n",
    "    c = c + 17000\n",
    "}\n",
    "while (g != 0) {\n",
    "    f = 1\n",
    "    d = 2\n",
    "        while (g != 0) {\n",
    "        e = 2\n",
    "        while (g != 0) {\n",
    "            g = d * e - b\n",
    "            if (g != 0) {\n",
    "                f = 0\n",
    "            }\n",
    "            e++\n",
    "            g = e - b\n",
    "        }\n",
    "        d++\n",
    "        g = d - b\n",
    "    }\n",
    "    if (f != 0) {\n",
    "        h--\n",
    "    }\n",
    "    g = b - c\n",
    "    if (g != 0) {\n",
    "        b = b + 17\n",
    "    } else {\n",
    "        // done\n",
    "    }\n",
    "}\n",
    "```\n",
    "\n",
    "**Step 2b**: Finally, we condense the code even more:\n",
    "\n",
    "```\n",
    "for (b in 107900 .. 124900 step 17) {\n",
    "    f = 1\n",
    "    for (d in 2 .. b) {\n",
    "        for (e in 2 .. b) {\n",
    "            g = d * e - b\n",
    "            if (g != 0) {\n",
    "                f = 0\n",
    "            }\n",
    "        }\n",
    "    }\n",
    "    if (f != 0) {\n",
    "        h++\n",
    "    }\n",
    "}\n",
    "```\n",
    "\n",
    "Do you see what it does? It checks for primes in the range between `b` and `c` in steps of 17 and increments `h` for every number that is not a prime. However, it does it in an extemely unefficient way. So let's optimize!\n",
    "\n",
    "I will use this prime-check that I borrowed from [Tom Verelst](https://codereview.stackexchange.com/questions/24704/efficiently-determining-if-a-number-is-prime):"
   ]
  },
  {
   "cell_type": "code",
   "execution_count": null,
   "metadata": {
    "collapsed": true
   },
   "outputs": [],
   "source": [
    "fun isPrime(num: Int): Boolean {\n",
    "    if (num > 2 && num % 2 == 0) {\n",
    "        return false\n",
    "    }\n",
    "    val top = Math.sqrt(num.toDouble()).toInt() + 1\n",
    "    var i = 3\n",
    "    while (i < top) {\n",
    "        if (num % i == 0) {\n",
    "            return false\n",
    "        }\n",
    "        i += 2\n",
    "    }\n",
    "    return true\n",
    "}"
   ]
  },
  {
   "cell_type": "code",
   "execution_count": null,
   "metadata": {
    "collapsed": true
   },
   "outputs": [],
   "source": [
    "var h = 0\n",
    "for (b in 107900 .. 124900 step 17) {\n",
    "    val f = !isPrime(b)\n",
    "    if (f) {\n",
    "        h++\n",
    "    }\n",
    "}\n",
    "h"
   ]
  },
  {
   "cell_type": "code",
   "execution_count": null,
   "metadata": {
    "collapsed": true
   },
   "outputs": [],
   "source": []
  }
 ],
 "metadata": {
  "kernelspec": {
   "display_name": "Kotlin",
   "language": "kotlin",
   "name": "kotlin"
  },
  "language_info": {
   "file_extension": "kt",
   "name": "kotlin"
  }
 },
 "nbformat": 4,
 "nbformat_minor": 1
}
