{
 "cells": [
  {
   "cell_type": "markdown",
   "metadata": {},
   "source": [
    "# Advent of Code 2017\n",
    "In this notebook, I will collect the solutions to the puzzles appearing on [Advent of Code](https://adventofcode.com/2017) 2017. Unlike [Peter Norvig](https://github.com/norvig/pytudes/blob/master/ipynb/Advent%20of%20Code.ipynb), I will solve the puzzles in *Kotlin*."
   ]
  },
  {
   "cell_type": "markdown",
   "metadata": {},
   "source": [
    "## Prepraration\n",
    "I will facilitate a collection of convenience functions and Junit for testing the solutions."
   ]
  },
  {
   "cell_type": "code",
   "execution_count": 1,
   "metadata": {
    "collapsed": true
   },
   "outputs": [],
   "source": [
    "@file:DependsOnMaven(\"junit:junit:4.12\")\n",
    "\n",
    "import org.junit.Assert.assertEquals\n",
    "import java.io.BufferedReader\n",
    "import java.io.InputStreamReader\n",
    "import java.net.HttpURLConnection\n",
    "import java.net.URL\n",
    "\n",
    "/**\n",
    " * GET a multi-line text file\n",
    " */\n",
    "fun getContent(url: URL): String {\n",
    "    with(url.openConnection() as HttpURLConnection) {\n",
    "        BufferedReader(InputStreamReader(inputStream)).use {\n",
    "            return it.readText()\n",
    "        }\n",
    "    }\n",
    "}"
   ]
  },
  {
   "cell_type": "markdown",
   "metadata": {},
   "source": [
    "## [Day 1](https://adventofcode.com/2017/day/1): Inverse Captcha\n",
    "Given a sequence of digits, find the sum of all digits that match the next digit in the list. The list is circular, so the digit after the last digit is the first digit in the list."
   ]
  },
  {
   "cell_type": "code",
   "execution_count": 2,
   "metadata": {
    "collapsed": false
   },
   "outputs": [
    {
     "data": {
      "text/plain": [
       "1097"
      ]
     },
     "execution_count": 2,
     "metadata": {},
     "output_type": "execute_result"
    }
   ],
   "source": [
    "/**\n",
    " * Split a sequence of digits into a list of digits.\n",
    " */\n",
    "fun split(seq: String) = seq.map { it.toString().toInt() }\n",
    "\n",
    "assert(split(\"123\") == listOf(1, 2, 3))\n",
    "\n",
    "/**\n",
    " * Solve captcha according to the rule stated above.\n",
    " */\n",
    "fun solveCaptcha(seq: List<Int>): Int {\n",
    "    var sum = 0\n",
    "    for (i in seq.indices) {\n",
    "        if (seq[i] == seq[(i + 1) % seq.size]) {\n",
    "            sum += seq[i]\n",
    "        }\n",
    "    }\n",
    "    return sum\n",
    "}\n",
    "\n",
    "/**\n",
    " * Test cases from the assignment:\n",
    " */\n",
    "val tests = listOf(Pair(\"1122\", 3), Pair(\"1111\", 4), Pair(\"1234\", 0), Pair(\"91212129\", 9))\n",
    "\n",
    "for (test in tests) {\n",
    "    assertEquals(test.second, solveCaptcha(split(test.first)))\n",
    "}\n",
    "\n",
    "val input = \"818275977931166178424892653779931342156567268946849597948944469863818248114327524824136924486891794739281668741616818614613222585132742386168687517939432911753846817997473555693821316918473474459788714917665794336753628836231159578734813485687247273288926216976992516314415836985611354682821892793983922755395577592859959966574329787693934242233159947846757279523939217844194346599494858459582798326799512571365294673978955928416955127211624234143497546729348687844317864243859238665326784414349618985832259224761857371389133635711819476969854584123589566163491796442167815899539788237118339218699137497532932492226948892362554937381497389469981346971998271644362944839883953967698665427314592438958181697639594631142991156327257413186621923369632466918836951277519421695264986942261781256412377711245825379412978876134267384793694756732246799739464721215446477972737883445615664755923441441781128933369585655925615257548499628878242122434979197969569971961379367756499884537433839217835728263798431874654317137955175565253555735968376115749641527957935691487965161211853476747758982854811367422656321836839326818976668191525884763294465366151349347633968321457954152621175837754723675485348339261288195865348545793575843874731785852718281311481217515834822185477982342271937155479432673815629144664144538221768992733498856934255518875381672342521819499939835919827166318715849161715775427981485233467222586764392783699273452228728667175488552924399518855743923659815483988899924199449721321589476864161778841352853573584489497263216627369841455165476954483715112127465311353411346132671561568444626828453687183385215975319858714144975174516356117245993696521941589168394574287785233685284294357548156487538175462176268162852746996633977948755296869616778577327951858348313582783675149343562362974553976147259225311183729415381527435926224781181987111454447371894645359797229493458443522549386769845742557644349554641538488252581267341635761715674381775778868374988451463624332123361576518411234438681171864923916896987836734129295354684962897616358722633724198278552339794629939574841672355699222747886785616814449297817352118452284785694551841431869545321438468118\"\n",
    "\n",
    "solveCaptcha(split(input))"
   ]
  },
  {
   "cell_type": "markdown",
   "metadata": {
    "collapsed": true
   },
   "source": [
    "For **Part 2**, instead of considering the next digit, consider the digit halfway around the circular list. That is, if your list contains 10 items, only include a digit in your sum if the digit `10/2 = 5` steps forward matches it. Fortunately, your list has an even number of elements.\n",
    "\n"
   ]
  },
  {
   "cell_type": "code",
   "execution_count": 3,
   "metadata": {
    "collapsed": false
   },
   "outputs": [
    {
     "data": {
      "text/plain": [
       "1188"
      ]
     },
     "execution_count": 3,
     "metadata": {},
     "output_type": "execute_result"
    }
   ],
   "source": [
    "fun solveCaptchaTwo(seq: List<Int>): Int {\n",
    "    var sum = 0\n",
    "    for (i in seq.indices) {\n",
    "        if (seq[i] == seq[(i + (seq.size / 2)) % seq.size]) {\n",
    "            sum += seq[i]\n",
    "        }\n",
    "    }\n",
    "    return sum\n",
    "}\n",
    "solveCaptchaTwo(split(input))"
   ]
  },
  {
   "cell_type": "markdown",
   "metadata": {
    "collapsed": true
   },
   "source": [
    "## [Day 2](https://adventofcode.com/2017/day/2): Corruption Checksum\n",
    "For each row, determine the difference between the largest value and the smallest value; the checksum is the sum of all of these differences."
   ]
  },
  {
   "cell_type": "code",
   "execution_count": 4,
   "metadata": {
    "collapsed": false
   },
   "outputs": [
    {
     "data": {
      "text/plain": [
       "45972"
      ]
     },
     "execution_count": 4,
     "metadata": {},
     "output_type": "execute_result"
    }
   ],
   "source": [
    "/**\n",
    " * Parse a sequence of line- and tab-separated numbers into a two-dimensional list. \n",
    " */\n",
    "fun parse(input: String): List<List<Int>> {\n",
    "    return input.split(\"\\n\").map { it.split(\"\\t\").filter { it.isNotEmpty() }.map { it.toInt() } }\n",
    "}\n",
    "\n",
    "assertEquals(listOf(listOf(1, 2), listOf(3, 4)), parse(\"1\\t2\\n3\\t4\"))\n",
    "\n",
    "/**\n",
    " * Compute the checksum as the sum of the difference between the max and the min value of each row.\n",
    " */\n",
    "fun checksum(input: List<List<Int>>): Int {\n",
    "    return input.map {\n",
    "        (it.max() ?: 0) - (it.min() ?: 0)\n",
    "    }.sum()\n",
    "}\n",
    "\n",
    "val test = \"\"\"\n",
    "5\t1\t9\t5\n",
    "7\t5\t3\n",
    "2\t4\t6\t8\n",
    "\"\"\"\n",
    "\n",
    "assertEquals(18, checksum(parse(test)))\n",
    "\n",
    "val input = \"\"\"\n",
    "515\t912\t619\t2043\t96\t93\t2242\t1385\t2110\t860\t2255\t621\t1480\t118\t1230\t99\n",
    "161\t6142\t142\t1742\t237\t6969\t211\t4314\t5410\t4413\t3216\t6330\t261\t3929\t5552\t109\n",
    "1956\t4470\t3577\t619\t105\t3996\t128\t1666\t720\t4052\t108\t132\t2652\t306\t1892\t1869\n",
    "2163\t99\t2257\t895\t112\t1771\t1366\t1631\t2064\t2146\t103\t865\t123\t1907\t2362\t876\n",
    "1955\t3260\t1539\t764\t185\t5493\t5365\t5483\t4973\t175\t207\t1538\t4824\t205\t1784\t2503\n",
    "181\t3328\t2274\t3798\t1289\t2772\t4037\t851\t1722\t3792\t175\t603\t725\t158\t2937\t174\n",
    "405\t247\t2083\t956\t725\t258\t2044\t206\t2054\t561\t2223\t2003\t2500\t355\t306\t2248\n",
    "837\t937\t225\t1115\t446\t451\t160\t1219\t56\t61\t62\t922\t58\t1228\t1217\t1302\n",
    "1371\t1062\t2267\t111\t135\t2113\t1503\t2130\t1995\t2191\t129\t2494\t2220\t739\t138\t1907\n",
    "3892\t148\t2944\t371\t135\t1525\t3201\t3506\t3930\t3207\t115\t3700\t2791\t597\t3314\t132\n",
    "259\t162\t186\t281\t210\t180\t184\t93\t135\t208\t88\t178\t96\t25\t103\t161\n",
    "1080\t247\t1036\t936\t108\t971\t908\t1035\t123\t974\t103\t1064\t129\t1189\t1089\t938\n",
    "148\t1874\t122\t702\t922\t2271\t123\t111\t454\t1872\t2142\t2378\t126\t813\t1865\t1506\n",
    "842\t267\t230\t1665\t2274\t236\t262\t1714\t3281\t4804\t4404\t3833\t661\t4248\t3893\t1105\n",
    "1112\t1260\t809\t72\t1104\t156\t104\t1253\t793\t462\t608\t84\t99\t1174\t449\t929\n",
    "707\t668\t1778\t1687\t2073\t1892\t62\t1139\t908\t78\t1885\t800\t945\t712\t57\t65\n",
    "\"\"\"\n",
    "\n",
    "checksum(parse(input))"
   ]
  },
  {
   "cell_type": "markdown",
   "metadata": {},
   "source": [
    "For **Part 2** the goal is to find the only two numbers in each row where one evenly divides the other - that is, where the result of the division operation is a whole number. Find those numbers on each line, divide them, and add up each line's result."
   ]
  },
  {
   "cell_type": "code",
   "execution_count": 5,
   "metadata": {
    "collapsed": false
   },
   "outputs": [
    {
     "data": {
      "text/plain": [
       "326"
      ]
     },
     "execution_count": 5,
     "metadata": {},
     "output_type": "execute_result"
    }
   ],
   "source": [
    "/**\n",
    " * Extension: Form all tuples of a Cartesian product with another list.\n",
    " */\n",
    "fun <A, B> List<A>.cartesianProduct(list: List<B>): List<Pair<A, B>> = flatMap { a -> list.map { b -> Pair(a, b) } }\n",
    "\n",
    "val given = listOf(1, 2).cartesianProduct(listOf(\"a\", \"b\"))\n",
    "val expected = listOf(Pair(1, \"a\"), Pair(1, \"b\"), Pair(2 , \"a\"), Pair(2, \"b\"))\n",
    "\n",
    "assertEquals(expected, given)\n",
    "\n",
    "/**\n",
    " * Compute the checksum as the sum of the quotients by the only two evenly dividable numbers of each row.\n",
    " */\n",
    "fun checksumTwo(input: List<List<Int>>): Int {\n",
    "    return input.map { list ->\n",
    "        list.cartesianProduct(list).find { (a, b) -> a != b && a % b == 0 }.let {\n",
    "            (it?.first ?: 0) / (it?.second ?: 1)\n",
    "        }\n",
    "    }.sum()\n",
    "}\n",
    "\n",
    "val test = \"\"\"\n",
    "5\t9\t2\t8\n",
    "9\t4\t7\t3\n",
    "3\t8\t6\t5\n",
    "\"\"\"\n",
    "\n",
    "assertEquals(9, checksumTwo(parse(test)))\n",
    "\n",
    "checksumTwo(parse(input))"
   ]
  },
  {
   "cell_type": "markdown",
   "metadata": {
    "collapsed": true
   },
   "source": [
    "## [Day 3](http://adventofcode.com/2017/day/3): Spiral Memory\n",
    "Each square on the grid is allocated in a spiral pattern starting at a location marked 1 and then counting up while spiraling outward. For example, the first few squares are allocated like this:\n",
    "<table>\n",
    "  <tr>\n",
    "    <td>17</td>\n",
    "    <td>16</td>\n",
    "    <td>15</td>\n",
    "    <td>14</td>\n",
    "    <td>13</td>\n",
    "  </tr>\n",
    "  <tr>\n",
    "    <td>18</td>\n",
    "    <td>5</td>\n",
    "    <td>4</td>\n",
    "    <td>3</td>\n",
    "    <td>12</td>\n",
    "  </tr>\n",
    "  <tr>\n",
    "    <td>19</td>\n",
    "    <td>6</td>\n",
    "    <td>1</td>\n",
    "    <td>2</td>\n",
    "    <td>11</td>\n",
    "  </tr>\n",
    "  <tr>\n",
    "    <td>20</td>\n",
    "    <td>7</td>\n",
    "    <td>8</td>\n",
    "    <td>9</td>\n",
    "    <td>10</td>\n",
    "  </tr>\n",
    "  <tr>\n",
    "    <td>21</td>\n",
    "    <td>22</td>\n",
    "    <td>23</td>\n",
    "    <td>&rarr;</td>\n",
    "    <td>...</td>\n",
    "  </tr>\n",
    "</table>\n",
    "\n",
    "**How many steps** are required to carry the data from the square identified in your puzzle input all the way to the access port?"
   ]
  },
  {
   "cell_type": "markdown",
   "metadata": {},
   "source": [
    "First, some observations: If you consider squares of growing size $n = [3, 5, 7, ...]$ then the bottom right corner of each square will hold the highest value in the square $n^2$. For each $n$, the number of elemens in the circle follows the rule:\n",
    "\n",
    "$$ \\mid c(n)\\mid = \\mid c(n - 1)\\mid + 8$$\n",
    "\n",
    "For an arbitrary number $x$, the circle it belongs to may be determined by:\n",
    "\n",
    "$$\n",
    "c(x) =\n",
    "\\begin{cases}\n",
    "\\lceil\\sqrt{x}\\rceil^2 + 1  & \\text{ if } x \\equiv 0 \\mod 2\\\\\n",
    "\\lceil\\sqrt{x}\\rceil^2      & \\text{ else }\n",
    "\\end{cases}\n",
    "$$\n",
    "\n",
    "<table>\n",
    "  <tr>\n",
    "    <td>37</td>\n",
    "    <td>36</td>\n",
    "    <td>35</td>\n",
    "    <td style=\"background-color: #F9E79F\">34</td>\n",
    "    <td>33</td>\n",
    "    <td>32</td>\n",
    "    <td>31</td>\n",
    "  </tr>\n",
    "  <tr>\n",
    "    <td>38</td>\n",
    "    <td>17</td>\n",
    "    <td>16</td>\n",
    "    <td style=\"background-color: #F9E79F\">15</td>\n",
    "    <td>14</td>\n",
    "    <td>13</td>\n",
    "    <td>30</td>\n",
    "  </tr>\n",
    "  <tr>\n",
    "    <td>39</td>\n",
    "    <td>18</td>\n",
    "    <td>5</td>\n",
    "    <td style=\"background-color: #F9E79F\">4</td>\n",
    "    <td>3</td>\n",
    "    <td>12</td>\n",
    "    <td>29</td>\n",
    "  </tr>\n",
    "  <tr>\n",
    "    <td style=\"background-color: #F9E79F\">40</td>\n",
    "    <td style=\"background-color: #F9E79F\">19</td>\n",
    "    <td style=\"background-color: #F9E79F\">6</td>\n",
    "    <td>1</td>\n",
    "    <td style=\"background-color: #F9E79F\">2</td>\n",
    "    <td style=\"background-color: #F9E79F\">11</td>\n",
    "    <td style=\"background-color: #F9E79F\">28</td>\n",
    "  </tr>\n",
    "  <tr>\n",
    "    <td>41</td>\n",
    "    <td>20</td>\n",
    "    <td>7</td>\n",
    "    <td style=\"background-color: #F9E79F\">8</td>\n",
    "    <td style=\"background-color: #00BFFF\">$3^2$</td>\n",
    "    <td>10</td>\n",
    "    <td>27</td>\n",
    "  </tr>\n",
    "  <tr>\n",
    "    <td>42</td>\n",
    "    <td>21</td>\n",
    "    <td>22</td>\n",
    "    <td style=\"background-color: #F9E79F\">23</td>\n",
    "    <td>24</td>\n",
    "    <td style=\"background-color: #00BFFF\">$5^2$</td>\n",
    "    <td>26</td>\n",
    "  </tr>\n",
    "  <tr>\n",
    "    <td>43</td>\n",
    "    <td>44</td>\n",
    "    <td>45</td>\n",
    "    <td style=\"background-color: #F9E79F\">46</td>\n",
    "    <td>47</td>\n",
    "    <td>48</td>\n",
    "    <td style=\"background-color: #00BFFF\">$7^2$</td>\n",
    "  </tr>\n",
    "</table>"
   ]
  },
  {
   "cell_type": "code",
   "execution_count": 6,
   "metadata": {
    "collapsed": false
   },
   "outputs": [],
   "source": [
    "/**\n",
    " * Position in a 2D Matrix\n",
    " */\n",
    "data class Position2D(val x: Int, val y: Int) {\n",
    "    fun up() = Position2D(x, y + 1)\n",
    "    fun left() = Position2D(x - 1, y)\n",
    "    fun down() = Position2D(x, y - 1)\n",
    "    fun right() = Position2D(x + 1, y)\n",
    "\n",
    "    override fun toString(): String {\n",
    "        return \"[$x,$y]\"\n",
    "    }\n",
    "}\n",
    "\n",
    "// The Kotlin kernel for Jupyter currently does not support `typealias`.\n",
    "\n",
    "// typealias Matrix2D = Map<Position2D, Int>"
   ]
  },
  {
   "cell_type": "markdown",
   "metadata": {},
   "source": [
    "The datatype `Position2D` will represent one coordinate in a 2D matrix. The approach below first computes the (square) ring on which `element` lies, i.e. the square radius around the center point. It utilizes the fact that the Manhatten distance can be determined by reaching the **closest of the two axes** together with the **distance on that axis**. Thus, starting from the `pivot` point in the bottom right corner, the four points on the ring that coincide with the axes need to be determined. This can be done by subtracting four multiples (i.e. $\\{0,1,2,3\\}$) of the length of a side of the square from `pivot`, in addition to a $\\frac{side}{2}$ shift. Finally, the distance to the closest axis point is added to the distance of this axis point to give the Manhattan distance of `element` from the center."
   ]
  },
  {
   "cell_type": "code",
   "execution_count": 7,
   "metadata": {
    "collapsed": false
   },
   "outputs": [
    {
     "data": {
      "text/plain": [
       "326"
      ]
     },
     "execution_count": 7,
     "metadata": {},
     "output_type": "execute_result"
    }
   ],
   "source": [
    "/**\n",
    " * Compute the Manhattan distance to the center of the spiral.\n",
    " */\n",
    "fun manhattanDistance(element: Int): Int {\n",
    "    val ring = Math.ceil(Math.sqrt(element.toDouble())).toInt().let { x ->\n",
    "        if (x % 2 == 0) x + 1 else x\n",
    "    }\n",
    "    val pivot = (ring * ring)\n",
    "    val side = ring - 1\n",
    "    val axis = (0..3).map { pivot - (it * side + side / 2) }\n",
    "    val nearestAxis = axis.find { axis.minBy { Math.abs(it - element) } == it }!!\n",
    "    val distToAxis = Math.abs(nearestAxis - element)\n",
    "    val distToCenter = (ring - 1) / 2\n",
    "    return distToAxis + distToCenter\n",
    "}\n",
    "\n",
    "val tests = listOf(Pair(1, 0), Pair(12, 3), Pair(23, 2), Pair(1024, 31))\n",
    "\n",
    "for (test in tests) {\n",
    "    assertEquals(test.second, manhattanDistance(test.first))\n",
    "}\n",
    "    \n",
    "manhattanDistance(361527)"
   ]
  },
  {
   "cell_type": "markdown",
   "metadata": {},
   "source": [
    "**Part 2**: Clear the grid and then store the value 1 in square 1. Then, in the same allocation order as shown above, store the sum of the values in all adjacent squares, including diagonals.\n",
    "\n",
    "<table>\n",
    "  <tr>\n",
    "    <td>147</td>\n",
    "    <td>142</td>\n",
    "    <td>133</td>\n",
    "    <td>122</td>\n",
    "    <td>59</td>\n",
    "  </tr>\n",
    "  <tr>\n",
    "    <td style=\"background-color: \">304</td>\n",
    "    <td style=\"background-color: #F1C40F\">5</td>\n",
    "    <td style=\"background-color: #D4AC0D\">4</td>\n",
    "    <td style=\"background-color: #B7950B\">2</td>\n",
    "    <td style=\"background-color: \">57</td>\n",
    "  </tr>\n",
    "  <tr>\n",
    "    <td style=\"background-color: \">330</td>\n",
    "    <td style=\"background-color: #F4D03F\">10</td>\n",
    "    <td style=\"background-color: #7D6608;\">1</td>\n",
    "    <td style=\"background-color: #9A7D0A;\">1</td>\n",
    "    <td style=\"background-color: \">54</td>\n",
    "  </tr>\n",
    "  <tr>\n",
    "    <td style=\"background-color: \">351</td>\n",
    "    <td style=\"background-color: #F7DC6F\">11</td>\n",
    "    <td style=\"background-color: #F9E79F\">23</td>\n",
    "    <td style=\"background-color: #FCF3CF\">25</td>\n",
    "    <td style=\"background-color: #FEF9E7\">26</td>\n",
    "  </tr>\n",
    "  <tr>\n",
    "    <td>362</td>\n",
    "    <td>747</td>\n",
    "    <td>806</td>\n",
    "    <td>&rarr;</td>\n",
    "    <td>...</td>\n",
    "  </tr>\n",
    "</table>\n",
    "\n",
    "The function `spiral` generates a spiral matrix with size $\\lceil\\sqrt{x}\\rceil^2 + 1$ and initializes values according to the function `value`. Currently, I am searching for a better way to solve this. In particular, the procedural way of moving from one position to another within the `for-loops` should be replaced by recursion."
   ]
  },
  {
   "cell_type": "code",
   "execution_count": 8,
   "metadata": {
    "collapsed": false
   },
   "outputs": [
    {
     "data": {
      "text/plain": [
       "{[0,0]=1, [1,0]=2, [1,1]=3, [0,1]=4, [-1,1]=5, [-1,0]=6, [-1,-1]=7, [0,-1]=8, [1,-1]=9, [2,-1]=10}"
      ]
     },
     "execution_count": 8,
     "metadata": {},
     "output_type": "execute_result"
    }
   ],
   "source": [
    "/**\n",
    " * Generate a spiral sequence mapped to a 2D matrix.\n",
    " */\n",
    "fun spiral(size: Int, value: (Map<Position2D, Int>, Position2D) -> Int): Map<Position2D, Int> {\n",
    "    val spiral = mutableMapOf<Position2D, Int>()\n",
    "    Position2D(0, 0).let { center -> spiral.put(center, value(spiral, center)) }\n",
    "    val first = Position2D(1, 0)\n",
    "    spiral.put(first, value(spiral, first))\n",
    "    val squares = Math.ceil(Math.sqrt(size.toDouble())).toInt()\n",
    "    var prev = first\n",
    "    for (side in 2..squares step 2) {\n",
    "        for (move in listOf(Pair(Position2D::up, side - 1), Pair(Position2D::left, side), Pair(Position2D::down, side), Pair(Position2D::right, side + 1))) {\n",
    "            for (s in 1..move.second) {\n",
    "                val current = move.first(prev)\n",
    "                spiral.put(current, value(spiral, current))\n",
    "                prev = current\n",
    "            }\n",
    "        }\n",
    "    }\n",
    "    return spiral\n",
    "}\n",
    "spiral(9, { m, p -> m.size + 1 })"
   ]
  },
  {
   "cell_type": "markdown",
   "metadata": {},
   "source": [
    "With the generator, we can create a spiral, that in each position stores the sum of all adjacent positions. The question in particular is:\n",
    "> What is the **first value written** that is larger than your puzzle input?"
   ]
  },
  {
   "cell_type": "code",
   "execution_count": 9,
   "metadata": {
    "collapsed": false,
    "scrolled": true
   },
   "outputs": [],
   "source": [
    "/**\n",
    " * Return the sum of all adjacent positions in a 2D matrix\n",
    " */\n",
    "fun squareSum(spiral: Map<Position2D, Int>, position: Position2D): Int {\n",
    "    return if (position == Position2D(0, 0) || position == Position2D(1, 0)) {\n",
    "        1\n",
    "    } else {\n",
    "        (-1..1).map { a -> (-1..1).map { b -> spiral[Position2D(position.x + a, position.y + b)] ?: 0 }.sum() }.sum()\n",
    "    }\n",
    "}\n",
    "\n",
    "/**\n",
    " * Get the first value in a spiral containing squared sums that is greater than the given value\n",
    " */\n",
    "fun spiralSquareSum(value: Int): Int {\n",
    "    return spiral(value, this::squareSum).values.sorted().dropWhile { it <= value }.first()\n",
    "}"
   ]
  },
  {
   "cell_type": "markdown",
   "metadata": {},
   "source": [
    "**Part 1 Revisited**: Alternatively, by utilizing the spiral generator, the Manhattan distance from the previous example can easily be computed by generating a sequential spiral and adding up the `x` and `y` values of the specified position."
   ]
  },
  {
   "cell_type": "code",
   "execution_count": 10,
   "metadata": {
    "collapsed": false
   },
   "outputs": [
    {
     "data": {
      "text/plain": [
       "326"
      ]
     },
     "execution_count": 10,
     "metadata": {},
     "output_type": "execute_result"
    }
   ],
   "source": [
    "/**\n",
    " * Compute the Manhattan distance to the center of the spiral.\n",
    " */\n",
    "fun manhattanDistanceByGeneration(element: Int): Int {\n",
    "    val point = spiral(element, { m, p -> m.size + 1 }).filter { it.value == element }.keys.first()\n",
    "    return Math.abs(point.x) + Math.abs(point.y)\n",
    "}\n",
    "\n",
    "val tests = listOf(1, 12, 23, 1024)\n",
    "\n",
    "for (test in tests) {\n",
    "    assertEquals(manhattanDistance(test), manhattanDistanceByGeneration(test))\n",
    "}\n",
    "\n",
    "manhattanDistanceByGeneration(361527)"
   ]
  },
  {
   "cell_type": "markdown",
   "metadata": {},
   "source": [
    "## [Day 4](http://adventofcode.com/2017/day/4): High-Entropy Passphrases\n",
    "A new system policy has been put in place that requires all accounts to use a passphrase instead of simply a password. A passphrase consists of a series of words (lowercase letters) separated by spaces. To ensure security, a valid passphrase must contain no duplicate words.\n",
    "\n",
    "> **How many passphrases are valid**?\n",
    "\n",
    "**Preparation**: This task includes a larger amount of data, which is why I created a [Gist](https://gist.github.com/rafaelkonlechner/3b0e91c5d4e602c1c6e37f51db7ae9c3) for it and will fetch it for the task. "
   ]
  },
  {
   "cell_type": "code",
   "execution_count": 2,
   "metadata": {
    "collapsed": false
   },
   "outputs": [
    {
     "data": {
      "text/plain": [
       "bdwdjjo avricm cjbmj ran lmfsom ivsof"
      ]
     },
     "execution_count": 2,
     "metadata": {},
     "output_type": "execute_result"
    }
   ],
   "source": [
    "val url = \"https://gist.githubusercontent.com/rafaelkonlechner/3b0e91c5d4e602c1c6e37f51db7ae9c3/raw/3e86669fbf2dc1f1f43b1bab8105ee983cb24fa8/advent-of-code-day4.txt\"\n",
    "\n",
    "getContent(URL(url)).split(\"\\n\").first()"
   ]
  },
  {
   "cell_type": "markdown",
   "metadata": {},
   "source": [
    "Below, I provide the solution for duplicate checking. It might be cheap &mdash; but it is concise."
   ]
  },
  {
   "cell_type": "code",
   "execution_count": 3,
   "metadata": {
    "collapsed": false
   },
   "outputs": [
    {
     "data": {
      "text/plain": [
       "455"
      ]
     },
     "execution_count": 3,
     "metadata": {},
     "output_type": "execute_result"
    }
   ],
   "source": [
    "/**\n",
    " * Check for a passphrase whether it contains duplicates.\n",
    " */\n",
    "fun containsDuplicates(input: String): Boolean {\n",
    "    val tokens = input.split(\" \")\n",
    "    return tokens.size != tokens.toSet().size\n",
    "}\n",
    "\n",
    "val tests = listOf(Pair(\"aa bb cc dd ee\", false), Pair(\"aa bb cc dd aa\", true), Pair(\"aa bb cc dd aaa\", false))\n",
    "\n",
    "for (test in tests) {\n",
    "    assertEquals(test.second, containsDuplicates(test.first))\n",
    "}\n",
    "\n",
    "val passphrases = getContent(URL(url))\n",
    "\n",
    "passphrases.lines().filter { !containsDuplicates(it) }.size"
   ]
  },
  {
   "cell_type": "markdown",
   "metadata": {},
   "source": [
    "**Part 2**: Now, a valid passphrase must contain no two words that are anagrams of each other - that is, a passphrase is invalid if any word's letters can be rearranged to form any other word in the passphrase.\n",
    "\n",
    "> Under this new system policy, **how many passphrases are valid**?"
   ]
  },
  {
   "cell_type": "code",
   "execution_count": 4,
   "metadata": {
    "collapsed": false
   },
   "outputs": [
    {
     "data": {
      "text/plain": [
       "186"
      ]
     },
     "execution_count": 4,
     "metadata": {},
     "output_type": "execute_result"
    }
   ],
   "source": [
    "/**\n",
    " * Check for a passphrase whether it contains anagrams.\n",
    " */\n",
    "fun containsAnagrams(input: String): Boolean {\n",
    "    val tokens = input.split(\" \").map { it.toList().sorted() }\n",
    "    return tokens.size != tokens.toSet().size\n",
    "}\n",
    "\n",
    "val tests = listOf(\n",
    "        Pair(\"abcde fghij\", false),\n",
    "        Pair(\"abcde xyz ecdab\", true),\n",
    "        Pair(\"a ab abc abd abf abj\", false),\n",
    "        Pair(\"iiii oiii ooii oooi oooo\", false),\n",
    "        Pair(\"oiii ioii iioi iiio\", true)\n",
    ")\n",
    "\n",
    "for (test in tests) {\n",
    "    assertEquals(test.second, containsAnagrams(test.first))\n",
    "}\n",
    "\n",
    "val passphrases = getContent(URL(url))\n",
    "\n",
    "passphrases.lines().filter { !containsAnagrams(it) }.size"
   ]
  },
  {
   "cell_type": "markdown",
   "metadata": {},
   "source": [
    "## [Day 5](https://adventofcode.com/2017/day/5): A Maze of Twisty Trampolines, All Alike\n",
    "\n",
    "The input resembles a program consisting merely of jump instructions. Each jump instruction provides a relative offset. Positive jumps move downwards, negative jumps move upwards. In addition, after each jump the offset of that instruction increases by 1. The goal is to follow the jumps until the end of the program is reached.\n",
    "\n",
    "> **How many steps** are required to reach the end of the program.\n",
    "\n",
    "The function signature uses higher-order functions. This is due to an adaption of the algorithm for reuse in  ."
   ]
  },
  {
   "cell_type": "code",
   "execution_count": 5,
   "metadata": {
    "collapsed": false
   },
   "outputs": [
    {
     "data": {
      "text/plain": [
       "325922"
      ]
     },
     "execution_count": 5,
     "metadata": {},
     "output_type": "execute_result"
    }
   ],
   "source": [
    "/**\n",
    " * Compute the number of steps required to reach the end of the program\n",
    " */\n",
    "fun runJumpProgram(program: String, increment: (Int) -> Int): Int {\n",
    "    val instructions = program.split(\"\\n\").map { it.toInt() }.toMutableList()\n",
    "    var position = 0\n",
    "    var count = 0\n",
    "    while (position < instructions.size) {\n",
    "        val step = instructions[position]\n",
    "        instructions[position] = step + increment(step)\n",
    "        position += step\n",
    "        count++\n",
    "    }\n",
    "    return count\n",
    "}\n",
    "\n",
    "val increment = { _: Int -> 1 }\n",
    "assertEquals(5, runJumpProgram(\"0\\n3\\n0\\n1\\n-3\", increment))\n",
    "\n",
    "val day5url = \"https://gist.githubusercontent.com/rafaelkonlechner/42e468e9a8b345ae0cfe7149b482b1f9/raw/474cbcdfa2ed7d20c6fffebe9aa7a7b671fdc8fc/advent-of-code-day5.txt\"\n",
    "val program = getContent(URL(day5url))\n",
    "runJumpProgram(program, increment)"
   ]
  },
  {
   "cell_type": "markdown",
   "metadata": {},
   "source": [
    "**Part Two**: The same procedure as before, but after each jump, if the offset was three or more, instead decrease it by 1. Otherwise, increase it by 1 as before."
   ]
  },
  {
   "cell_type": "code",
   "execution_count": 6,
   "metadata": {
    "collapsed": false
   },
   "outputs": [
    {
     "data": {
      "text/plain": [
       "24490906"
      ]
     },
     "execution_count": 6,
     "metadata": {},
     "output_type": "execute_result"
    }
   ],
   "source": [
    "val conditionalIncrement = { s: Int -> if (s >= 3) -1 else 1 }\n",
    "\n",
    "assertEquals(10, runJumpProgram(\"0\\n3\\n0\\n1\\n-3\", conditionalIncrement))\n",
    "runJumpProgram(program, conditionalIncrement)"
   ]
  },
  {
   "cell_type": "markdown",
   "metadata": {},
   "source": [
    "## [Day 6](http://adventofcode.com/2017/day/6): Memory Reallocation\n",
    "\n",
    "There are sixteen memory banks; each memory bank can hold any number of blocks. The goal of the reallocation routine is to balance the blocks between the memory banks. The reallocation routine operates in cycles. In each cycle, it finds the memory bank with the most blocks (ties won by the lowest-numbered memory bank) and redistributes those blocks among the banks. To do this, it removes all of the blocks from the selected bank, then moves to the next (by index) memory bank and inserts one of the blocks. It continues doing this until it runs out of blocks; if it reaches the last memory bank, it wraps around to the first one.\n",
    "\n",
    "> **How many redistribution cycles** must be completed before a configuration is produced that has been seen before?"
   ]
  },
  {
   "cell_type": "code",
   "execution_count": 7,
   "metadata": {
    "collapsed": false
   },
   "outputs": [
    {
     "data": {
      "text/plain": [
       "12841"
      ]
     },
     "execution_count": 7,
     "metadata": {},
     "output_type": "execute_result"
    }
   ],
   "source": [
    "/**\n",
    " * Reallocate blocks in cycles, by always choosing the bank with the most blocks and redistributing\n",
    " * the blocks to other banks in a cyclic fashion.\n",
    " * @returns the number of cycles before a previously visited state was reached again,\n",
    " *          indicating an infinite loop.\n",
    " */\n",
    "fun reallocate(banks: List<Int>): Int {\n",
    "\n",
    "    val seenBefore = mutableSetOf<List<Int>>()\n",
    "    val current = banks.toMutableList()\n",
    "\n",
    "    var cycles = 0\n",
    "    while (!seenBefore.contains(current)) {\n",
    "        seenBefore.add(current.toList())\n",
    "        var index = current.indexOf(current.max())\n",
    "        var blocks = current[index]\n",
    "        current[index] = 0\n",
    "\n",
    "        while (blocks > 0) {\n",
    "            index = (index + 1) % current.size\n",
    "            current[index] = current[index] + 1\n",
    "            blocks--\n",
    "        }\n",
    "        cycles++\n",
    "    }\n",
    "    return cycles\n",
    "}\n",
    "\n",
    "val test = listOf(0, 2, 7, 0)\n",
    "assertEquals(5, reallocate(test))\n",
    "\n",
    "val day6url = \"https://gist.githubusercontent.com/anonymous/354017cdbbbcc4f133cf4f66f3006c7c/raw/4e5c23870ff6bab17af155af44a61920ecd8a06b/advent-of-code-day6.txt\"\n",
    "val input = getContent(URL(day6url))\n",
    "val banks = input.split(\"\\t\").map { it.toInt() }\n",
    "reallocate(banks)"
   ]
  },
  {
   "cell_type": "markdown",
   "metadata": {},
   "source": [
    "For **Part 2**, the question changes slightly:\n",
    "\n",
    "> **How many cycles** are in the **infinite loop** that arises from the configuration in your puzzle input?\n",
    "\n",
    "In essence, what we need to do is similar to the first loop check, but instead of maintaining an (unordered) set of previously visited states, we maintain an ordered list, where new states are appended to the list. If a state is revisited, the number of states that have since been added yield the result."
   ]
  },
  {
   "cell_type": "code",
   "execution_count": 8,
   "metadata": {
    "collapsed": false
   },
   "outputs": [
    {
     "data": {
      "text/plain": [
       "8038"
      ]
     },
     "execution_count": 8,
     "metadata": {},
     "output_type": "execute_result"
    }
   ],
   "source": [
    "/**\n",
    " * Counts the number of cycles in an infinite loop.\n",
    " */\n",
    "fun loopCycles(banks: List<Int>): Int {\n",
    "\n",
    "    val seenBefore = mutableListOf<List<Int>>()\n",
    "    val current = banks.toMutableList()\n",
    "\n",
    "    var cycles = 0\n",
    "    while (!seenBefore.contains(current)) {\n",
    "        seenBefore.add(current.toList())\n",
    "        var index = current.indexOf(current.max())\n",
    "        var blocks = current[index]\n",
    "        current[index] = 0\n",
    "\n",
    "        while (blocks > 0) {\n",
    "            index = (index + 1) % current.size\n",
    "            current[index] = current[index] + 1\n",
    "            blocks--\n",
    "        }\n",
    "        cycles++\n",
    "    }\n",
    "    return seenBefore.size - seenBefore.indexOf(current)\n",
    "}\n",
    "\n",
    "assertEquals(4, loopCycles(test))\n",
    "loopCycles(banks)"
   ]
  },
  {
   "cell_type": "markdown",
   "metadata": {},
   "source": [
    "## [Day 7](https://adventofcode.com/2017/day/7): Recursive Circus\n",
    "\n",
    "For this assignment, imagine a recursive tower of programs, each holding a name, a weight and a number of (sub-) programs. Ideally, this tower is constructed in a way that for each program, the sum of weights for each individual subtower is equal, i.e. the tower is balanced. However, a recursive algorithm has gotten out of hand, and there now is an inbalance somewhere in the tower.\n",
    "\n",
    "The structure of this tower is unknown, so the task for the first part of the assignment is to reconstruct the tower. You ask each program to yell out their name, their weight, and (if they're holding a disc) the names of the programs immediately above them balancing on that disc. You write this information down (your puzzle input). Unfortunately, in their panic, they don't do this in an orderly fashion; by the time you're done, you're not sure which program gave which information.\n",
    "\n",
    "> What is the **name of the bottom program**?"
   ]
  },
  {
   "cell_type": "code",
   "execution_count": 2,
   "metadata": {
    "collapsed": true
   },
   "outputs": [],
   "source": [
    "data class Program(\n",
    "        val name: String,\n",
    "        val weight: Int,\n",
    "        val programs: MutableList<Program>\n",
    ") {\n",
    "    /**\n",
    "     * Recursive sum of the program and all sub-programs\n",
    "     */\n",
    "    fun sum(): Int {\n",
    "        return if (programs.isEmpty()) {\n",
    "            weight\n",
    "        } else {\n",
    "            weight + programs.map { it.sum() }.sum()\n",
    "        }\n",
    "    }\n",
    "\n",
    "    /**\n",
    "     * Checks whether the sum of each individual sub-program is equal\n",
    "     */\n",
    "    fun isBalanced(): Boolean {\n",
    "        val sums = programs.map { it.sum() }\n",
    "        return sums.isEmpty() || sums.distinct().size == 1\n",
    "    }\n",
    "}\n",
    "\n",
    "/**\n",
    " * For a list where all except one elements are equal, find the outlier\n",
    " */\n",
    "fun List<Int>.outlier(): Int? {\n",
    "    assert(size > 2 && distinct().size == 2)\n",
    "    return distinct().find { (indexOf(it) == lastIndexOf(it)) }\n",
    "}\n",
    "\n",
    "/**\n",
    " * For a list where all except one elements are equal, return the sheep\n",
    " */\n",
    "fun List<Int>.sheep(): Int? {\n",
    "    assert(size > 2 && distinct().size == 2)\n",
    "    return distinct().find { (indexOf(it) != lastIndexOf(it)) }\n",
    "}"
   ]
  },
  {
   "cell_type": "markdown",
   "metadata": {},
   "source": [
    "Programs are parsed in two passes: The first pass initializes the programs and tracks all dependencies in the `children` map. In the second pass, the recursive (and cycle-free) references to sub-programs are initialized. Based on this list of programs, finding the root requires a list of all children in the tower and finding the one program that is not contained in this set."
   ]
  },
  {
   "cell_type": "code",
   "execution_count": 3,
   "metadata": {
    "collapsed": false
   },
   "outputs": [
    {
     "data": {
      "text/plain": [
       "vtzay"
      ]
     },
     "execution_count": 3,
     "metadata": {},
     "output_type": "execute_result"
    }
   ],
   "source": [
    "/**\n",
    " * Parse a list of sub-programs\n",
    " */\n",
    "fun parse(input: String): List<Program> {\n",
    "    val programs = mutableListOf<Program>()\n",
    "    val names = mutableMapOf<String, Program>()\n",
    "    val children = mutableMapOf<String, List<String>>()\n",
    "\n",
    "    /*\n",
    "     * First pass\n",
    "     */\n",
    "    for (line in input.lines()) {\n",
    "        val attributes = line.split(\" \")\n",
    "        val name = attributes[0]\n",
    "        val weight = attributes[1].substringAfter(\"(\").substringBefore(\")\").toInt()\n",
    "        val list = if (attributes.size > 2) {\n",
    "            attributes.subList(3, attributes.size).map { it.trim(',') }\n",
    "        } else {\n",
    "            emptyList()\n",
    "        }\n",
    "        val p = Program(name, weight, mutableListOf())\n",
    "        names.put(name, p)\n",
    "        children.put(name, list)\n",
    "        programs.add(p)\n",
    "    }\n",
    "    \n",
    "    /*\n",
    "     * Second pass\n",
    "     */\n",
    "    for (p in programs) {\n",
    "        for (child in children[p.name]!!) {\n",
    "            p.programs.add(names[child]!!)\n",
    "        }\n",
    "    }\n",
    "    return programs\n",
    "}\n",
    "\n",
    "/**\n",
    " * Find the root of the tower, i.e. the program that is not contained in the set of children\n",
    " */\n",
    "fun findRoot(tree: List<Program>): Program {\n",
    "    val children = tree.flatMap { it.programs }.toSet()\n",
    "    return tree.find { !children.contains(it) }!!\n",
    "}\n",
    "\n",
    "val test = \"\"\"\n",
    "pbga (66)\n",
    "xhth (57)\n",
    "ebii (61)\n",
    "havc (66)\n",
    "ktlj (57)\n",
    "fwft (72) -> ktlj, cntj, xhth\n",
    "qoyq (66)\n",
    "padx (45) -> pbga, havc, qoyq\n",
    "tknk (41) -> ugml, padx, fwft\n",
    "jptl (61)\n",
    "ugml (68) -> gyxo, ebii, jptl\n",
    "gyxo (61)\n",
    "cntj (57)\n",
    "\"\"\"\n",
    "    \n",
    "assertEquals(\"tknk\", findRoot(parse(test.trim())).name)\n",
    "    \n",
    "val day7url = \"https://gist.githubusercontent.com/rafaelkonlechner/243e897bf4110d97b4b0c7e8c4d807e6/raw/07a109c2504da75af16cd645f7f4830a3aa861ed/advent-of-code-day7.txt\"\n",
    "val input = getContent(URL(day7url))\n",
    "findRoot(parse(input)).name"
   ]
  },
  {
   "cell_type": "markdown",
   "metadata": {
    "collapsed": true
   },
   "source": [
    "**Part 2** of the assignment will deal with the imbalance that occurs somewhere in the tower.\n",
    "\n",
    "> Given that **exactly one program is the wrong weight, what would its weight need to be** to balance the entire tower?\n",
    "\n",
    "First, this requires filtering of all nodes, where there is an inbalance in sub-programs. This condition holds for the first occurrence of an inbalance and then all the way down to the root, as the inbalance propagates downwards. Hence we need to find the only program, which is itself inbalanced but all it's children aren't (this is exactly, what the `filter` operation does). The second step is more straight forward: calculate the difference of balances and adjust the weight."
   ]
  },
  {
   "cell_type": "code",
   "execution_count": 4,
   "metadata": {
    "collapsed": false
   },
   "outputs": [
    {
     "data": {
      "text/plain": [
       "910"
      ]
     },
     "execution_count": 4,
     "metadata": {},
     "output_type": "execute_result"
    }
   ],
   "source": [
    "parse(input)\n",
    ".filter { !it.isBalanced() && !it.programs.map { it.isBalanced() }.contains(false) }\n",
    ".map {\n",
    "    val sums = it.programs.map { it.sum() }\n",
    "    val outlier = sums.outlier()!!\n",
    "    val sheep = sums.sheep()!!\n",
    "    val index = sums.indexOf(outlier)\n",
    "    it.programs[index].weight + (sheep - outlier)\n",
    "}.first()"
   ]
  },
  {
   "cell_type": "markdown",
   "metadata": {
    "collapsed": true
   },
   "source": [
    "## [Day 8](https://adventofcode.com/2017/day/8): I Heard You Like Registers\n",
    "\n",
    "The task is to compute the result of a series of unusual register instructions. Each instruction consists of several parts: the register to modify, whether to increase or decrease that register's value, the amount by which to increase or decrease it, and a condition. If the condition fails, skip the instruction without modifying the register. The registers all start at `0`.\n",
    "\n",
    "> What is the **largest value** in any register after completing the instructions in your puzzle input?"
   ]
  },
  {
   "cell_type": "code",
   "execution_count": 11,
   "metadata": {
    "collapsed": true
   },
   "outputs": [],
   "source": [
    "/**\n",
    " * Parse comparison operator\n",
    " */\n",
    "fun <A : Comparable<A>> parseComparisonOperator(operator: String): (A, A) -> Boolean {\n",
    "    return when (operator) {\n",
    "        \"==\" -> { x, y -> x == y }\n",
    "        \"!=\" -> { x, y -> x != y }\n",
    "        \">\" -> { x, y -> x > y }\n",
    "        \">=\" -> { x, y -> x >= y }\n",
    "        \"<\" -> { x, y -> x < y }\n",
    "        \"<=\" -> { x, y -> x <= y }\n",
    "        else -> { _, _ -> false }\n",
    "    }\n",
    "}"
   ]
  },
  {
   "cell_type": "code",
   "execution_count": 10,
   "metadata": {
    "collapsed": false
   },
   "outputs": [
    {
     "data": {
      "text/plain": [
       "6012"
      ]
     },
     "execution_count": 10,
     "metadata": {},
     "output_type": "execute_result"
    }
   ],
   "source": [
    "/**\n",
    " * Execute register instructions and return register assignment\n",
    " */\n",
    "fun execute(input: String): Pair<Map<String, Int>, Int> {\n",
    "\n",
    "    val registers = mutableMapOf<String, Int>()\n",
    "    var highest = 0\n",
    "    for (line in input.lines()) {\n",
    "        val instruction = line.split(\" \")\n",
    "        val register = instruction[0]\n",
    "        val operator = instruction[1]\n",
    "        val operand = instruction[2].toInt()\n",
    "        val conditionRegister = instruction[4]\n",
    "        val condition = parseComparisonOperator<Int>(instruction[5])\n",
    "        val conditionValue = instruction[6].toInt()\n",
    "\n",
    "        if (!registers.containsKey(register)) {\n",
    "            registers.put(register, 0)\n",
    "        }\n",
    "        if (!registers.containsKey(conditionRegister)) {\n",
    "            registers.put(conditionRegister, 0)\n",
    "        }\n",
    "\n",
    "        val conditionHolds = condition(registers[conditionRegister]!!, conditionValue)\n",
    "        if (conditionHolds) {\n",
    "            when (operator) {\n",
    "                \"inc\" -> registers[register] = registers[register]!! + operand\n",
    "                \"dec\" -> registers[register] = registers[register]!! - operand\n",
    "            }\n",
    "        }\n",
    "        if (registers[register]!! > highest) highest = registers[register]!!\n",
    "    }\n",
    "    return Pair(registers, highest)\n",
    "}\n",
    "\n",
    "val test = \"\"\"\n",
    "b inc 5 if a > 1\n",
    "a inc 1 if b < 5\n",
    "c dec -10 if a >= 1\n",
    "c inc -20 if c == 10\n",
    "\"\"\"\n",
    "\n",
    "assertEquals(1, execute(test.trim()).first.values.max())\n",
    "\n",
    "val day8url = \"https://gist.githubusercontent.com/rafaelkonlechner/d80f92bee35a468aa4d00dca57c1be02/raw/d59b94dc8923e90be00876468bf33c5f404e0e51/advent-of-code-day8.txt\"\n",
    "val input = getContent(URL(day8url))\n",
    "val registers = execute(input).first\n",
    "registers.values.max()"
   ]
  },
  {
   "cell_type": "markdown",
   "metadata": {
    "collapsed": true
   },
   "source": [
    "For **Part 2**, the question was slightly different:\n",
    "\n",
    "> What is the **highest value** held in any register during this process"
   ]
  },
  {
   "cell_type": "code",
   "execution_count": 12,
   "metadata": {
    "collapsed": false
   },
   "outputs": [
    {
     "data": {
      "text/plain": [
       "6369"
      ]
     },
     "execution_count": 12,
     "metadata": {},
     "output_type": "execute_result"
    }
   ],
   "source": [
    "execute(input).second"
   ]
  },
  {
   "cell_type": "markdown",
   "metadata": {
    "collapsed": true
   },
   "source": [
    "## [Day 9](http://adventofcode.com/2017/day/9): Stream Processing\n",
    "\n",
    "For this assignment, character streams need to be analyzed. The characters represent groups - sequences that begin with { and end with }. Within a group, there are zero or more other things, separated by commas: either another group or garbage. Since groups can contain other groups, a '}' only closes the most-recently-opened unclosed group - that is, they are nestable. The puzzle input represents a single, large group which itself contains many smaller ones.\n",
    "Sometimes, instead of a group, you will find garbage. Garbage begins with < and ends with >. Between those angle brackets, almost any character can appear, including { and }. Within garbage, < has no special meaning. Inside garbage, any character that comes after ! should be ignored, including <, >, and even another !.\n",
    "\n",
    "You don't see any characters that deviate from these rules. Outside garbage, you only find well-formed groups, and garbage always terminates according to the rules above.\n",
    "\n",
    "The goal is to find the total score for all groups in the input. Each group is assigned a score which is one more than the score of the group that immediately contains it. (The outermost group gets a score of 1.)\n",
    "\n",
    "> What is the **total score for all groups** in your input?\n",
    "\n",
    "As a preparation steps, I added two methods to `String`: `removeWithin(openChar, closeChar)` and `escape(escapeChar)`, where the first method will remove any character enclosed within the two symbols and the latter one removing all escaped characters."
   ]
  },
  {
   "cell_type": "code",
   "execution_count": 2,
   "metadata": {
    "collapsed": false
   },
   "outputs": [
    {
     "name": "stdout",
     "output_type": "stream",
     "text": [
      "Hello World.\n",
      "Hello World.\n",
      "Hello World.\n"
     ]
    }
   ],
   "source": [
    "/**\n",
    " * Remove all characters between [openChar] and [closeChar] for all occurrences.\n",
    " */\n",
    "fun String.removeWithin(openChar: Char, closeChar: Char) = replace(Regex(\"$openChar.*?$closeChar\"), \"\")\n",
    "\n",
    "/**\n",
    " * Remove the specified escape character as well as the character directly behind it.\n",
    " */\n",
    "fun String.escape(escapeChar: Char) = replace(Regex(\"$escapeChar.\"), \"\")\n",
    "\n",
    "fun removeGarbage(input: String) = input.escape('!').removeWithin('<', '>')\n",
    "    \n",
    "println(\"Hello W!oorld.\".escape('!'))\n",
    "println(\"Hello<, can> World< hear me?>.\".removeWithin('<', '>'))\n",
    "println(removeGarbage(\"Hello<, can> W!oorld< he!aar me?>.\"))"
   ]
  },
  {
   "cell_type": "code",
   "execution_count": 3,
   "metadata": {
    "collapsed": false
   },
   "outputs": [
    {
     "data": {
      "text/plain": [
       "12803"
      ]
     },
     "execution_count": 3,
     "metadata": {},
     "output_type": "execute_result"
    }
   ],
   "source": [
    "/**\n",
    " * Count groups\n",
    " */\n",
    "fun countGroups(input: String): Int {\n",
    "    var score = 0\n",
    "    var depth = 0\n",
    "    for (i in input) {\n",
    "        when (i) {\n",
    "            '{' -> depth++\n",
    "            '}' -> {\n",
    "                score += depth\n",
    "                depth--\n",
    "            }\n",
    "        }\n",
    "    }\n",
    "    return score\n",
    "}\n",
    "\n",
    "val tests = listOf(\n",
    "        Pair(\"{}\", 1),\n",
    "        Pair(\"{{{}}}\", 6),\n",
    "        Pair(\"{{},{}}\", 5),\n",
    "        Pair(\"{{{},{},{{}}}}\", 16),\n",
    "        Pair(\"{<a>,<a>,<a>,<a>}\", 1),\n",
    "        Pair(\"{{<ab>},{<ab>},{<ab>},{<ab>}}\", 9),\n",
    "        Pair(\"{{<!!>},{<!!>},{<!!>},{<!!>}}\", 9),\n",
    "        Pair(\"{{<a!>},{<a!>},{<a!>},{<ab>}}\", 3)\n",
    ")\n",
    "\n",
    "for (test in tests) {\n",
    "    assertEquals(test.second, countGroups(removeGarbage(test.first)))\n",
    "}\n",
    "\n",
    "val day9url = \"https://gist.githubusercontent.com/rafaelkonlechner/fec5b6e5f8fdd752fb2798cabac0dbdb/raw/d63927369410e5305df6b6fca896932b4c9b7eec/advent-of-code-day9.txt\"\n",
    "val input = getContent(URL(day9url))\n",
    "countGroups(removeGarbage(input))"
   ]
  },
  {
   "cell_type": "markdown",
   "metadata": {},
   "source": [
    "For **Part 2**, the assignment is to count the number of"
   ]
  },
  {
   "cell_type": "code",
   "execution_count": 6,
   "metadata": {
    "collapsed": false
   },
   "outputs": [
    {
     "data": {
      "text/plain": [
       "6425"
      ]
     },
     "execution_count": 6,
     "metadata": {},
     "output_type": "execute_result"
    }
   ],
   "source": [
    "fun countGarbage(input: String): Int {\n",
    "    var open = false\n",
    "    var count = 0\n",
    "    for (i in input) {\n",
    "        when {\n",
    "            i == '<' && !open -> open = true\n",
    "            i == '>' -> open = false\n",
    "            else -> if (open) count++\n",
    "        }\n",
    "    }\n",
    "    return count\n",
    "}\n",
    "\n",
    "val tests = listOf(\n",
    "        Pair(\"<>\", 0),\n",
    "        Pair(\"<random characters>\", 17),\n",
    "        Pair(\"<<<<>\", 3),\n",
    "        Pair(\"<{!>}>\", 2),\n",
    "        Pair(\"<!!>\", 0),\n",
    "        Pair(\"<!!!>>\", 0),\n",
    "        Pair(\"<{o\\\"i!a,<{i<a>\", 10)\n",
    ")\n",
    "\n",
    "for (test in tests) {\n",
    "    assertEquals(test.second, countGarbage(test.first.escape('!')))\n",
    "    assertEquals(0, countGarbage(removeGarbage(test.first)))\n",
    "}\n",
    "\n",
    "countGarbage(input.escape('!'))"
   ]
  },
  {
   "cell_type": "code",
   "execution_count": null,
   "metadata": {
    "collapsed": true
   },
   "outputs": [],
   "source": []
  }
 ],
 "metadata": {
  "kernelspec": {
   "display_name": "Kotlin",
   "language": "kotlin",
   "name": "kotlin"
  },
  "language_info": {
   "file_extension": "kt",
   "name": "kotlin"
  }
 },
 "nbformat": 4,
 "nbformat_minor": 1
}
