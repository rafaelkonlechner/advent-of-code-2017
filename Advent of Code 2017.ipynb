{
 "cells": [
  {
   "cell_type": "markdown",
   "metadata": {},
   "source": [
    "# Advent of Code 2017\n",
    "In this notebook, I will collect the solutions to the puzzles appearing on [Advent of Code](https://adventofcode.com/2017) 2017. Unlike [Peter Norvig](https://github.com/norvig/pytudes/blob/master/ipynb/Advent%20of%20Code.ipynb), I will solve the puzzles in *Kotlin*."
   ]
  },
  {
   "cell_type": "markdown",
   "metadata": {},
   "source": [
    "## [Day 1](https://adventofcode.com/2017/day/1): Inverse Captcha\n",
    "Given a sequence of digits, find the sum of all digits that match the next digit in the list. The list is circular, so the digit after the last digit is the first digit in the list."
   ]
  },
  {
   "cell_type": "code",
   "execution_count": 1,
   "metadata": {
    "collapsed": false
   },
   "outputs": [
    {
     "data": {
      "text/plain": [
       "1097"
      ]
     },
     "execution_count": 1,
     "metadata": {},
     "output_type": "execute_result"
    }
   ],
   "source": [
    "/**\n",
    " * Split a sequence of digits into a list of digits.\n",
    " */\n",
    "fun split(seq: String) = seq.map { it.toString().toInt() }\n",
    "\n",
    "assert(split(\"123\") == listOf(1, 2, 3))\n",
    "\n",
    "/**\n",
    " * Solve captcha according to the rule stated above.\n",
    " */\n",
    "fun solveCaptcha(seq: List<Int>): Int {\n",
    "    var sum = 0\n",
    "    for (i in seq.indices) {\n",
    "        if (seq[i] == seq[(i + 1) % seq.size]) {\n",
    "            sum += seq[i]\n",
    "        }\n",
    "    }\n",
    "    return sum\n",
    "}\n",
    "\n",
    "/**\n",
    " * Test cases from the assignment:\n",
    " */\n",
    "val tests = listOf(Pair(\"1122\", 3), Pair(\"1111\", 4), Pair(\"1234\", 0), Pair(\"91212129\", 9))\n",
    "\n",
    "for (test in tests) {\n",
    "    assert(solveCaptcha(split(test.first)) == test.second)\n",
    "}\n",
    "\n",
    "val input = \"818275977931166178424892653779931342156567268946849597948944469863818248114327524824136924486891794739281668741616818614613222585132742386168687517939432911753846817997473555693821316918473474459788714917665794336753628836231159578734813485687247273288926216976992516314415836985611354682821892793983922755395577592859959966574329787693934242233159947846757279523939217844194346599494858459582798326799512571365294673978955928416955127211624234143497546729348687844317864243859238665326784414349618985832259224761857371389133635711819476969854584123589566163491796442167815899539788237118339218699137497532932492226948892362554937381497389469981346971998271644362944839883953967698665427314592438958181697639594631142991156327257413186621923369632466918836951277519421695264986942261781256412377711245825379412978876134267384793694756732246799739464721215446477972737883445615664755923441441781128933369585655925615257548499628878242122434979197969569971961379367756499884537433839217835728263798431874654317137955175565253555735968376115749641527957935691487965161211853476747758982854811367422656321836839326818976668191525884763294465366151349347633968321457954152621175837754723675485348339261288195865348545793575843874731785852718281311481217515834822185477982342271937155479432673815629144664144538221768992733498856934255518875381672342521819499939835919827166318715849161715775427981485233467222586764392783699273452228728667175488552924399518855743923659815483988899924199449721321589476864161778841352853573584489497263216627369841455165476954483715112127465311353411346132671561568444626828453687183385215975319858714144975174516356117245993696521941589168394574287785233685284294357548156487538175462176268162852746996633977948755296869616778577327951858348313582783675149343562362974553976147259225311183729415381527435926224781181987111454447371894645359797229493458443522549386769845742557644349554641538488252581267341635761715674381775778868374988451463624332123361576518411234438681171864923916896987836734129295354684962897616358722633724198278552339794629939574841672355699222747886785616814449297817352118452284785694551841431869545321438468118\"\n",
    "\n",
    "solveCaptcha(split(input))"
   ]
  },
  {
   "cell_type": "markdown",
   "metadata": {
    "collapsed": true
   },
   "source": [
    "For **Part 2**, instead of considering the next digit, consider the digit halfway around the circular list. That is, if your list contains 10 items, only include a digit in your sum if the digit `10/2 = 5` steps forward matches it. Fortunately, your list has an even number of elements.\n",
    "\n"
   ]
  },
  {
   "cell_type": "code",
   "execution_count": 2,
   "metadata": {
    "collapsed": false
   },
   "outputs": [
    {
     "data": {
      "text/plain": [
       "1188"
      ]
     },
     "execution_count": 2,
     "metadata": {},
     "output_type": "execute_result"
    }
   ],
   "source": [
    "fun solveCaptchaTwo(seq: List<Int>): Int {\n",
    "    var sum = 0\n",
    "    for (i in seq.indices) {\n",
    "        if (seq[i] == seq[(i + (seq.size / 2)) % seq.size]) {\n",
    "            sum += seq[i]\n",
    "        }\n",
    "    }\n",
    "    return sum\n",
    "}\n",
    "solveCaptchaTwo(split(input))"
   ]
  },
  {
   "cell_type": "markdown",
   "metadata": {
    "collapsed": true
   },
   "source": [
    "## [Day 2](https://adventofcode.com/2017/day/2): Corruption Checksum\n",
    "For each row, determine the difference between the largest value and the smallest value; the checksum is the sum of all of these differences."
   ]
  },
  {
   "cell_type": "code",
   "execution_count": 10,
   "metadata": {
    "collapsed": false
   },
   "outputs": [
    {
     "data": {
      "text/plain": [
       "45972"
      ]
     },
     "execution_count": 10,
     "metadata": {},
     "output_type": "execute_result"
    }
   ],
   "source": [
    "/**\n",
    " * Parse a sequence of line- and tab-separated numbers into a two-dimensional list. \n",
    " */\n",
    "fun parse(input: String): List<List<Int>> {\n",
    "    return input.split(\"\\n\").map { it.split(\"\\t\").filter { it.isNotEmpty() }.map { it.toInt() } }\n",
    "}\n",
    "\n",
    "assert (parse(\"1\\t2\\n3\\t4\") == listOf(listOf(1, 2), listOf(3, 4)))\n",
    "\n",
    "/**\n",
    " * Compute the checksum as the sum of the difference between the max and the min value of each row.\n",
    " */\n",
    "fun checksum(input: List<List<Int>>): Int {\n",
    "    return input.map {\n",
    "        (it.max() ?: 0) - (it.min() ?: 0)\n",
    "    }.sum()\n",
    "}\n",
    "\n",
    "val test = \"\"\"\n",
    "5\t1\t9\t5\n",
    "7\t5\t3\n",
    "2\t4\t6\t8\n",
    "\"\"\"\n",
    "\n",
    "assert(checksum(parse(test)) == 18)\n",
    "\n",
    "val input = \"\"\"\n",
    "515\t912\t619\t2043\t96\t93\t2242\t1385\t2110\t860\t2255\t621\t1480\t118\t1230\t99\n",
    "161\t6142\t142\t1742\t237\t6969\t211\t4314\t5410\t4413\t3216\t6330\t261\t3929\t5552\t109\n",
    "1956\t4470\t3577\t619\t105\t3996\t128\t1666\t720\t4052\t108\t132\t2652\t306\t1892\t1869\n",
    "2163\t99\t2257\t895\t112\t1771\t1366\t1631\t2064\t2146\t103\t865\t123\t1907\t2362\t876\n",
    "1955\t3260\t1539\t764\t185\t5493\t5365\t5483\t4973\t175\t207\t1538\t4824\t205\t1784\t2503\n",
    "181\t3328\t2274\t3798\t1289\t2772\t4037\t851\t1722\t3792\t175\t603\t725\t158\t2937\t174\n",
    "405\t247\t2083\t956\t725\t258\t2044\t206\t2054\t561\t2223\t2003\t2500\t355\t306\t2248\n",
    "837\t937\t225\t1115\t446\t451\t160\t1219\t56\t61\t62\t922\t58\t1228\t1217\t1302\n",
    "1371\t1062\t2267\t111\t135\t2113\t1503\t2130\t1995\t2191\t129\t2494\t2220\t739\t138\t1907\n",
    "3892\t148\t2944\t371\t135\t1525\t3201\t3506\t3930\t3207\t115\t3700\t2791\t597\t3314\t132\n",
    "259\t162\t186\t281\t210\t180\t184\t93\t135\t208\t88\t178\t96\t25\t103\t161\n",
    "1080\t247\t1036\t936\t108\t971\t908\t1035\t123\t974\t103\t1064\t129\t1189\t1089\t938\n",
    "148\t1874\t122\t702\t922\t2271\t123\t111\t454\t1872\t2142\t2378\t126\t813\t1865\t1506\n",
    "842\t267\t230\t1665\t2274\t236\t262\t1714\t3281\t4804\t4404\t3833\t661\t4248\t3893\t1105\n",
    "1112\t1260\t809\t72\t1104\t156\t104\t1253\t793\t462\t608\t84\t99\t1174\t449\t929\n",
    "707\t668\t1778\t1687\t2073\t1892\t62\t1139\t908\t78\t1885\t800\t945\t712\t57\t65\n",
    "\"\"\"\n",
    "\n",
    "checksum(parse(input))"
   ]
  },
  {
   "cell_type": "markdown",
   "metadata": {},
   "source": [
    "For **Part 2** the goal is to find the only two numbers in each row where one evenly divides the other - that is, where the result of the division operation is a whole number. Find those numbers on each line, divide them, and add up each line's result."
   ]
  },
  {
   "cell_type": "code",
   "execution_count": 14,
   "metadata": {
    "collapsed": false
   },
   "outputs": [
    {
     "data": {
      "text/plain": [
       "326"
      ]
     },
     "execution_count": 14,
     "metadata": {},
     "output_type": "execute_result"
    }
   ],
   "source": [
    "/**\n",
    " * Extension: Form all tuples of a Cartesian product with another list.\n",
    " */\n",
    "fun <A, B> List<A>.cartesianProduct(list: List<B>): List<Pair<A, B>> = flatMap { a -> list.map { b -> Pair(a, b) } }\n",
    "\n",
    "val given = listOf(1, 2).cartesianProduct(listOf(\"a\", \"b\"))\n",
    "val expected = listOf(Pair(1, \"a\"), Pair(1, \"b\"), Pair(2 , \"a\"), Pair(2, \"b\"))\n",
    "\n",
    "assert(given == expected)\n",
    "\n",
    "/**\n",
    " * Compute the checksum as the sum of the quotients by the only two evenly dividable numbers of each row.\n",
    " */\n",
    "fun checksumTwo(input: List<List<Int>>): Int {\n",
    "    return input.map { list ->\n",
    "        list.cartesianProduct(list).find { (a, b) -> a != b && a % b == 0 }.let {\n",
    "            (it?.first ?: 0) / (it?.second ?: 1)\n",
    "        }\n",
    "    }.sum()\n",
    "}\n",
    "\n",
    "val test = \"\"\"\n",
    "5\t9\t2\t8\n",
    "9\t4\t7\t3\n",
    "3\t8\t6\t5\n",
    "\"\"\"\n",
    "\n",
    "assert(checksum(parse(test)) == 9)\n",
    "\n",
    "checksumTwo(parse(input))"
   ]
  },
  {
   "cell_type": "code",
   "execution_count": null,
   "metadata": {
    "collapsed": true
   },
   "outputs": [],
   "source": []
  }
 ],
 "metadata": {
  "kernelspec": {
   "display_name": "Kotlin",
   "language": "kotlin",
   "name": "kotlin"
  },
  "language_info": {
   "file_extension": "kt",
   "name": "kotlin"
  }
 },
 "nbformat": 4,
 "nbformat_minor": 1
}
